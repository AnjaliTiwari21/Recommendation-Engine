{
 "cells": [
  {
   "cell_type": "code",
   "execution_count": 1,
   "metadata": {
    "collapsed": false
   },
   "outputs": [],
   "source": [
    "#importing the necessary libraries\n",
    "from py2neo import *\n",
    "import datetime as dt\n",
    "import pandas as pd\n",
    "import matplotlib.pyplot as plt\n",
    "%matplotlib inline\n",
    "from wordcloud import WordCloud, STOPWORDS, ImageColorGenerator\n",
    "import nltk\n",
    "from nltk.corpus import stopwords\n",
    "from nltk import word_tokenize\n",
    "from nltk.stem import PorterStemmer\n",
    "from sklearn.feature_extraction.text import TfidfVectorizer, CountVectorizer\n",
    "#nltk.download('stopwords') # run this one time\n",
    "#nltk.download('punkts')\n",
    "import numpy as np\n",
    "import re\n"
   ]
  },
  {
   "cell_type": "code",
   "execution_count": 2,
   "metadata": {
    "collapsed": false
   },
   "outputs": [
    {
     "name": "stdout",
     "output_type": "stream",
     "text": [
      "Stage 1.Graph Initiation\n"
     ]
    },
    {
     "data": {
      "text/plain": [
       "<py2neo.database.Transaction at 0x150ede80>"
      ]
     },
     "execution_count": 2,
     "metadata": {},
     "output_type": "execute_result"
    }
   ],
   "source": [
    "# Graph Initialisation for Importing Data from NoSQL Database(Neo4j)\n",
    "\n",
    "driver = Graph(\"\", auth=(\"neo4j\", \"Neo4j\"))\n",
    "\n",
    "uri = \"\"\n",
    "user = \"neo4j\"\n",
    "password = \"Neo4j\"\n",
    "\n",
    "print(\"Stage 1.Graph Initiation\")\n",
    "yelp_graph = Graph(uri=uri, user=user, password=password)\n",
    "\n",
    "yelp_graph.begin()"
   ]
  },
  {
   "cell_type": "markdown",
   "metadata": {},
   "source": [
    "<b>Exploratory Data Analysis using Neo4j Cypher Queries<b>"
   ]
  },
  {
   "cell_type": "code",
   "execution_count": 3,
   "metadata": {
    "collapsed": false
   },
   "outputs": [
    {
     "name": "stdout",
     "output_type": "stream",
     "text": [
      "1. The total number of records for business,users,reviews and categories in Neo4j Database after import\n",
      "\n",
      " Label    | Records \n",
      "----------|---------\n",
      " business |   18153 \n",
      " cat      |    1714 \n",
      " user     |   12988 \n",
      " review   |   10000 \n",
      "\n"
     ]
    }
   ],
   "source": [
    "print(\"1. The total number of records for business,users,reviews and categories in Neo4j Database after import\\n\")\n",
    "print(yelp_graph.run(\"match (n) return head(labels(n)) as Label, count(*) as Records\").to_table())\n"
   ]
  },
  {
   "cell_type": "code",
   "execution_count": 4,
   "metadata": {
    "collapsed": false
   },
   "outputs": [
    {
     "name": "stdout",
     "output_type": "stream",
     "text": [
      "2. Top 10 users who have given most of the reviews\n",
      "\n",
      " UserID                 | UserName      | Posts \n",
      "------------------------|---------------|-------\n",
      " YHWsLBS8jzZiPjKHMFOaAA | TOFoodReviews |   105 \n",
      " UGW-9bbBEB3eP1o6mWD_WA | Janet         |    78 \n",
      " YgavGxfAdjhkkbwlAY_9ZQ | Michelle      |    73 \n",
      " OQT9DjfBrzrwOEdVJjuYIA | Bee           |    63 \n",
      " PkRFSQgSfca9Tamq7b2LdQ | null          |    63 \n",
      " AuIK5tF2GjO7SftHawTLKw | Jaymee        |    61 \n",
      " 0pf5VuzE4_1pwj5NJHG5TQ | null          |    59 \n",
      " q3AiAe-AcpDrNsdZf8nCvQ | null          |    52 \n",
      " kBNFdviedCPFWyR-wVaAzw | null          |    46 \n",
      " KjT3D4gZd5B-_WKgzmWjKg | Charlene      |    45 \n",
      "\n"
     ]
    }
   ],
   "source": [
    "print(\"2. Top 10 users who have given most of the reviews\\n\")\n",
    "print(yelp_graph.run(\"match (u:user) with u,size( (u)-[:WROTE]->()) as Posts order by Posts desc limit 10 return u.uid as UserID,u.Name as UserName, Posts\").to_table())"
   ]
  },
  {
   "cell_type": "code",
   "execution_count": 5,
   "metadata": {
    "collapsed": false
   },
   "outputs": [
    {
     "name": "stdout",
     "output_type": "stream",
     "text": [
      "3. Top 10 Businesses under multiple categories\n",
      "\n",
      " BusinessID             | BusinessName                     | Categories \n",
      "------------------------|----------------------------------|------------\n",
      " FB6OfSEepN2OEMu3Uw2ImA | Magnolia Emporium                |         19 \n",
      " FGL-4F9q8f1su5gAt8g4CQ | Margoa Aquatic Bodywork          |         15 \n",
      " ljkkLrW1j-tZtrJq9SFjVQ | Hempful Farms                    |         15 \n",
      " In1B_y225-bJw3jfbk1uAA | Ako International Market         |         15 \n",
      " 6fsEuvtwwaX6VnJiWN-k4Q | Mommy 2B Experience              |         15 \n",
      " CtrbT5RPibrGfiq8tSHVTQ | PANDA Carpet and Tile Cleaning   |         15 \n",
      " eva56motCJcevOwKzyQO1g | Schenley Park Visitors Center    |         15 \n",
      " hTF1Qo6PRFnDgg1rh9a9BQ | Bridal Path Invitations Boutique |         14 \n",
      " sAMQU5CtyGiG4ZwRczN61g | VIVA IV Therapy                  |         14 \n",
      " -L9TeQN_JgLBvqf9wmsBVQ | The Broken Spoke                 |         14 \n",
      "\n"
     ]
    }
   ],
   "source": [
    "print(\"3. Top 10 Businesses under multiple categories\\n\")\n",
    "print(yelp_graph.run(\"MATCH (n:business) with n,size((n)-[:IN_CATEGORY]->()) as Categories order by Categories desc limit 10 return n.Bid as BusinessID,n.Name as BusinessName,Categories;\").to_table())"
   ]
  },
  {
   "cell_type": "code",
   "execution_count": 6,
   "metadata": {
    "collapsed": false
   },
   "outputs": [
    {
     "name": "stdout",
     "output_type": "stream",
     "text": [
      "Empty DataFrame\n",
      "Columns: []\n",
      "Index: []\n"
     ]
    }
   ],
   "source": [
    "print(yelp_graph.run(\"MATCH (r:review)-[:REVIEWED]->(b:business) WHERE b.Bid = 'FB6OfSEepN2OEMu3Uw2ImA' return b.Bid as BusinessID,b.Name as BusinessName,b.city as City,b.state as State, b.review_count as numberofreviews,b.stars as numberofstars,r.text as REVIEW_TEXT\").to_data_frame())"
   ]
  },
  {
   "cell_type": "markdown",
   "metadata": {},
   "source": [
    "<b> Exploratory data Analysis using other Python libraries"
   ]
  },
  {
   "cell_type": "code",
   "execution_count": 7,
   "metadata": {
    "collapsed": false
   },
   "outputs": [
    {
     "name": "stdout",
     "output_type": "stream",
     "text": [
      "Retreiving all reviews text and their ids from neo4j to python and storing them into a dataframe\n",
      "\n"
     ]
    },
    {
     "data": {
      "text/html": [
       "<div>\n",
       "<table border=\"1\" class=\"dataframe\">\n",
       "  <thead>\n",
       "    <tr style=\"text-align: right;\">\n",
       "      <th></th>\n",
       "      <th>r.date</th>\n",
       "      <th>r.rid</th>\n",
       "      <th>r.stars</th>\n",
       "      <th>r.text</th>\n",
       "      <th>r.useful</th>\n",
       "    </tr>\n",
       "  </thead>\n",
       "  <tbody>\n",
       "    <tr>\n",
       "      <th>0</th>\n",
       "      <td>2014-01-27</td>\n",
       "      <td>jYrqbQ0bJxZLLyFS8shuAg</td>\n",
       "      <td>3</td>\n",
       "      <td>For the price, the lunch specials are well wor...</td>\n",
       "      <td>1</td>\n",
       "    </tr>\n",
       "    <tr>\n",
       "      <th>1</th>\n",
       "      <td>2016-06-22</td>\n",
       "      <td>oj03nFMkiq-9H-8Lx2ucXA</td>\n",
       "      <td>1</td>\n",
       "      <td>Terrible customer service.  Was looking to buy...</td>\n",
       "      <td>5</td>\n",
       "    </tr>\n",
       "    <tr>\n",
       "      <th>2</th>\n",
       "      <td>2009-08-06</td>\n",
       "      <td>lt7nl9Zlmlo8Uq175yIVaA</td>\n",
       "      <td>3</td>\n",
       "      <td>My first time to try Brazilian Steakhouse a co...</td>\n",
       "      <td>0</td>\n",
       "    </tr>\n",
       "    <tr>\n",
       "      <th>3</th>\n",
       "      <td>2010-07-06</td>\n",
       "      <td>fvmbDYauSiZ20PapoJygMQ</td>\n",
       "      <td>5</td>\n",
       "      <td>The employees are for the most part very frien...</td>\n",
       "      <td>2</td>\n",
       "    </tr>\n",
       "    <tr>\n",
       "      <th>4</th>\n",
       "      <td>2017-06-16</td>\n",
       "      <td>BK3QDGUWzHYlWbv2DBhkWQ</td>\n",
       "      <td>1</td>\n",
       "      <td>Has gone downhill, AVOID. Used to wash blanket...</td>\n",
       "      <td>1</td>\n",
       "    </tr>\n",
       "  </tbody>\n",
       "</table>\n",
       "</div>"
      ],
      "text/plain": [
       "       r.date                   r.rid  r.stars  \\\n",
       "0  2014-01-27  jYrqbQ0bJxZLLyFS8shuAg        3   \n",
       "1  2016-06-22  oj03nFMkiq-9H-8Lx2ucXA        1   \n",
       "2  2009-08-06  lt7nl9Zlmlo8Uq175yIVaA        3   \n",
       "3  2010-07-06  fvmbDYauSiZ20PapoJygMQ        5   \n",
       "4  2017-06-16  BK3QDGUWzHYlWbv2DBhkWQ        1   \n",
       "\n",
       "                                              r.text  r.useful  \n",
       "0  For the price, the lunch specials are well wor...         1  \n",
       "1  Terrible customer service.  Was looking to buy...         5  \n",
       "2  My first time to try Brazilian Steakhouse a co...         0  \n",
       "3  The employees are for the most part very frien...         2  \n",
       "4  Has gone downhill, AVOID. Used to wash blanket...         1  "
      ]
     },
     "execution_count": 7,
     "metadata": {},
     "output_type": "execute_result"
    }
   ],
   "source": [
    "print(\"Retreiving all reviews text and their ids from neo4j to python and storing them into a dataframe\\n\")\n",
    "reviews_df = yelp_graph.run(\"MATCH (r:review) RETURN r.rid,r.date,r.text,r.stars,r.useful\").to_data_frame()\n",
    "\n",
    "reviews_df.head()"
   ]
  },
  {
   "cell_type": "code",
   "execution_count": 8,
   "metadata": {
    "collapsed": false
   },
   "outputs": [
    {
     "name": "stdout",
     "output_type": "stream",
     "text": [
      "Some basic analysis of the reviews_df dataframe\n",
      "\n"
     ]
    },
    {
     "data": {
      "text/html": [
       "<div>\n",
       "<table border=\"1\" class=\"dataframe\">\n",
       "  <thead>\n",
       "    <tr style=\"text-align: right;\">\n",
       "      <th></th>\n",
       "      <th>r.stars</th>\n",
       "      <th>r.useful</th>\n",
       "    </tr>\n",
       "  </thead>\n",
       "  <tbody>\n",
       "    <tr>\n",
       "      <th>count</th>\n",
       "      <td>10000.000000</td>\n",
       "      <td>10000.000000</td>\n",
       "    </tr>\n",
       "    <tr>\n",
       "      <th>mean</th>\n",
       "      <td>3.684300</td>\n",
       "      <td>1.073300</td>\n",
       "    </tr>\n",
       "    <tr>\n",
       "      <th>std</th>\n",
       "      <td>1.524095</td>\n",
       "      <td>2.503908</td>\n",
       "    </tr>\n",
       "    <tr>\n",
       "      <th>min</th>\n",
       "      <td>1.000000</td>\n",
       "      <td>0.000000</td>\n",
       "    </tr>\n",
       "    <tr>\n",
       "      <th>25%</th>\n",
       "      <td>2.000000</td>\n",
       "      <td>0.000000</td>\n",
       "    </tr>\n",
       "    <tr>\n",
       "      <th>50%</th>\n",
       "      <td>4.000000</td>\n",
       "      <td>0.000000</td>\n",
       "    </tr>\n",
       "    <tr>\n",
       "      <th>75%</th>\n",
       "      <td>5.000000</td>\n",
       "      <td>1.000000</td>\n",
       "    </tr>\n",
       "    <tr>\n",
       "      <th>max</th>\n",
       "      <td>5.000000</td>\n",
       "      <td>95.000000</td>\n",
       "    </tr>\n",
       "  </tbody>\n",
       "</table>\n",
       "</div>"
      ],
      "text/plain": [
       "            r.stars      r.useful\n",
       "count  10000.000000  10000.000000\n",
       "mean       3.684300      1.073300\n",
       "std        1.524095      2.503908\n",
       "min        1.000000      0.000000\n",
       "25%        2.000000      0.000000\n",
       "50%        4.000000      0.000000\n",
       "75%        5.000000      1.000000\n",
       "max        5.000000     95.000000"
      ]
     },
     "execution_count": 8,
     "metadata": {},
     "output_type": "execute_result"
    }
   ],
   "source": [
    "print(\"Some basic analysis of the reviews_df dataframe\\n\")\n",
    "reviews_df.describe()"
   ]
  },
  {
   "cell_type": "code",
   "execution_count": 9,
   "metadata": {
    "collapsed": false
   },
   "outputs": [
    {
     "data": {
      "text/plain": [
       "(10000, 5)"
      ]
     },
     "execution_count": 9,
     "metadata": {},
     "output_type": "execute_result"
    }
   ],
   "source": [
    "#Number of attributes and total number of records\n",
    "reviews_df.shape"
   ]
  },
  {
   "cell_type": "code",
   "execution_count": 10,
   "metadata": {
    "collapsed": false
   },
   "outputs": [
    {
     "name": "stdout",
     "output_type": "stream",
     "text": [
      "r.stars\n",
      "1    1699\n",
      "2     860\n",
      "3     916\n",
      "4    1949\n",
      "5    4576\n",
      "Name: r.rid, dtype: int64\n"
     ]
    },
    {
     "data": {
      "text/plain": [
       "<matplotlib.axes._subplots.AxesSubplot at 0x193dc710>"
      ]
     },
     "execution_count": 10,
     "metadata": {},
     "output_type": "execute_result"
    },
    {
     "data": {
      "image/png": "[encoded data removed]",
      "text/plain": [
       "<matplotlib.figure.Figure at 0x437b358>"
      ]
     },
     "metadata": {},
     "output_type": "display_data"
    }
   ],
   "source": [
    "#Counting the number of review as per their stars\n",
    "reviews=reviews_df.groupby(['r.stars'])['r.rid'].count()\n",
    "print(reviews)\n",
    "reviews.plot.bar(color=['0.2', '0.4', '0.4', '0.6'])"
   ]
  },
  {
   "cell_type": "markdown",
   "metadata": {},
   "source": [
    "The count of 5 stars is maximum and the count of 2 stars is least."
   ]
  },
  {
   "cell_type": "code",
   "execution_count": 11,
   "metadata": {
    "collapsed": false
   },
   "outputs": [
    {
     "data": {
      "text/plain": [
       "<matplotlib.axes._subplots.AxesSubplot at 0x1933acc0>"
      ]
     },
     "execution_count": 11,
     "metadata": {},
     "output_type": "execute_result"
    },
    {
     "data": {
      "image/png": "[encoded data removed]",
      "text/plain": [
       "<matplotlib.figure.Figure at 0x168df9b0>"
      ]
     },
     "metadata": {},
     "output_type": "display_data"
    }
   ],
   "source": [
    "reviews_useful=reviews_df.groupby(['r.useful'])['r.rid'].count()\n",
    "plt.xlabel(\"User rating on a card rate of 1 to 100(useful)\",fontsize=15)\n",
    "plt.ylabel(\"The number of businesses\",fontsize=15)\n",
    "reviews_df['r.useful'].hist(bins = 100)"
   ]
  },
  {
   "cell_type": "code",
   "execution_count": 12,
   "metadata": {
    "collapsed": false
   },
   "outputs": [
    {
     "name": "stdout",
     "output_type": "stream",
     "text": [
      "Skewness=11.654\n",
      "Statistics=0.413, p=0.000\n",
      "Data does not look normal (reject H0)\n"
     ]
    },
    {
     "name": "stderr",
     "output_type": "stream",
     "text": [
      "C:\\Users\\VArun\\AppData\\Local\\Enthought\\Canopy\\User\\lib\\site-packages\\scipy\\stats\\morestats.py:1653: UserWarning: p-value may not be accurate for N > 5000.\n",
      "  warnings.warn(\"p-value may not be accurate for N > 5000.\")\n"
     ]
    },
    {
     "data": {
      "text/plain": [
       "<matplotlib.axes._subplots.AxesSubplot at 0x17d27748>"
      ]
     },
     "execution_count": 12,
     "metadata": {},
     "output_type": "execute_result"
    },
    {
     "data": {
      "image/png": "[encoded data removed]",
      "text/plain": [
       "<matplotlib.figure.Figure at 0x17d1afd0>"
      ]
     },
     "metadata": {},
     "output_type": "display_data"
    }
   ],
   "source": [
    "import seaborn as sns\n",
    "from scipy.stats import shapiro\n",
    "sns.set_style(\"whitegrid\")   #background \n",
    "stat, p = shapiro(reviews_df['r.useful'])\n",
    "print('Skewness=%.3f' %reviews_df['r.useful'].skew())\n",
    "print('Statistics=%.3f, p=%.3f' %(stat, p))\n",
    "\n",
    "alpha = 0.05\n",
    "if p > alpha:\n",
    "    print('Data looks normal (fail to reject H0)')\n",
    "else:\n",
    "    print('Data does not look normal (reject H0)')\n",
    "\n",
    "sns.distplot(reviews_df['r.useful'])"
   ]
  },
  {
   "cell_type": "code",
   "execution_count": 13,
   "metadata": {
    "collapsed": false
   },
   "outputs": [
    {
     "data": {
      "text/plain": [
       "<matplotlib.text.Text at 0x17fd97b8>"
      ]
     },
     "execution_count": 13,
     "metadata": {},
     "output_type": "execute_result"
    },
    {
     "data": {
      "image/png": "[encoded data removed]",
      "text/plain": [
       "<matplotlib.figure.Figure at 0x1933ada0>"
      ]
     },
     "metadata": {},
     "output_type": "display_data"
    }
   ],
   "source": [
    "reviews_df['r.date'] = pd.to_datetime(reviews_df['r.date'])\n",
    "\n",
    "reviews_month = reviews_df.groupby(reviews_df['r.date'].dt.strftime('%B'))['r.rid'].count()\n",
    "\n",
    "reviews_month.sort_values(ascending=False).plot.bar()\n",
    "plt.xlabel(\"Month of Reviews\")\n",
    "plt.ylabel(\"Number of Reviews\")"
   ]
  },
  {
   "cell_type": "markdown",
   "metadata": {},
   "source": [
    "<b> Data Preprocessing </b>"
   ]
  },
  {
   "cell_type": "code",
   "execution_count": 14,
   "metadata": {
    "collapsed": false
   },
   "outputs": [
    {
     "data": {
      "image/png": "[encoded data removed]",
      "text/plain": [
       "<PIL.Image.Image image mode=RGB size=400x200 at 0x16E2ECF8>"
      ]
     },
     "execution_count": 14,
     "metadata": {},
     "output_type": "execute_result"
    }
   ],
   "source": [
    "#Understanding the text words and its occurences in all the review text\n",
    "review_text = reviews_df['r.text']\n",
    "review_wordcloud = WordCloud().generate(str(review_text))\n",
    "\n",
    "review_wordcloud.to_image()"
   ]
  },
  {
   "cell_type": "code",
   "execution_count": 15,
   "metadata": {
    "collapsed": false
   },
   "outputs": [
    {
     "data": {
      "image/png": "[encoded data removed]",
      "text/plain": [
       "<matplotlib.figure.Figure at 0x18513ef0>"
      ]
     },
     "metadata": {},
     "output_type": "display_data"
    }
   ],
   "source": [
    "all_words = ' '.join(reviews_df['r.text'])\n",
    "all_words = all_words.split()\n",
    "fdist = nltk.FreqDist(all_words)\n",
    "words_df = pd.DataFrame({'word':list(fdist.keys()), 'count':list(fdist.values())})\n",
    "#print(words_df)\n",
    "\n",
    "# selecting top 50 most frequent words\n",
    "d = words_df.nlargest(columns=\"count\", n = 50) \n",
    "plt.figure(figsize=(20,10))\n",
    "ax = sns.barplot(data=d, x= \"word\", y = \"count\")\n",
    "ax.set(ylabel = 'Count')\n",
    "plt.show()\n",
    "\n"
   ]
  },
  {
   "cell_type": "code",
   "execution_count": 16,
   "metadata": {
    "collapsed": false
   },
   "outputs": [
    {
     "data": {
      "text/html": [
       "<div>\n",
       "<table border=\"1\" class=\"dataframe\">\n",
       "  <thead>\n",
       "    <tr style=\"text-align: right;\">\n",
       "      <th></th>\n",
       "      <th>b.Bid</th>\n",
       "      <th>c.name</th>\n",
       "      <th>r.date</th>\n",
       "      <th>r.rid</th>\n",
       "      <th>r.stars</th>\n",
       "      <th>r.text</th>\n",
       "      <th>r.useful</th>\n",
       "    </tr>\n",
       "  </thead>\n",
       "  <tbody>\n",
       "    <tr>\n",
       "      <th>0</th>\n",
       "      <td>alG1fb1kl2vmT8s34jbbHg</td>\n",
       "      <td>Beauty &amp; Spas</td>\n",
       "      <td>2015-09-05</td>\n",
       "      <td>eShfPWENUmZ9sP7fstPt7Q</td>\n",
       "      <td>5</td>\n",
       "      <td>haircut cool atmospher peopl fair thorough lis...</td>\n",
       "      <td>1</td>\n",
       "    </tr>\n",
       "    <tr>\n",
       "      <th>1</th>\n",
       "      <td>alG1fb1kl2vmT8s34jbbHg</td>\n",
       "      <td>Hair Salons</td>\n",
       "      <td>2015-09-05</td>\n",
       "      <td>eShfPWENUmZ9sP7fstPt7Q</td>\n",
       "      <td>5</td>\n",
       "      <td>haircut cool atmospher peopl fair thorough lis...</td>\n",
       "      <td>1</td>\n",
       "    </tr>\n",
       "    <tr>\n",
       "      <th>2</th>\n",
       "      <td>s8PwBK300SvyJ-dxL-FOpg</td>\n",
       "      <td>Veterinarians</td>\n",
       "      <td>2016-09-03</td>\n",
       "      <td>HK53OvBgibiu7_v1VQK5wA</td>\n",
       "      <td>1</td>\n",
       "      <td>interest make money recommend extrem measur ne...</td>\n",
       "      <td>1</td>\n",
       "    </tr>\n",
       "    <tr>\n",
       "      <th>3</th>\n",
       "      <td>s8PwBK300SvyJ-dxL-FOpg</td>\n",
       "      <td>Pets</td>\n",
       "      <td>2016-09-03</td>\n",
       "      <td>HK53OvBgibiu7_v1VQK5wA</td>\n",
       "      <td>1</td>\n",
       "      <td>interest make money recommend extrem measur ne...</td>\n",
       "      <td>1</td>\n",
       "    </tr>\n",
       "    <tr>\n",
       "      <th>4</th>\n",
       "      <td>4Bw9XffSa0AMy2SrNCS2KA</td>\n",
       "      <td>Middle Eastern</td>\n",
       "      <td>2010-06-02</td>\n",
       "      <td>VQR9u5gWigPQqttg12zo-A</td>\n",
       "      <td>5</td>\n",
       "      <td>sababa move five statu strictli base falafel p...</td>\n",
       "      <td>2</td>\n",
       "    </tr>\n",
       "  </tbody>\n",
       "</table>\n",
       "</div>"
      ],
      "text/plain": [
       "                    b.Bid           c.name      r.date  \\\n",
       "0  alG1fb1kl2vmT8s34jbbHg    Beauty & Spas  2015-09-05   \n",
       "1  alG1fb1kl2vmT8s34jbbHg      Hair Salons  2015-09-05   \n",
       "2  s8PwBK300SvyJ-dxL-FOpg    Veterinarians  2016-09-03   \n",
       "3  s8PwBK300SvyJ-dxL-FOpg             Pets  2016-09-03   \n",
       "4  4Bw9XffSa0AMy2SrNCS2KA   Middle Eastern  2010-06-02   \n",
       "\n",
       "                    r.rid  r.stars  \\\n",
       "0  eShfPWENUmZ9sP7fstPt7Q        5   \n",
       "1  eShfPWENUmZ9sP7fstPt7Q        5   \n",
       "2  HK53OvBgibiu7_v1VQK5wA        1   \n",
       "3  HK53OvBgibiu7_v1VQK5wA        1   \n",
       "4  VQR9u5gWigPQqttg12zo-A        5   \n",
       "\n",
       "                                              r.text  r.useful  \n",
       "0  haircut cool atmospher peopl fair thorough lis...         1  \n",
       "1  haircut cool atmospher peopl fair thorough lis...         1  \n",
       "2  interest make money recommend extrem measur ne...         1  \n",
       "3  interest make money recommend extrem measur ne...         1  \n",
       "4  sababa move five statu strictli base falafel p...         2  "
      ]
     },
     "execution_count": 16,
     "metadata": {},
     "output_type": "execute_result"
    }
   ],
   "source": [
    "#Data Cleaning Techniques\n",
    "\n",
    "business_review=yelp_graph.run(\"MATCH (u:user)-[:WROTE]->(r:review)-[:REVIEWED]->(b:business)-[:IN_CATEGORY]->(c:cat) RETURN  r.rid,r.date,r.text,r.stars,r.useful,b.Bid,c.name\").to_data_frame()\n",
    "\n",
    "business_review['r.text']=business_review['r.text'].str.lower()\n",
    "business_review['r.text']=business_review['r.text'].str.replace(\"[^a-zA-Z#]\", \" \")\n",
    "\n",
    "# Load stop words\n",
    "stop_words = stopwords.words('english')\n",
    "\n",
    "\n",
    "stop_words.extend(['come','order','try','go','get','make','drink','plate','dish','restaurant','place','would','really','like','great','service','came','got','us','also','even','say','said','ciao','yummm','four','sleep','digit','star','monday','june','stay','staf','hate','good','food','time','one','back','order','love','well','price','order','nice','day','staff','please','let','thank','week','la','new','recommend','ago','went','perfect','pleas','work','definit','want','need','larg','excel'])\n",
    "\n",
    "\n",
    "# Tokenization\n",
    "business_review['r.text']=business_review['r.text'].apply(word_tokenize)\n",
    "    \n",
    "#Remove stop words\n",
    "business_review['r.text']=business_review['r.text'].apply(lambda x: [word for word in x if word not in stop_words])\n",
    "\n",
    "#Stemming through porterstemmer\n",
    "porter_stemmer=PorterStemmer()\n",
    "business_review['r.text']=business_review['r.text'].apply(lambda x:' '.join([porter_stemmer.stem(y) for y in x]))\n",
    "\n",
    "business_review.tail()\n",
    "\n",
    "#def more_stopwords(stop_words):\n",
    "\n",
    "business_review.head()\n"
   ]
  },
  {
   "cell_type": "code",
   "execution_count": 120,
   "metadata": {
    "collapsed": false
   },
   "outputs": [
    {
     "data": {
      "text/html": [
       "<div>\n",
       "<table border=\"1\" class=\"dataframe\">\n",
       "  <thead>\n",
       "    <tr style=\"text-align: right;\">\n",
       "      <th></th>\n",
       "      <th>b.Bid</th>\n",
       "      <th>r.rid</th>\n",
       "      <th>r.date</th>\n",
       "      <th>r.stars</th>\n",
       "      <th>r.text</th>\n",
       "      <th>r.useful</th>\n",
       "      <th>c.name</th>\n",
       "    </tr>\n",
       "  </thead>\n",
       "  <tbody>\n",
       "    <tr>\n",
       "      <th>0</th>\n",
       "      <td>-6tvduBzjLI1ISfs3F_qTg</td>\n",
       "      <td>XqDkYFxoE--SSzRKyqqVHA</td>\n",
       "      <td>2014-12-21</td>\n",
       "      <td>4</td>\n",
       "      <td>horchata frangelico mexican street corn chip s...</td>\n",
       "      <td>0</td>\n",
       "      <td>Restaurants| Nightlife| Mexican|Bars</td>\n",
       "    </tr>\n",
       "    <tr>\n",
       "      <th>1</th>\n",
       "      <td>-6tvduBzjLI1ISfs3F_qTg</td>\n",
       "      <td>Z1u7OmLi288HdwvkwBfKBw</td>\n",
       "      <td>2014-11-23</td>\n",
       "      <td>5</td>\n",
       "      <td>great nacho big great grill mahi taco hous mad...</td>\n",
       "      <td>0</td>\n",
       "      <td>Restaurants| Nightlife| Mexican|Bars</td>\n",
       "    </tr>\n",
       "    <tr>\n",
       "      <th>2</th>\n",
       "      <td>-6tvduBzjLI1ISfs3F_qTg</td>\n",
       "      <td>xo7heKrUGlf9-IqAEqaPng</td>\n",
       "      <td>2013-06-18</td>\n",
       "      <td>4</td>\n",
       "      <td>love place guacamol joyrid style soooooooo yum...</td>\n",
       "      <td>0</td>\n",
       "      <td>Restaurants| Nightlife| Mexican|Bars</td>\n",
       "    </tr>\n",
       "    <tr>\n",
       "      <th>3</th>\n",
       "      <td>-QK041S1Clr0N4m3adwRpA</td>\n",
       "      <td>hLwaP3bmZkRraS9Yzonkyg</td>\n",
       "      <td>2017-01-02</td>\n",
       "      <td>5</td>\n",
       "      <td>first time blown away result came realli nice ...</td>\n",
       "      <td>0</td>\n",
       "      <td>Hair Salons| Beauty &amp; Spas|Hair Stylists| Hai...</td>\n",
       "    </tr>\n",
       "    <tr>\n",
       "      <th>4</th>\n",
       "      <td>0Zxeuxnutzsfe6V_VC5-wQ</td>\n",
       "      <td>lUMy8X1BShdlvDlkG4sF7w</td>\n",
       "      <td>2015-07-31</td>\n",
       "      <td>5</td>\n",
       "      <td>got car back today want express pleas servic r...</td>\n",
       "      <td>0</td>\n",
       "      <td>Body Shops| Automotive| Auto Glass Services|A...</td>\n",
       "    </tr>\n",
       "  </tbody>\n",
       "</table>\n",
       "</div>"
      ],
      "text/plain": [
       "                    b.Bid                   r.rid      r.date  r.stars  \\\n",
       "0  -6tvduBzjLI1ISfs3F_qTg  XqDkYFxoE--SSzRKyqqVHA  2014-12-21        4   \n",
       "1  -6tvduBzjLI1ISfs3F_qTg  Z1u7OmLi288HdwvkwBfKBw  2014-11-23        5   \n",
       "2  -6tvduBzjLI1ISfs3F_qTg  xo7heKrUGlf9-IqAEqaPng  2013-06-18        4   \n",
       "3  -QK041S1Clr0N4m3adwRpA  hLwaP3bmZkRraS9Yzonkyg  2017-01-02        5   \n",
       "4  0Zxeuxnutzsfe6V_VC5-wQ  lUMy8X1BShdlvDlkG4sF7w  2015-07-31        5   \n",
       "\n",
       "                                              r.text  r.useful  \\\n",
       "0  horchata frangelico mexican street corn chip s...         0   \n",
       "1  great nacho big great grill mahi taco hous mad...         0   \n",
       "2  love place guacamol joyrid style soooooooo yum...         0   \n",
       "3  first time blown away result came realli nice ...         0   \n",
       "4  got car back today want express pleas servic r...         0   \n",
       "\n",
       "                                              c.name  \n",
       "0               Restaurants| Nightlife| Mexican|Bars  \n",
       "1               Restaurants| Nightlife| Mexican|Bars  \n",
       "2               Restaurants| Nightlife| Mexican|Bars  \n",
       "3   Hair Salons| Beauty & Spas|Hair Stylists| Hai...  \n",
       "4   Body Shops| Automotive| Auto Glass Services|A...  "
      ]
     },
     "execution_count": 120,
     "metadata": {},
     "output_type": "execute_result"
    }
   ],
   "source": [
    "#business_review_all=business_review.groupby(['b.Bid','r.rid','r.date','r.stars','r.text','r.useful'])['c.name'].apply('|'.join).reset_index()\n",
    "#business_review_all.head()"
   ]
  },
  {
   "cell_type": "code",
   "execution_count": 17,
   "metadata": {
    "collapsed": false
   },
   "outputs": [
    {
     "name": "stderr",
     "output_type": "stream",
     "text": [
      "C:\\Users\\VArun\\AppData\\Local\\Enthought\\Canopy\\User\\lib\\site-packages\\ipykernel\\__main__.py:5: FutureWarning: sort(columns=....) is deprecated, use sort_values(by=.....)\n"
     ]
    },
    {
     "data": {
      "text/html": [
       "<div>\n",
       "<table border=\"1\" class=\"dataframe\">\n",
       "  <thead>\n",
       "    <tr style=\"text-align: right;\">\n",
       "      <th></th>\n",
       "      <th>count</th>\n",
       "      <th>word</th>\n",
       "    </tr>\n",
       "  </thead>\n",
       "  <tbody>\n",
       "    <tr>\n",
       "      <th>250</th>\n",
       "      <td>444</td>\n",
       "      <td>order</td>\n",
       "    </tr>\n",
       "    <tr>\n",
       "      <th>1142</th>\n",
       "      <td>361</td>\n",
       "      <td>wait</td>\n",
       "    </tr>\n",
       "    <tr>\n",
       "      <th>3114</th>\n",
       "      <td>361</td>\n",
       "      <td>friendli</td>\n",
       "    </tr>\n",
       "    <tr>\n",
       "      <th>2699</th>\n",
       "      <td>356</td>\n",
       "      <td>experi</td>\n",
       "    </tr>\n",
       "    <tr>\n",
       "      <th>1528</th>\n",
       "      <td>355</td>\n",
       "      <td>take</td>\n",
       "    </tr>\n",
       "    <tr>\n",
       "      <th>3558</th>\n",
       "      <td>351</td>\n",
       "      <td>tabl</td>\n",
       "    </tr>\n",
       "    <tr>\n",
       "      <th>143</th>\n",
       "      <td>349</td>\n",
       "      <td>call</td>\n",
       "    </tr>\n",
       "    <tr>\n",
       "      <th>602</th>\n",
       "      <td>345</td>\n",
       "      <td>best</td>\n",
       "    </tr>\n",
       "    <tr>\n",
       "      <th>3470</th>\n",
       "      <td>341</td>\n",
       "      <td>could</td>\n",
       "    </tr>\n",
       "    <tr>\n",
       "      <th>2786</th>\n",
       "      <td>338</td>\n",
       "      <td>look</td>\n",
       "    </tr>\n",
       "    <tr>\n",
       "      <th>2593</th>\n",
       "      <td>329</td>\n",
       "      <td>amaz</td>\n",
       "    </tr>\n",
       "    <tr>\n",
       "      <th>3381</th>\n",
       "      <td>328</td>\n",
       "      <td>alway</td>\n",
       "    </tr>\n",
       "    <tr>\n",
       "      <th>87</th>\n",
       "      <td>326</td>\n",
       "      <td>never</td>\n",
       "    </tr>\n",
       "    <tr>\n",
       "      <th>681</th>\n",
       "      <td>322</td>\n",
       "      <td>much</td>\n",
       "    </tr>\n",
       "    <tr>\n",
       "      <th>1841</th>\n",
       "      <td>313</td>\n",
       "      <td>littl</td>\n",
       "    </tr>\n",
       "    <tr>\n",
       "      <th>1425</th>\n",
       "      <td>309</td>\n",
       "      <td>first</td>\n",
       "    </tr>\n",
       "    <tr>\n",
       "      <th>1196</th>\n",
       "      <td>307</td>\n",
       "      <td>peopl</td>\n",
       "    </tr>\n",
       "    <tr>\n",
       "      <th>2998</th>\n",
       "      <td>299</td>\n",
       "      <td>custom</td>\n",
       "    </tr>\n",
       "    <tr>\n",
       "      <th>538</th>\n",
       "      <td>288</td>\n",
       "      <td>menu</td>\n",
       "    </tr>\n",
       "    <tr>\n",
       "      <th>2452</th>\n",
       "      <td>283</td>\n",
       "      <td>ask</td>\n",
       "    </tr>\n",
       "    <tr>\n",
       "      <th>2863</th>\n",
       "      <td>271</td>\n",
       "      <td>tast</td>\n",
       "    </tr>\n",
       "    <tr>\n",
       "      <th>3237</th>\n",
       "      <td>269</td>\n",
       "      <td>use</td>\n",
       "    </tr>\n",
       "    <tr>\n",
       "      <th>3631</th>\n",
       "      <td>269</td>\n",
       "      <td>locat</td>\n",
       "    </tr>\n",
       "    <tr>\n",
       "      <th>4040</th>\n",
       "      <td>257</td>\n",
       "      <td>eat</td>\n",
       "    </tr>\n",
       "    <tr>\n",
       "      <th>2681</th>\n",
       "      <td>255</td>\n",
       "      <td>see</td>\n",
       "    </tr>\n",
       "    <tr>\n",
       "      <th>842</th>\n",
       "      <td>252</td>\n",
       "      <td>night</td>\n",
       "    </tr>\n",
       "    <tr>\n",
       "      <th>3625</th>\n",
       "      <td>250</td>\n",
       "      <td>chicken</td>\n",
       "    </tr>\n",
       "    <tr>\n",
       "      <th>545</th>\n",
       "      <td>249</td>\n",
       "      <td>busi</td>\n",
       "    </tr>\n",
       "    <tr>\n",
       "      <th>680</th>\n",
       "      <td>249</td>\n",
       "      <td>beer</td>\n",
       "    </tr>\n",
       "    <tr>\n",
       "      <th>3088</th>\n",
       "      <td>247</td>\n",
       "      <td>fresh</td>\n",
       "    </tr>\n",
       "    <tr>\n",
       "      <th>4045</th>\n",
       "      <td>246</td>\n",
       "      <td>made</td>\n",
       "    </tr>\n",
       "    <tr>\n",
       "      <th>2363</th>\n",
       "      <td>244</td>\n",
       "      <td>delici</td>\n",
       "    </tr>\n",
       "    <tr>\n",
       "      <th>1900</th>\n",
       "      <td>242</td>\n",
       "      <td>definit</td>\n",
       "    </tr>\n",
       "    <tr>\n",
       "      <th>3273</th>\n",
       "      <td>233</td>\n",
       "      <td>salad</td>\n",
       "    </tr>\n",
       "    <tr>\n",
       "      <th>1540</th>\n",
       "      <td>233</td>\n",
       "      <td>price</td>\n",
       "    </tr>\n",
       "    <tr>\n",
       "      <th>80</th>\n",
       "      <td>231</td>\n",
       "      <td>ever</td>\n",
       "    </tr>\n",
       "    <tr>\n",
       "      <th>3909</th>\n",
       "      <td>226</td>\n",
       "      <td>know</td>\n",
       "    </tr>\n",
       "    <tr>\n",
       "      <th>2235</th>\n",
       "      <td>226</td>\n",
       "      <td>two</td>\n",
       "    </tr>\n",
       "    <tr>\n",
       "      <th>1418</th>\n",
       "      <td>223</td>\n",
       "      <td>thing</td>\n",
       "    </tr>\n",
       "    <tr>\n",
       "      <th>1369</th>\n",
       "      <td>223</td>\n",
       "      <td>year</td>\n",
       "    </tr>\n",
       "    <tr>\n",
       "      <th>573</th>\n",
       "      <td>222</td>\n",
       "      <td>bar</td>\n",
       "    </tr>\n",
       "    <tr>\n",
       "      <th>1485</th>\n",
       "      <td>221</td>\n",
       "      <td>serv</td>\n",
       "    </tr>\n",
       "    <tr>\n",
       "      <th>1970</th>\n",
       "      <td>219</td>\n",
       "      <td>lot</td>\n",
       "    </tr>\n",
       "    <tr>\n",
       "      <th>3135</th>\n",
       "      <td>217</td>\n",
       "      <td>tri</td>\n",
       "    </tr>\n",
       "    <tr>\n",
       "      <th>898</th>\n",
       "      <td>215</td>\n",
       "      <td>dinner</td>\n",
       "    </tr>\n",
       "    <tr>\n",
       "      <th>575</th>\n",
       "      <td>213</td>\n",
       "      <td>excel</td>\n",
       "    </tr>\n",
       "    <tr>\n",
       "      <th>676</th>\n",
       "      <td>211</td>\n",
       "      <td>fri</td>\n",
       "    </tr>\n",
       "    <tr>\n",
       "      <th>1852</th>\n",
       "      <td>209</td>\n",
       "      <td>around</td>\n",
       "    </tr>\n",
       "    <tr>\n",
       "      <th>3106</th>\n",
       "      <td>207</td>\n",
       "      <td>go</td>\n",
       "    </tr>\n",
       "    <tr>\n",
       "      <th>3208</th>\n",
       "      <td>205</td>\n",
       "      <td>pretti</td>\n",
       "    </tr>\n",
       "  </tbody>\n",
       "</table>\n",
       "</div>"
      ],
      "text/plain": [
       "      count      word\n",
       "250     444     order\n",
       "1142    361      wait\n",
       "3114    361  friendli\n",
       "2699    356    experi\n",
       "1528    355      take\n",
       "3558    351      tabl\n",
       "143     349      call\n",
       "602     345      best\n",
       "3470    341     could\n",
       "2786    338      look\n",
       "2593    329      amaz\n",
       "3381    328     alway\n",
       "87      326     never\n",
       "681     322      much\n",
       "1841    313     littl\n",
       "1425    309     first\n",
       "1196    307     peopl\n",
       "2998    299    custom\n",
       "538     288      menu\n",
       "2452    283       ask\n",
       "2863    271      tast\n",
       "3237    269       use\n",
       "3631    269     locat\n",
       "4040    257       eat\n",
       "2681    255       see\n",
       "842     252     night\n",
       "3625    250   chicken\n",
       "545     249      busi\n",
       "680     249      beer\n",
       "3088    247     fresh\n",
       "4045    246      made\n",
       "2363    244    delici\n",
       "1900    242   definit\n",
       "3273    233     salad\n",
       "1540    233     price\n",
       "80      231      ever\n",
       "3909    226      know\n",
       "2235    226       two\n",
       "1418    223     thing\n",
       "1369    223      year\n",
       "573     222       bar\n",
       "1485    221      serv\n",
       "1970    219       lot\n",
       "3135    217       tri\n",
       "898     215    dinner\n",
       "575     213     excel\n",
       "676     211       fri\n",
       "1852    209    around\n",
       "3106    207        go\n",
       "3208    205    pretti"
      ]
     },
     "execution_count": 17,
     "metadata": {},
     "output_type": "execute_result"
    }
   ],
   "source": [
    "all_words = ' '.join(business_review['r.text'])\n",
    "all_words = all_words.split()\n",
    "fdist = nltk.FreqDist(all_words)\n",
    "words_df = pd.DataFrame({'word':list(fdist.keys()), 'count':list(fdist.values())})\n",
    "words=words_df.sort(['count'],ascending=[False])\n",
    "words.head(50)"
   ]
  },
  {
   "cell_type": "code",
   "execution_count": 18,
   "metadata": {
    "collapsed": false
   },
   "outputs": [
    {
     "data": {
      "image/png": "[encoded data removed]",
      "text/plain": [
       "<matplotlib.figure.Figure at 0x22eeb748>"
      ]
     },
     "metadata": {},
     "output_type": "display_data"
    }
   ],
   "source": [
    "# selecting top 50 most frequent words\n",
    "d = words_df.nlargest(columns=\"count\", n = 50) \n",
    "plt.figure(figsize=(20,10))\n",
    "ax = sns.barplot(data=d, x= \"word\", y = \"count\")\n",
    "ax.set(ylabel = 'Count')\n",
    "plt.show()\n"
   ]
  },
  {
   "cell_type": "code",
   "execution_count": 19,
   "metadata": {
    "collapsed": false
   },
   "outputs": [
    {
     "data": {
      "text/plain": [
       "b.Bid       0\n",
       "c.name      0\n",
       "r.date      0\n",
       "r.rid       0\n",
       "r.stars     0\n",
       "r.text      0\n",
       "r.useful    0\n",
       "dtype: int64"
      ]
     },
     "execution_count": 19,
     "metadata": {},
     "output_type": "execute_result"
    }
   ],
   "source": [
    "#To find the null values\n",
    "#check missing values\n",
    "business_review.columns[business_review.isnull().any()]\n",
    "\n",
    "#missing value counts in each of these columns\n",
    "sum_missingvalue = business_review.isnull().sum()\n",
    "sum_missingvalue\n"
   ]
  },
  {
   "cell_type": "code",
   "execution_count": 20,
   "metadata": {
    "collapsed": false
   },
   "outputs": [
    {
     "data": {
      "image/png": "[encoded data removed]",
      "text/plain": [
       "<matplotlib.figure.Figure at 0x24bc3e48>"
      ]
     },
     "metadata": {},
     "output_type": "display_data"
    }
   ],
   "source": [
    "#same categories\n",
    "all_categories = nltk.FreqDist(business_review['c.name']) \n",
    "\n",
    "# create dataframe\n",
    "all_categories_df = pd.DataFrame({'Name': list(all_categories.keys()), \n",
    "                              'Count': list(all_categories.values())})\n",
    "#print(all_categories_df)\n",
    "\n",
    "\n",
    "g = all_categories_df.nlargest(columns=\"Count\", n = 50) \n",
    "plt.figure(figsize=(12,15)) \n",
    "ax = sns.barplot(data=g, x= \"Count\", y = \"Name\") \n",
    "ax.set(ylabel = 'Count') \n",
    "plt.show()"
   ]
  },
  {
   "cell_type": "code",
   "execution_count": 21,
   "metadata": {
    "collapsed": false
   },
   "outputs": [],
   "source": [
    "#Replacing categories which are same\n",
    "business_review['c.name']=business_review['c.name'].str.replace(\" Restaurants\", \"Restaurants\")\n",
    "business_review['c.name']=business_review['c.name'].str.replace(\" Shopping\", \"Shopping\")\n",
    "business_review['c.name']=business_review['c.name'].str.replace(\" Nightlife\", \"Nightlife\")\n",
    "business_review['c.name']=business_review['c.name'].str.replace(\" Food\", \"Food\")\n",
    "business_review['c.name']=business_review['c.name'].str.replace(\" Bars\", \"Bars\")\n",
    "business_review['c.name']=business_review['c.name'].str.replace(\" Mexican\", \"Mexican\")\n",
    "business_review['c.name']=business_review['c.name'].str.replace(\" Thai\", \"Thai\")"
   ]
  },
  {
   "cell_type": "code",
   "execution_count": 22,
   "metadata": {
    "collapsed": false
   },
   "outputs": [
    {
     "name": "stderr",
     "output_type": "stream",
     "text": [
      "C:\\Users\\VArun\\AppData\\Local\\Enthought\\Canopy\\User\\lib\\site-packages\\ipykernel\\__main__.py:8: FutureWarning: sort(columns=....) is deprecated, use sort_values(by=.....)\n"
     ]
    },
    {
     "data": {
      "text/html": [
       "<div>\n",
       "<table border=\"1\" class=\"dataframe\">\n",
       "  <thead>\n",
       "    <tr style=\"text-align: right;\">\n",
       "      <th></th>\n",
       "      <th>Count</th>\n",
       "      <th>Name</th>\n",
       "    </tr>\n",
       "  </thead>\n",
       "  <tbody>\n",
       "    <tr>\n",
       "      <th>61</th>\n",
       "      <td>1</td>\n",
       "      <td>Car Dealers</td>\n",
       "    </tr>\n",
       "    <tr>\n",
       "      <th>85</th>\n",
       "      <td>1</td>\n",
       "      <td>Home Cleaning</td>\n",
       "    </tr>\n",
       "    <tr>\n",
       "      <th>81</th>\n",
       "      <td>1</td>\n",
       "      <td>Tobacco Shops</td>\n",
       "    </tr>\n",
       "    <tr>\n",
       "      <th>102</th>\n",
       "      <td>1</td>\n",
       "      <td>Public Transportation</td>\n",
       "    </tr>\n",
       "    <tr>\n",
       "      <th>78</th>\n",
       "      <td>1</td>\n",
       "      <td>PersonalShopping</td>\n",
       "    </tr>\n",
       "    <tr>\n",
       "      <th>77</th>\n",
       "      <td>1</td>\n",
       "      <td>Halal</td>\n",
       "    </tr>\n",
       "    <tr>\n",
       "      <th>76</th>\n",
       "      <td>1</td>\n",
       "      <td>Acai Bowls</td>\n",
       "    </tr>\n",
       "    <tr>\n",
       "      <th>75</th>\n",
       "      <td>1</td>\n",
       "      <td>Ethiopian</td>\n",
       "    </tr>\n",
       "    <tr>\n",
       "      <th>71</th>\n",
       "      <td>1</td>\n",
       "      <td>Kids Activities</td>\n",
       "    </tr>\n",
       "    <tr>\n",
       "      <th>70</th>\n",
       "      <td>1</td>\n",
       "      <td>Electronics Repair</td>\n",
       "    </tr>\n",
       "    <tr>\n",
       "      <th>98</th>\n",
       "      <td>1</td>\n",
       "      <td>Furniture Reupholstery</td>\n",
       "    </tr>\n",
       "    <tr>\n",
       "      <th>104</th>\n",
       "      <td>1</td>\n",
       "      <td>Pet Sitting</td>\n",
       "    </tr>\n",
       "    <tr>\n",
       "      <th>134</th>\n",
       "      <td>1</td>\n",
       "      <td>Fish &amp; Chips</td>\n",
       "    </tr>\n",
       "    <tr>\n",
       "      <th>123</th>\n",
       "      <td>1</td>\n",
       "      <td>Museums</td>\n",
       "    </tr>\n",
       "    <tr>\n",
       "      <th>133</th>\n",
       "      <td>1</td>\n",
       "      <td>Tiling</td>\n",
       "    </tr>\n",
       "    <tr>\n",
       "      <th>130</th>\n",
       "      <td>1</td>\n",
       "      <td>Tires</td>\n",
       "    </tr>\n",
       "    <tr>\n",
       "      <th>129</th>\n",
       "      <td>1</td>\n",
       "      <td>Public Services &amp; Government</td>\n",
       "    </tr>\n",
       "    <tr>\n",
       "      <th>128</th>\n",
       "      <td>1</td>\n",
       "      <td>Grout Services</td>\n",
       "    </tr>\n",
       "    <tr>\n",
       "      <th>125</th>\n",
       "      <td>1</td>\n",
       "      <td>Awnings</td>\n",
       "    </tr>\n",
       "    <tr>\n",
       "      <th>124</th>\n",
       "      <td>1</td>\n",
       "      <td>Men's Clothing</td>\n",
       "    </tr>\n",
       "    <tr>\n",
       "      <th>118</th>\n",
       "      <td>1</td>\n",
       "      <td>Mobile Phone Repair</td>\n",
       "    </tr>\n",
       "    <tr>\n",
       "      <th>105</th>\n",
       "      <td>1</td>\n",
       "      <td>Beer Gardens</td>\n",
       "    </tr>\n",
       "    <tr>\n",
       "      <th>117</th>\n",
       "      <td>1</td>\n",
       "      <td>Chiropractors</td>\n",
       "    </tr>\n",
       "    <tr>\n",
       "      <th>115</th>\n",
       "      <td>1</td>\n",
       "      <td>International Grocery</td>\n",
       "    </tr>\n",
       "    <tr>\n",
       "      <th>113</th>\n",
       "      <td>1</td>\n",
       "      <td>Rehabilitation Center</td>\n",
       "    </tr>\n",
       "    <tr>\n",
       "      <th>111</th>\n",
       "      <td>1</td>\n",
       "      <td>Nutritionists</td>\n",
       "    </tr>\n",
       "    <tr>\n",
       "      <th>108</th>\n",
       "      <td>1</td>\n",
       "      <td>Do-It-YourselfFood</td>\n",
       "    </tr>\n",
       "    <tr>\n",
       "      <th>106</th>\n",
       "      <td>1</td>\n",
       "      <td>Yoga</td>\n",
       "    </tr>\n",
       "    <tr>\n",
       "      <th>196</th>\n",
       "      <td>1</td>\n",
       "      <td>Butcher</td>\n",
       "    </tr>\n",
       "    <tr>\n",
       "      <th>197</th>\n",
       "      <td>1</td>\n",
       "      <td>Laser Hair Removal</td>\n",
       "    </tr>\n",
       "    <tr>\n",
       "      <th>...</th>\n",
       "      <td>...</td>\n",
       "      <td>...</td>\n",
       "    </tr>\n",
       "    <tr>\n",
       "      <th>221</th>\n",
       "      <td>1</td>\n",
       "      <td>Refinishing Services</td>\n",
       "    </tr>\n",
       "    <tr>\n",
       "      <th>220</th>\n",
       "      <td>1</td>\n",
       "      <td>Portuguese</td>\n",
       "    </tr>\n",
       "    <tr>\n",
       "      <th>219</th>\n",
       "      <td>1</td>\n",
       "      <td>Pest Control</td>\n",
       "    </tr>\n",
       "    <tr>\n",
       "      <th>35</th>\n",
       "      <td>1</td>\n",
       "      <td>Shopping Centers</td>\n",
       "    </tr>\n",
       "    <tr>\n",
       "      <th>214</th>\n",
       "      <td>1</td>\n",
       "      <td>Nail Salons</td>\n",
       "    </tr>\n",
       "    <tr>\n",
       "      <th>254</th>\n",
       "      <td>1</td>\n",
       "      <td>Discount Store</td>\n",
       "    </tr>\n",
       "    <tr>\n",
       "      <th>213</th>\n",
       "      <td>1</td>\n",
       "      <td>Persian/Iranian</td>\n",
       "    </tr>\n",
       "    <tr>\n",
       "      <th>37</th>\n",
       "      <td>1</td>\n",
       "      <td>Ice Delivery</td>\n",
       "    </tr>\n",
       "    <tr>\n",
       "      <th>208</th>\n",
       "      <td>1</td>\n",
       "      <td>Pet Boarding</td>\n",
       "    </tr>\n",
       "    <tr>\n",
       "      <th>207</th>\n",
       "      <td>1</td>\n",
       "      <td>Heating &amp; Air Conditioning/HVAC</td>\n",
       "    </tr>\n",
       "    <tr>\n",
       "      <th>204</th>\n",
       "      <td>1</td>\n",
       "      <td>Karaoke</td>\n",
       "    </tr>\n",
       "    <tr>\n",
       "      <th>202</th>\n",
       "      <td>1</td>\n",
       "      <td>Cheesesteaks</td>\n",
       "    </tr>\n",
       "    <tr>\n",
       "      <th>227</th>\n",
       "      <td>1</td>\n",
       "      <td>Office Equipment</td>\n",
       "    </tr>\n",
       "    <tr>\n",
       "      <th>228</th>\n",
       "      <td>1</td>\n",
       "      <td>Condominiums</td>\n",
       "    </tr>\n",
       "    <tr>\n",
       "      <th>229</th>\n",
       "      <td>1</td>\n",
       "      <td>Trailer Dealers</td>\n",
       "    </tr>\n",
       "    <tr>\n",
       "      <th>232</th>\n",
       "      <td>1</td>\n",
       "      <td>TapasBars</td>\n",
       "    </tr>\n",
       "    <tr>\n",
       "      <th>235</th>\n",
       "      <td>1</td>\n",
       "      <td>Martial Arts</td>\n",
       "    </tr>\n",
       "    <tr>\n",
       "      <th>236</th>\n",
       "      <td>1</td>\n",
       "      <td>Divorce &amp; Family Law</td>\n",
       "    </tr>\n",
       "    <tr>\n",
       "      <th>237</th>\n",
       "      <td>1</td>\n",
       "      <td>Dance Clubs</td>\n",
       "    </tr>\n",
       "    <tr>\n",
       "      <th>238</th>\n",
       "      <td>1</td>\n",
       "      <td>Dominican</td>\n",
       "    </tr>\n",
       "    <tr>\n",
       "      <th>240</th>\n",
       "      <td>1</td>\n",
       "      <td>Trailer Dealers</td>\n",
       "    </tr>\n",
       "    <tr>\n",
       "      <th>34</th>\n",
       "      <td>1</td>\n",
       "      <td>RV Repair</td>\n",
       "    </tr>\n",
       "    <tr>\n",
       "      <th>243</th>\n",
       "      <td>1</td>\n",
       "      <td>Poutineries</td>\n",
       "    </tr>\n",
       "    <tr>\n",
       "      <th>245</th>\n",
       "      <td>1</td>\n",
       "      <td>Hair Extensions</td>\n",
       "    </tr>\n",
       "    <tr>\n",
       "      <th>246</th>\n",
       "      <td>1</td>\n",
       "      <td>Movers</td>\n",
       "    </tr>\n",
       "    <tr>\n",
       "      <th>247</th>\n",
       "      <td>1</td>\n",
       "      <td>Cosmetic Surgeons</td>\n",
       "    </tr>\n",
       "    <tr>\n",
       "      <th>248</th>\n",
       "      <td>1</td>\n",
       "      <td>Translation Services</td>\n",
       "    </tr>\n",
       "    <tr>\n",
       "      <th>250</th>\n",
       "      <td>1</td>\n",
       "      <td>Sporting Goods</td>\n",
       "    </tr>\n",
       "    <tr>\n",
       "      <th>251</th>\n",
       "      <td>1</td>\n",
       "      <td>Shades &amp; Blinds</td>\n",
       "    </tr>\n",
       "    <tr>\n",
       "      <th>466</th>\n",
       "      <td>1</td>\n",
       "      <td>Electronics</td>\n",
       "    </tr>\n",
       "  </tbody>\n",
       "</table>\n",
       "<p>100 rows × 2 columns</p>\n",
       "</div>"
      ],
      "text/plain": [
       "     Count                             Name\n",
       "61       1                      Car Dealers\n",
       "85       1                    Home Cleaning\n",
       "81       1                    Tobacco Shops\n",
       "102      1            Public Transportation\n",
       "78       1                 PersonalShopping\n",
       "77       1                            Halal\n",
       "76       1                       Acai Bowls\n",
       "75       1                        Ethiopian\n",
       "71       1                  Kids Activities\n",
       "70       1               Electronics Repair\n",
       "98       1           Furniture Reupholstery\n",
       "104      1                      Pet Sitting\n",
       "134      1                     Fish & Chips\n",
       "123      1                          Museums\n",
       "133      1                           Tiling\n",
       "130      1                            Tires\n",
       "129      1     Public Services & Government\n",
       "128      1                   Grout Services\n",
       "125      1                          Awnings\n",
       "124      1                   Men's Clothing\n",
       "118      1              Mobile Phone Repair\n",
       "105      1                     Beer Gardens\n",
       "117      1                    Chiropractors\n",
       "115      1            International Grocery\n",
       "113      1            Rehabilitation Center\n",
       "111      1                    Nutritionists\n",
       "108      1               Do-It-YourselfFood\n",
       "106      1                             Yoga\n",
       "196      1                          Butcher\n",
       "197      1               Laser Hair Removal\n",
       "..     ...                              ...\n",
       "221      1             Refinishing Services\n",
       "220      1                       Portuguese\n",
       "219      1                     Pest Control\n",
       "35       1                 Shopping Centers\n",
       "214      1                      Nail Salons\n",
       "254      1                   Discount Store\n",
       "213      1                  Persian/Iranian\n",
       "37       1                     Ice Delivery\n",
       "208      1                     Pet Boarding\n",
       "207      1  Heating & Air Conditioning/HVAC\n",
       "204      1                          Karaoke\n",
       "202      1                     Cheesesteaks\n",
       "227      1                 Office Equipment\n",
       "228      1                     Condominiums\n",
       "229      1                  Trailer Dealers\n",
       "232      1                        TapasBars\n",
       "235      1                     Martial Arts\n",
       "236      1             Divorce & Family Law\n",
       "237      1                      Dance Clubs\n",
       "238      1                        Dominican\n",
       "240      1                  Trailer Dealers\n",
       "34       1                        RV Repair\n",
       "243      1                      Poutineries\n",
       "245      1                  Hair Extensions\n",
       "246      1                           Movers\n",
       "247      1                Cosmetic Surgeons\n",
       "248      1             Translation Services\n",
       "250      1                   Sporting Goods\n",
       "251      1                  Shades & Blinds\n",
       "466      1                      Electronics\n",
       "\n",
       "[100 rows x 2 columns]"
      ]
     },
     "execution_count": 22,
     "metadata": {},
     "output_type": "execute_result"
    }
   ],
   "source": [
    "#same categories\n",
    "all_categories = nltk.FreqDist(business_review['c.name']) \n",
    "\n",
    "# create dataframe\n",
    "all_categories_df = pd.DataFrame({'Name': list(all_categories.keys()), \n",
    "                              'Count': list(all_categories.values())})\n",
    "\n",
    "all_categories=all_categories_df.sort(['Count'],ascending=[False])\n",
    "all_categories.tail(100)\n"
   ]
  },
  {
   "cell_type": "code",
   "execution_count": 23,
   "metadata": {
    "collapsed": false
   },
   "outputs": [
    {
     "data": {
      "image/png": "[encoded data removed]",
      "text/plain": [
       "<matplotlib.figure.Figure at 0x24a5d0b8>"
      ]
     },
     "metadata": {},
     "output_type": "display_data"
    }
   ],
   "source": [
    "g = all_categories_df.nlargest(columns=\"Count\", n = 30) \n",
    "plt.figure(figsize=(12,15)) \n",
    "ax = sns.barplot(data=g, x= \"Count\", y = \"Name\") \n",
    "ax.set(ylabel = 'Count') \n",
    "plt.show()"
   ]
  },
  {
   "cell_type": "markdown",
   "metadata": {
    "collapsed": false
   },
   "source": [
    "from sklearn import  preprocessing, linear_model, naive_bayes, metrics, svm\n",
    "from sklearn.cross_validation import train_test_split\n",
    "# split the dataset into training and validation datasets \n",
    "train_x, valid_x, train_y, valid_y = train_test_split(business_review['r.text'], business_review['c.name'], test_size=0.2, random_state=5)\n",
    "\n",
    "# label encode the target variable \n",
    "encoder = preprocessing.LabelEncoder()\n",
    "train_y = encoder.fit_transform(train_y)\n",
    "valid_y = encoder.fit_transform(valid_y)"
   ]
  },
  {
   "cell_type": "code",
   "execution_count": 159,
   "metadata": {
    "collapsed": false
   },
   "outputs": [
    {
     "name": "stdout",
     "output_type": "stream",
     "text": [
      "('Dimensions for train tfidf vector are : ', (2116, 2249))\n"
     ]
    }
   ],
   "source": [
    "no_features=1000\n",
    "# LDA can uses raw term counts since LDA is a probabilistic graphical model\n",
    "tf_vectorizer = CountVectorizer(ngram_range=(1,2),max_df=0.4,min_df=10, max_features=no_features, stop_words='english')\n",
    "cv_features = tf_vectorizer.fit(business_review['r.text'])\n",
    "tf_feature_names = tf_vectorizer.get_feature_names()\n",
    "#print(\"Dimensions for countvector are : \",cv_features.shape)\n",
    "#print(cv_features.toarray())\n",
    "\n",
    "# transform the training and validation data using count vectorizer object\n",
    "xtrain_count =  tf_vectorizer.transform(train_x)\n",
    "xvalid_count =  tf_vectorizer.transform(valid_x)\n",
    "\n",
    "# Building a Tfid vector for frequency count of each word\n",
    "tfidf=TfidfVectorizer(min_df=10,ngram_range=(1,2))\n",
    "x_train_features = tfidf.fit_transform(business_review['r.text'])\n",
    "tf_train_features_names = tfidf.get_feature_names()\n",
    "print(\"Dimensions for train tfidf vector are : \",x_train_features.shape)\n",
    "\n",
    "#print(tfidf_features.toarray())\n"
   ]
  },
  {
   "cell_type": "code",
   "execution_count": 24,
   "metadata": {
    "collapsed": true
   },
   "outputs": [],
   "source": [
    "no_features=1000\n",
    "# LDA can uses raw term counts since LDA is a probabilistic graphical model\n",
    "tf_vectorizer = CountVectorizer(ngram_range=(1,2),max_df=0.4,min_df=10, max_features=no_features, stop_words='english')\n",
    "cv_features = tf_vectorizer.fit_transform(business_review['r.text'])\n",
    "tf_feature_names = tf_vectorizer.get_feature_names()\n",
    "#print(\"Dimensions for countvector are : \",cv_features.shape)\n",
    "#print(cv_features.toarray())\n"
   ]
  },
  {
   "cell_type": "code",
   "execution_count": 61,
   "metadata": {
    "collapsed": false
   },
   "outputs": [
    {
     "name": "stdout",
     "output_type": "stream",
     "text": [
      "LatentDirichletAllocation(batch_size=128, doc_topic_prior=None,\n",
      "             evaluate_every=-1, learning_decay=0.7,\n",
      "             learning_method='online', learning_offset=50.0,\n",
      "             max_doc_update_iter=100, max_iter=50, mean_change_tol=0.001,\n",
      "             n_jobs=1, n_topics=20, perp_tol=0.1, random_state=100,\n",
      "             topic_word_prior=None, total_samples=1000000.0, verbose=0)\n"
     ]
    }
   ],
   "source": [
    "from sklearn.decomposition import LatentDirichletAllocation\n",
    "\n",
    "n_components=20\n",
    "lda=LatentDirichletAllocation(n_components,max_iter=50, learning_method='online',learning_offset=50.,random_state=100)\n",
    "topics=lda.fit_transform(cv_features)\n",
    "\n",
    "print(lda)\n",
    "#lda_tfid=LatentDirichletAllocation(categories,max_iter=50, learning_method='online',learning_offset=50.,random_state=0).fit(x_train_features)\n"
   ]
  },
  {
   "cell_type": "code",
   "execution_count": 62,
   "metadata": {
    "collapsed": false
   },
   "outputs": [
    {
     "name": "stdout",
     "output_type": "stream",
     "text": [
      "('Log Likelihood: ', -400281.5527772597)\n",
      "('Perplexity: ', 549.0100895738975)\n",
      "{'learning_offset': 50.0, 'n_jobs': 1, 'topic_word_prior': None, 'perp_tol': 0.1, 'evaluate_every': -1, 'max_iter': 50, 'mean_change_tol': 0.001, 'batch_size': 128, 'max_doc_update_iter': 100, 'learning_decay': 0.7, 'random_state': 100, 'doc_topic_prior': None, 'n_topics': 20, 'total_samples': 1000000.0, 'learning_method': 'online', 'verbose': 0}\n"
     ]
    }
   ],
   "source": [
    "# Log Likelyhood: Higher the better\n",
    "print(\"Log Likelihood: \", lda.score(cv_features))\n",
    "# Perplexity: Lower the better. Perplexity = exp(-1. * log-likelihood per word)\n",
    "print(\"Perplexity: \", lda.perplexity(cv_features))\n",
    "# See model parameters\n",
    "print(lda.get_params())"
   ]
  },
  {
   "cell_type": "code",
   "execution_count": 70,
   "metadata": {
    "collapsed": false
   },
   "outputs": [
    {
     "data": {
      "text/plain": [
       "GridSearchCV(cv=None, error_score='raise',\n",
       "       estimator=LatentDirichletAllocation(batch_size=128, doc_topic_prior=None,\n",
       "             evaluate_every=-1, learning_decay=0.7,\n",
       "             learning_method='online', learning_offset=50.0,\n",
       "             max_doc_update_iter=100, max_iter=5, mean_change_tol=0.001,\n",
       "             n_jobs=1, n_topics=10, perp_tol=0.1, random_state=0,\n",
       "             topic_word_prior=None, total_samples=1000000.0, verbose=0),\n",
       "       fit_params={}, iid=True, n_jobs=1,\n",
       "       param_grid={'n_topics': [10, 15, 20, 25, 30], 'learning_decay': [0.5, 0.7, 0.9]},\n",
       "       pre_dispatch='2*n_jobs', refit=True, scoring=None, verbose=0)"
      ]
     },
     "execution_count": 70,
     "metadata": {},
     "output_type": "execute_result"
    }
   ],
   "source": [
    "from sklearn.grid_search import GridSearchCV\n",
    "# Define Search Param\n",
    "search_params = {'n_topics': [10, 15, 20, 25, 30], 'learning_decay': [.5, .7, .9]}\n",
    "# Init the Model\n",
    "lda = LatentDirichletAllocation(max_iter=5, learning_method='online', learning_offset=50.,random_state=0)\n",
    "# Init Grid Search Class\n",
    "model = GridSearchCV(lda, param_grid=search_params)\n",
    "# Do the Grid Search\n",
    "model.fit(cv_features)"
   ]
  },
  {
   "cell_type": "code",
   "execution_count": 71,
   "metadata": {
    "collapsed": false
   },
   "outputs": [
    {
     "name": "stdout",
     "output_type": "stream",
     "text": [
      "(\"Best Model's Params: \", {'n_topics': 10, 'learning_decay': 0.9})\n",
      "('Best Log Likelihood Score: ', -158394.7068399801)\n",
      "('Model Perplexity: ', 653.0955503889503)\n"
     ]
    }
   ],
   "source": [
    "# Best Model\n",
    "best_lda_model = model.best_estimator_\n",
    "# Model Parameters\n",
    "print(\"Best Model's Params: \", model.best_params_)\n",
    "# Log Likelihood Score\n",
    "print(\"Best Log Likelihood Score: \", model.best_score_)\n",
    "# Perplexity\n",
    "print(\"Model Perplexity: \", best_lda_model.perplexity(cv_features))"
   ]
  },
  {
   "cell_type": "code",
   "execution_count": 72,
   "metadata": {
    "collapsed": false
   },
   "outputs": [
    {
     "name": "stdout",
     "output_type": "stream",
     "text": [
      "LatentDirichletAllocation(batch_size=128, doc_topic_prior=None,\n",
      "             evaluate_every=-1, learning_decay=0.7,\n",
      "             learning_method='online', learning_offset=50.0,\n",
      "             max_doc_update_iter=100, max_iter=5, mean_change_tol=0.001,\n",
      "             n_jobs=1, n_topics=10, perp_tol=0.1, random_state=100,\n",
      "             topic_word_prior=None, total_samples=1000000.0, verbose=0)\n"
     ]
    }
   ],
   "source": [
    "from sklearn.decomposition import LatentDirichletAllocation\n",
    "\n",
    "n_components=10\n",
    "lda=LatentDirichletAllocation(n_components,max_iter=5, learning_method='online',learning_offset=50.,random_state=100)\n",
    "topics=lda.fit_transform(cv_features)\n",
    "\n",
    "print(lda)"
   ]
  },
  {
   "cell_type": "code",
   "execution_count": 73,
   "metadata": {
    "collapsed": false
   },
   "outputs": [
    {
     "name": "stdout",
     "output_type": "stream",
     "text": [
      "Topic 0:\n",
      "amaz friendli price best alway fresh favorit definit stop littl\n",
      "Topic 1:\n",
      "custom compani use phone profession busi clean mani job day\n",
      "Topic 2:\n",
      "lot donut fresh store mean cafe treat today park spot\n",
      "Topic 3:\n",
      "tast chicken burrito wine pizza special spot home night water\n",
      "Topic 4:\n",
      "hotel eat breakfast meal night serv cook sure server wife\n",
      "Topic 5:\n",
      "ask wait order tabl minut year review told look better\n",
      "Topic 6:\n",
      "menu friend order salad pretti select bar sandwich seat fish\n",
      "Topic 7:\n",
      "locat date doctor hollywood bother walgreen finish beauti team stock\n",
      "Topic 8:\n",
      "experi burger dine peopl room thing look expect enjoy tabl\n",
      "Topic 9:\n",
      "beer meat sauc shrimp serv app vega dinner lobster wednesday\n"
     ]
    }
   ],
   "source": [
    "#To print the top 10 words of each topic\n",
    "def display_topics(model,feature_names,no_top_words):\n",
    "    for topic_idx, topic in enumerate(model.components_):\n",
    "        print (\"Topic %d:\" % (topic_idx))\n",
    "        print (\" \".join([feature_names[i]\n",
    "                        for i in topic.argsort()[:-no_top_words - 1:-1]]))\n",
    "\n",
    "no_top_words = 10\n",
    "print(\"\\nTopics in LDA model: \")\n",
    "display_topics(lda, tf_feature_names, no_top_words)"
   ]
  },
  {
   "cell_type": "code",
   "execution_count": 86,
   "metadata": {
    "collapsed": true
   },
   "outputs": [],
   "source": [
    "#For the Representation of word clouds for each topics\n",
    "first_topic = lda.components_[0]\n",
    "second_topic = lda.components_[1]\n",
    "third_topic = lda.components_[2]\n",
    "fourth_topic = lda.components_[3]\n",
    "#first_topic.shape\n",
    "\n",
    "first_topic_words = [tf_feature_names[i] for i in first_topic.argsort()[:-50 - 1 :-1]]\n",
    "second_topic_words = [tf_feature_names[i] for i in second_topic.argsort()[:-50 - 1 :-1]]\n",
    "third_topic_words = [tf_feature_names[i] for i in third_topic.argsort()[:-50 - 1 :-1]]\n",
    "fourth_topic_words = [tf_feature_names[i] for i in fourth_topic.argsort()[:-50 - 1 :-1]]\n"
   ]
  },
  {
   "cell_type": "code",
   "execution_count": 87,
   "metadata": {
    "collapsed": false
   },
   "outputs": [
    {
     "data": {
      "image/png": "[encoded data removed]",
      "text/plain": [
       "<matplotlib.figure.Figure at 0x24b16cc0>"
      ]
     },
     "metadata": {},
     "output_type": "display_data"
    }
   ],
   "source": [
    "#First topic word cloud \n",
    "# Generating the wordcloud with the values under the category dataframe\n",
    "print(\"First topic word cloud\")\n",
    "firstcloud = WordCloud(\n",
    "                          stopwords=STOPWORDS,\n",
    "                          background_color='black',\n",
    "                          width=2500,\n",
    "                          height=1800\n",
    "                         ).generate(\" \".join(first_topic_words))\n",
    "plt.imshow(firstcloud)\n",
    "plt.axis('off')\n",
    "plt.show()"
   ]
  },
  {
   "cell_type": "code",
   "execution_count": 90,
   "metadata": {
    "collapsed": false
   },
   "outputs": [
    {
     "name": "stdout",
     "output_type": "stream",
     "text": [
      "Second Topic cloud\n"
     ]
    },
    {
     "data": {
      "image/png": "[encoded data removed]",
      "text/plain": [
       "<matplotlib.figure.Figure at 0x24985358>"
      ]
     },
     "metadata": {},
     "output_type": "display_data"
    }
   ],
   "source": [
    "#Second topic word cloud \n",
    "# Generating the wordcloud with the values under the category dataframe\n",
    "print(\"Second Topic cloud\")\n",
    "firstcloud = WordCloud(\n",
    "                          stopwords=STOPWORDS,\n",
    "                          background_color='black',\n",
    "                          width=2500,\n",
    "                          height=1800\n",
    "                         ).generate(\" \".join(second_topic_words))\n",
    "plt.imshow(firstcloud)\n",
    "plt.axis('off')\n",
    "plt.show()"
   ]
  },
  {
   "cell_type": "code",
   "execution_count": 74,
   "metadata": {
    "collapsed": false
   },
   "outputs": [
    {
     "data": {
      "text/plain": [
       "(2116L, 10L)"
      ]
     },
     "execution_count": 74,
     "metadata": {},
     "output_type": "execute_result"
    }
   ],
   "source": [
    "topic_values = lda.transform(cv_features)  \n",
    "topic_values.shape"
   ]
  },
  {
   "cell_type": "code",
   "execution_count": 75,
   "metadata": {
    "collapsed": false
   },
   "outputs": [],
   "source": [
    "business_review['Topic'] = topic_values.argmax(axis=1)"
   ]
  },
  {
   "cell_type": "code",
   "execution_count": 76,
   "metadata": {
    "collapsed": false
   },
   "outputs": [
    {
     "data": {
      "text/html": [
       "<div>\n",
       "<table border=\"1\" class=\"dataframe\">\n",
       "  <thead>\n",
       "    <tr style=\"text-align: right;\">\n",
       "      <th></th>\n",
       "      <th>b.Bid</th>\n",
       "      <th>c.name</th>\n",
       "      <th>r.date</th>\n",
       "      <th>r.rid</th>\n",
       "      <th>r.stars</th>\n",
       "      <th>r.text</th>\n",
       "      <th>r.useful</th>\n",
       "      <th>Topic</th>\n",
       "    </tr>\n",
       "  </thead>\n",
       "  <tbody>\n",
       "    <tr>\n",
       "      <th>0</th>\n",
       "      <td>alG1fb1kl2vmT8s34jbbHg</td>\n",
       "      <td>Beauty &amp; Spas</td>\n",
       "      <td>2015-09-05</td>\n",
       "      <td>eShfPWENUmZ9sP7fstPt7Q</td>\n",
       "      <td>5</td>\n",
       "      <td>haircut cool atmospher peopl fair thorough lis...</td>\n",
       "      <td>1</td>\n",
       "      <td>8</td>\n",
       "    </tr>\n",
       "    <tr>\n",
       "      <th>1</th>\n",
       "      <td>alG1fb1kl2vmT8s34jbbHg</td>\n",
       "      <td>Hair Salons</td>\n",
       "      <td>2015-09-05</td>\n",
       "      <td>eShfPWENUmZ9sP7fstPt7Q</td>\n",
       "      <td>5</td>\n",
       "      <td>haircut cool atmospher peopl fair thorough lis...</td>\n",
       "      <td>1</td>\n",
       "      <td>8</td>\n",
       "    </tr>\n",
       "    <tr>\n",
       "      <th>2</th>\n",
       "      <td>s8PwBK300SvyJ-dxL-FOpg</td>\n",
       "      <td>Veterinarians</td>\n",
       "      <td>2016-09-03</td>\n",
       "      <td>HK53OvBgibiu7_v1VQK5wA</td>\n",
       "      <td>1</td>\n",
       "      <td>interest make money recommend extrem measur ne...</td>\n",
       "      <td>1</td>\n",
       "      <td>5</td>\n",
       "    </tr>\n",
       "    <tr>\n",
       "      <th>3</th>\n",
       "      <td>s8PwBK300SvyJ-dxL-FOpg</td>\n",
       "      <td>Pets</td>\n",
       "      <td>2016-09-03</td>\n",
       "      <td>HK53OvBgibiu7_v1VQK5wA</td>\n",
       "      <td>1</td>\n",
       "      <td>interest make money recommend extrem measur ne...</td>\n",
       "      <td>1</td>\n",
       "      <td>5</td>\n",
       "    </tr>\n",
       "    <tr>\n",
       "      <th>4</th>\n",
       "      <td>4Bw9XffSa0AMy2SrNCS2KA</td>\n",
       "      <td>Middle Eastern</td>\n",
       "      <td>2010-06-02</td>\n",
       "      <td>VQR9u5gWigPQqttg12zo-A</td>\n",
       "      <td>5</td>\n",
       "      <td>sababa move five statu strictli base falafel p...</td>\n",
       "      <td>2</td>\n",
       "      <td>0</td>\n",
       "    </tr>\n",
       "    <tr>\n",
       "      <th>5</th>\n",
       "      <td>4Bw9XffSa0AMy2SrNCS2KA</td>\n",
       "      <td>Kosher</td>\n",
       "      <td>2010-06-02</td>\n",
       "      <td>VQR9u5gWigPQqttg12zo-A</td>\n",
       "      <td>5</td>\n",
       "      <td>sababa move five statu strictli base falafel p...</td>\n",
       "      <td>2</td>\n",
       "      <td>0</td>\n",
       "    </tr>\n",
       "    <tr>\n",
       "      <th>6</th>\n",
       "      <td>4Bw9XffSa0AMy2SrNCS2KA</td>\n",
       "      <td>Falafel</td>\n",
       "      <td>2010-06-02</td>\n",
       "      <td>VQR9u5gWigPQqttg12zo-A</td>\n",
       "      <td>5</td>\n",
       "      <td>sababa move five statu strictli base falafel p...</td>\n",
       "      <td>2</td>\n",
       "      <td>0</td>\n",
       "    </tr>\n",
       "    <tr>\n",
       "      <th>7</th>\n",
       "      <td>4Bw9XffSa0AMy2SrNCS2KA</td>\n",
       "      <td>Mediterranean</td>\n",
       "      <td>2010-06-02</td>\n",
       "      <td>VQR9u5gWigPQqttg12zo-A</td>\n",
       "      <td>5</td>\n",
       "      <td>sababa move five statu strictli base falafel p...</td>\n",
       "      <td>2</td>\n",
       "      <td>0</td>\n",
       "    </tr>\n",
       "    <tr>\n",
       "      <th>8</th>\n",
       "      <td>4Bw9XffSa0AMy2SrNCS2KA</td>\n",
       "      <td>Restaurants</td>\n",
       "      <td>2010-06-02</td>\n",
       "      <td>VQR9u5gWigPQqttg12zo-A</td>\n",
       "      <td>5</td>\n",
       "      <td>sababa move five statu strictli base falafel p...</td>\n",
       "      <td>2</td>\n",
       "      <td>0</td>\n",
       "    </tr>\n",
       "    <tr>\n",
       "      <th>9</th>\n",
       "      <td>BNubIia7rJAqSRxioUZGxg</td>\n",
       "      <td>Restaurants</td>\n",
       "      <td>2013-07-08</td>\n",
       "      <td>vLCqQ50Cucf0LcDzKtk4iA</td>\n",
       "      <td>5</td>\n",
       "      <td>lao thai curri amaz mani dish excel seat side ...</td>\n",
       "      <td>1</td>\n",
       "      <td>0</td>\n",
       "    </tr>\n",
       "    <tr>\n",
       "      <th>10</th>\n",
       "      <td>BNubIia7rJAqSRxioUZGxg</td>\n",
       "      <td>Thai</td>\n",
       "      <td>2013-07-08</td>\n",
       "      <td>vLCqQ50Cucf0LcDzKtk4iA</td>\n",
       "      <td>5</td>\n",
       "      <td>lao thai curri amaz mani dish excel seat side ...</td>\n",
       "      <td>1</td>\n",
       "      <td>0</td>\n",
       "    </tr>\n",
       "    <tr>\n",
       "      <th>11</th>\n",
       "      <td>pA44gWen_SoKoLqfiipkvA</td>\n",
       "      <td>SpecialtyFood</td>\n",
       "      <td>2010-10-26</td>\n",
       "      <td>rVVXd7jcyQnjf-nhKdpzRw</td>\n",
       "      <td>4</td>\n",
       "      <td>littl church three varieti sorbetto vegan deli...</td>\n",
       "      <td>2</td>\n",
       "      <td>6</td>\n",
       "    </tr>\n",
       "    <tr>\n",
       "      <th>12</th>\n",
       "      <td>pA44gWen_SoKoLqfiipkvA</td>\n",
       "      <td>Chocolatiers &amp; Shops</td>\n",
       "      <td>2010-10-26</td>\n",
       "      <td>rVVXd7jcyQnjf-nhKdpzRw</td>\n",
       "      <td>4</td>\n",
       "      <td>littl church three varieti sorbetto vegan deli...</td>\n",
       "      <td>2</td>\n",
       "      <td>6</td>\n",
       "    </tr>\n",
       "    <tr>\n",
       "      <th>13</th>\n",
       "      <td>pA44gWen_SoKoLqfiipkvA</td>\n",
       "      <td>Food</td>\n",
       "      <td>2010-10-26</td>\n",
       "      <td>rVVXd7jcyQnjf-nhKdpzRw</td>\n",
       "      <td>4</td>\n",
       "      <td>littl church three varieti sorbetto vegan deli...</td>\n",
       "      <td>2</td>\n",
       "      <td>6</td>\n",
       "    </tr>\n",
       "    <tr>\n",
       "      <th>14</th>\n",
       "      <td>i43yZtGjLh2TG9h7qnlrqg</td>\n",
       "      <td>Day Spas</td>\n",
       "      <td>2016-05-16</td>\n",
       "      <td>v2LE8OeTOS-wvhjW34Dmhw</td>\n",
       "      <td>5</td>\n",
       "      <td>absolut amaz outstand atmospher relax stun vie...</td>\n",
       "      <td>1</td>\n",
       "      <td>0</td>\n",
       "    </tr>\n",
       "    <tr>\n",
       "      <th>15</th>\n",
       "      <td>i43yZtGjLh2TG9h7qnlrqg</td>\n",
       "      <td>Massage Therapy</td>\n",
       "      <td>2016-05-16</td>\n",
       "      <td>v2LE8OeTOS-wvhjW34Dmhw</td>\n",
       "      <td>5</td>\n",
       "      <td>absolut amaz outstand atmospher relax stun vie...</td>\n",
       "      <td>1</td>\n",
       "      <td>0</td>\n",
       "    </tr>\n",
       "    <tr>\n",
       "      <th>16</th>\n",
       "      <td>i43yZtGjLh2TG9h7qnlrqg</td>\n",
       "      <td>Active Life</td>\n",
       "      <td>2016-05-16</td>\n",
       "      <td>v2LE8OeTOS-wvhjW34Dmhw</td>\n",
       "      <td>5</td>\n",
       "      <td>absolut amaz outstand atmospher relax stun vie...</td>\n",
       "      <td>1</td>\n",
       "      <td>0</td>\n",
       "    </tr>\n",
       "    <tr>\n",
       "      <th>17</th>\n",
       "      <td>i43yZtGjLh2TG9h7qnlrqg</td>\n",
       "      <td>Beauty &amp; Spas</td>\n",
       "      <td>2016-05-16</td>\n",
       "      <td>v2LE8OeTOS-wvhjW34Dmhw</td>\n",
       "      <td>5</td>\n",
       "      <td>absolut amaz outstand atmospher relax stun vie...</td>\n",
       "      <td>1</td>\n",
       "      <td>0</td>\n",
       "    </tr>\n",
       "    <tr>\n",
       "      <th>18</th>\n",
       "      <td>i43yZtGjLh2TG9h7qnlrqg</td>\n",
       "      <td>Skin Care</td>\n",
       "      <td>2016-05-16</td>\n",
       "      <td>v2LE8OeTOS-wvhjW34Dmhw</td>\n",
       "      <td>5</td>\n",
       "      <td>absolut amaz outstand atmospher relax stun vie...</td>\n",
       "      <td>1</td>\n",
       "      <td>0</td>\n",
       "    </tr>\n",
       "    <tr>\n",
       "      <th>19</th>\n",
       "      <td>i43yZtGjLh2TG9h7qnlrqg</td>\n",
       "      <td>Shopping</td>\n",
       "      <td>2016-05-16</td>\n",
       "      <td>v2LE8OeTOS-wvhjW34Dmhw</td>\n",
       "      <td>5</td>\n",
       "      <td>absolut amaz outstand atmospher relax stun vie...</td>\n",
       "      <td>1</td>\n",
       "      <td>0</td>\n",
       "    </tr>\n",
       "  </tbody>\n",
       "</table>\n",
       "</div>"
      ],
      "text/plain": [
       "                     b.Bid                 c.name      r.date  \\\n",
       "0   alG1fb1kl2vmT8s34jbbHg          Beauty & Spas  2015-09-05   \n",
       "1   alG1fb1kl2vmT8s34jbbHg            Hair Salons  2015-09-05   \n",
       "2   s8PwBK300SvyJ-dxL-FOpg          Veterinarians  2016-09-03   \n",
       "3   s8PwBK300SvyJ-dxL-FOpg                   Pets  2016-09-03   \n",
       "4   4Bw9XffSa0AMy2SrNCS2KA         Middle Eastern  2010-06-02   \n",
       "5   4Bw9XffSa0AMy2SrNCS2KA                 Kosher  2010-06-02   \n",
       "6   4Bw9XffSa0AMy2SrNCS2KA                Falafel  2010-06-02   \n",
       "7   4Bw9XffSa0AMy2SrNCS2KA          Mediterranean  2010-06-02   \n",
       "8   4Bw9XffSa0AMy2SrNCS2KA            Restaurants  2010-06-02   \n",
       "9   BNubIia7rJAqSRxioUZGxg            Restaurants  2013-07-08   \n",
       "10  BNubIia7rJAqSRxioUZGxg                   Thai  2013-07-08   \n",
       "11  pA44gWen_SoKoLqfiipkvA          SpecialtyFood  2010-10-26   \n",
       "12  pA44gWen_SoKoLqfiipkvA   Chocolatiers & Shops  2010-10-26   \n",
       "13  pA44gWen_SoKoLqfiipkvA                   Food  2010-10-26   \n",
       "14  i43yZtGjLh2TG9h7qnlrqg               Day Spas  2016-05-16   \n",
       "15  i43yZtGjLh2TG9h7qnlrqg        Massage Therapy  2016-05-16   \n",
       "16  i43yZtGjLh2TG9h7qnlrqg            Active Life  2016-05-16   \n",
       "17  i43yZtGjLh2TG9h7qnlrqg          Beauty & Spas  2016-05-16   \n",
       "18  i43yZtGjLh2TG9h7qnlrqg              Skin Care  2016-05-16   \n",
       "19  i43yZtGjLh2TG9h7qnlrqg               Shopping  2016-05-16   \n",
       "\n",
       "                     r.rid  r.stars  \\\n",
       "0   eShfPWENUmZ9sP7fstPt7Q        5   \n",
       "1   eShfPWENUmZ9sP7fstPt7Q        5   \n",
       "2   HK53OvBgibiu7_v1VQK5wA        1   \n",
       "3   HK53OvBgibiu7_v1VQK5wA        1   \n",
       "4   VQR9u5gWigPQqttg12zo-A        5   \n",
       "5   VQR9u5gWigPQqttg12zo-A        5   \n",
       "6   VQR9u5gWigPQqttg12zo-A        5   \n",
       "7   VQR9u5gWigPQqttg12zo-A        5   \n",
       "8   VQR9u5gWigPQqttg12zo-A        5   \n",
       "9   vLCqQ50Cucf0LcDzKtk4iA        5   \n",
       "10  vLCqQ50Cucf0LcDzKtk4iA        5   \n",
       "11  rVVXd7jcyQnjf-nhKdpzRw        4   \n",
       "12  rVVXd7jcyQnjf-nhKdpzRw        4   \n",
       "13  rVVXd7jcyQnjf-nhKdpzRw        4   \n",
       "14  v2LE8OeTOS-wvhjW34Dmhw        5   \n",
       "15  v2LE8OeTOS-wvhjW34Dmhw        5   \n",
       "16  v2LE8OeTOS-wvhjW34Dmhw        5   \n",
       "17  v2LE8OeTOS-wvhjW34Dmhw        5   \n",
       "18  v2LE8OeTOS-wvhjW34Dmhw        5   \n",
       "19  v2LE8OeTOS-wvhjW34Dmhw        5   \n",
       "\n",
       "                                               r.text  r.useful  Topic  \n",
       "0   haircut cool atmospher peopl fair thorough lis...         1      8  \n",
       "1   haircut cool atmospher peopl fair thorough lis...         1      8  \n",
       "2   interest make money recommend extrem measur ne...         1      5  \n",
       "3   interest make money recommend extrem measur ne...         1      5  \n",
       "4   sababa move five statu strictli base falafel p...         2      0  \n",
       "5   sababa move five statu strictli base falafel p...         2      0  \n",
       "6   sababa move five statu strictli base falafel p...         2      0  \n",
       "7   sababa move five statu strictli base falafel p...         2      0  \n",
       "8   sababa move five statu strictli base falafel p...         2      0  \n",
       "9   lao thai curri amaz mani dish excel seat side ...         1      0  \n",
       "10  lao thai curri amaz mani dish excel seat side ...         1      0  \n",
       "11  littl church three varieti sorbetto vegan deli...         2      6  \n",
       "12  littl church three varieti sorbetto vegan deli...         2      6  \n",
       "13  littl church three varieti sorbetto vegan deli...         2      6  \n",
       "14  absolut amaz outstand atmospher relax stun vie...         1      0  \n",
       "15  absolut amaz outstand atmospher relax stun vie...         1      0  \n",
       "16  absolut amaz outstand atmospher relax stun vie...         1      0  \n",
       "17  absolut amaz outstand atmospher relax stun vie...         1      0  \n",
       "18  absolut amaz outstand atmospher relax stun vie...         1      0  \n",
       "19  absolut amaz outstand atmospher relax stun vie...         1      0  "
      ]
     },
     "execution_count": 76,
     "metadata": {},
     "output_type": "execute_result"
    }
   ],
   "source": [
    "business_review.head(20)"
   ]
  },
  {
   "cell_type": "code",
   "execution_count": 82,
   "metadata": {
    "collapsed": false
   },
   "outputs": [
    {
     "data": {
      "text/html": [
       "<div>\n",
       "<table border=\"1\" class=\"dataframe\">\n",
       "  <thead>\n",
       "    <tr style=\"text-align: right;\">\n",
       "      <th></th>\n",
       "      <th>abl</th>\n",
       "      <th>absolut</th>\n",
       "      <th>absolut amaz</th>\n",
       "      <th>accept</th>\n",
       "      <th>accommod</th>\n",
       "      <th>actual</th>\n",
       "      <th>ad</th>\n",
       "      <th>add</th>\n",
       "      <th>addit</th>\n",
       "      <th>advanc</th>\n",
       "      <th>...</th>\n",
       "      <th>write</th>\n",
       "      <th>wrong</th>\n",
       "      <th>ye</th>\n",
       "      <th>year</th>\n",
       "      <th>year old</th>\n",
       "      <th>yell</th>\n",
       "      <th>yelp</th>\n",
       "      <th>yesterday</th>\n",
       "      <th>york</th>\n",
       "      <th>yummi</th>\n",
       "    </tr>\n",
       "  </thead>\n",
       "  <tbody>\n",
       "    <tr>\n",
       "      <th>Topic0</th>\n",
       "      <td>0.676915</td>\n",
       "      <td>0.479768</td>\n",
       "      <td>0.332297</td>\n",
       "      <td>0.270193</td>\n",
       "      <td>0.288045</td>\n",
       "      <td>1.709580</td>\n",
       "      <td>0.311216</td>\n",
       "      <td>3.383473</td>\n",
       "      <td>0.426720</td>\n",
       "      <td>0.297368</td>\n",
       "      <td>...</td>\n",
       "      <td>0.345375</td>\n",
       "      <td>0.262100</td>\n",
       "      <td>0.314923</td>\n",
       "      <td>0.296325</td>\n",
       "      <td>0.330477</td>\n",
       "      <td>0.290017</td>\n",
       "      <td>0.294350</td>\n",
       "      <td>0.322072</td>\n",
       "      <td>0.287752</td>\n",
       "      <td>8.480311</td>\n",
       "    </tr>\n",
       "    <tr>\n",
       "      <th>Topic1</th>\n",
       "      <td>0.589918</td>\n",
       "      <td>2.632743</td>\n",
       "      <td>0.553082</td>\n",
       "      <td>7.564843</td>\n",
       "      <td>0.833911</td>\n",
       "      <td>1.378941</td>\n",
       "      <td>1.281348</td>\n",
       "      <td>4.541263</td>\n",
       "      <td>0.406794</td>\n",
       "      <td>4.661135</td>\n",
       "      <td>...</td>\n",
       "      <td>6.339308</td>\n",
       "      <td>17.808551</td>\n",
       "      <td>2.738720</td>\n",
       "      <td>113.074134</td>\n",
       "      <td>14.975469</td>\n",
       "      <td>0.610008</td>\n",
       "      <td>10.073647</td>\n",
       "      <td>9.253523</td>\n",
       "      <td>0.435810</td>\n",
       "      <td>0.530592</td>\n",
       "    </tr>\n",
       "    <tr>\n",
       "      <th>Topic2</th>\n",
       "      <td>1.637125</td>\n",
       "      <td>0.366719</td>\n",
       "      <td>0.410713</td>\n",
       "      <td>0.316442</td>\n",
       "      <td>0.282099</td>\n",
       "      <td>0.852201</td>\n",
       "      <td>0.326199</td>\n",
       "      <td>0.302414</td>\n",
       "      <td>0.288741</td>\n",
       "      <td>0.307885</td>\n",
       "      <td>...</td>\n",
       "      <td>0.293216</td>\n",
       "      <td>0.273978</td>\n",
       "      <td>0.307689</td>\n",
       "      <td>0.327083</td>\n",
       "      <td>0.300225</td>\n",
       "      <td>0.331969</td>\n",
       "      <td>0.292546</td>\n",
       "      <td>0.345845</td>\n",
       "      <td>0.347356</td>\n",
       "      <td>0.256940</td>\n",
       "    </tr>\n",
       "    <tr>\n",
       "      <th>Topic3</th>\n",
       "      <td>4.347958</td>\n",
       "      <td>26.234589</td>\n",
       "      <td>1.530324</td>\n",
       "      <td>0.800007</td>\n",
       "      <td>0.547087</td>\n",
       "      <td>25.557620</td>\n",
       "      <td>14.654160</td>\n",
       "      <td>10.555130</td>\n",
       "      <td>12.564821</td>\n",
       "      <td>0.913635</td>\n",
       "      <td>...</td>\n",
       "      <td>3.270170</td>\n",
       "      <td>4.593892</td>\n",
       "      <td>0.473290</td>\n",
       "      <td>5.360752</td>\n",
       "      <td>0.460724</td>\n",
       "      <td>0.290624</td>\n",
       "      <td>5.209683</td>\n",
       "      <td>1.203084</td>\n",
       "      <td>1.745056</td>\n",
       "      <td>13.867722</td>\n",
       "    </tr>\n",
       "    <tr>\n",
       "      <th>Topic4</th>\n",
       "      <td>12.501113</td>\n",
       "      <td>0.346017</td>\n",
       "      <td>0.356459</td>\n",
       "      <td>0.274407</td>\n",
       "      <td>0.287232</td>\n",
       "      <td>1.728714</td>\n",
       "      <td>2.987877</td>\n",
       "      <td>0.300884</td>\n",
       "      <td>0.285533</td>\n",
       "      <td>0.300580</td>\n",
       "      <td>...</td>\n",
       "      <td>0.414050</td>\n",
       "      <td>0.498892</td>\n",
       "      <td>0.291226</td>\n",
       "      <td>1.642988</td>\n",
       "      <td>0.708438</td>\n",
       "      <td>0.679876</td>\n",
       "      <td>0.307398</td>\n",
       "      <td>0.277113</td>\n",
       "      <td>0.323323</td>\n",
       "      <td>0.296453</td>\n",
       "    </tr>\n",
       "    <tr>\n",
       "      <th>Topic5</th>\n",
       "      <td>2.700550</td>\n",
       "      <td>0.433777</td>\n",
       "      <td>0.421547</td>\n",
       "      <td>2.137675</td>\n",
       "      <td>0.497848</td>\n",
       "      <td>0.336131</td>\n",
       "      <td>5.878312</td>\n",
       "      <td>1.770339</td>\n",
       "      <td>6.544313</td>\n",
       "      <td>0.234140</td>\n",
       "      <td>...</td>\n",
       "      <td>2.977843</td>\n",
       "      <td>0.419060</td>\n",
       "      <td>0.975948</td>\n",
       "      <td>0.996392</td>\n",
       "      <td>0.798778</td>\n",
       "      <td>0.273626</td>\n",
       "      <td>3.786321</td>\n",
       "      <td>0.267715</td>\n",
       "      <td>0.821140</td>\n",
       "      <td>0.893210</td>\n",
       "    </tr>\n",
       "    <tr>\n",
       "      <th>Topic6</th>\n",
       "      <td>0.628919</td>\n",
       "      <td>15.229673</td>\n",
       "      <td>0.715220</td>\n",
       "      <td>6.622593</td>\n",
       "      <td>0.979440</td>\n",
       "      <td>0.452043</td>\n",
       "      <td>0.273339</td>\n",
       "      <td>3.150483</td>\n",
       "      <td>8.031210</td>\n",
       "      <td>0.272727</td>\n",
       "      <td>...</td>\n",
       "      <td>3.346399</td>\n",
       "      <td>8.861027</td>\n",
       "      <td>5.184493</td>\n",
       "      <td>29.398955</td>\n",
       "      <td>7.154526</td>\n",
       "      <td>0.313822</td>\n",
       "      <td>3.381691</td>\n",
       "      <td>0.295498</td>\n",
       "      <td>0.286489</td>\n",
       "      <td>0.266785</td>\n",
       "    </tr>\n",
       "    <tr>\n",
       "      <th>Topic7</th>\n",
       "      <td>27.142807</td>\n",
       "      <td>5.651830</td>\n",
       "      <td>0.257038</td>\n",
       "      <td>0.398744</td>\n",
       "      <td>4.288160</td>\n",
       "      <td>29.763074</td>\n",
       "      <td>9.980558</td>\n",
       "      <td>4.933700</td>\n",
       "      <td>5.925783</td>\n",
       "      <td>10.898545</td>\n",
       "      <td>...</td>\n",
       "      <td>1.981169</td>\n",
       "      <td>6.931889</td>\n",
       "      <td>38.362840</td>\n",
       "      <td>9.658199</td>\n",
       "      <td>1.685429</td>\n",
       "      <td>4.452573</td>\n",
       "      <td>1.671737</td>\n",
       "      <td>4.806372</td>\n",
       "      <td>2.658146</td>\n",
       "      <td>33.619343</td>\n",
       "    </tr>\n",
       "    <tr>\n",
       "      <th>Topic8</th>\n",
       "      <td>30.109411</td>\n",
       "      <td>66.591806</td>\n",
       "      <td>14.720338</td>\n",
       "      <td>0.301339</td>\n",
       "      <td>11.436180</td>\n",
       "      <td>18.013263</td>\n",
       "      <td>0.571221</td>\n",
       "      <td>2.751322</td>\n",
       "      <td>18.777301</td>\n",
       "      <td>0.483774</td>\n",
       "      <td>...</td>\n",
       "      <td>0.779749</td>\n",
       "      <td>8.731462</td>\n",
       "      <td>0.596517</td>\n",
       "      <td>20.238595</td>\n",
       "      <td>1.248902</td>\n",
       "      <td>5.612360</td>\n",
       "      <td>6.046569</td>\n",
       "      <td>1.066290</td>\n",
       "      <td>11.493866</td>\n",
       "      <td>1.045069</td>\n",
       "    </tr>\n",
       "    <tr>\n",
       "      <th>Topic9</th>\n",
       "      <td>0.698521</td>\n",
       "      <td>2.532002</td>\n",
       "      <td>4.439742</td>\n",
       "      <td>0.353462</td>\n",
       "      <td>11.463229</td>\n",
       "      <td>9.036956</td>\n",
       "      <td>4.292409</td>\n",
       "      <td>0.936072</td>\n",
       "      <td>0.887151</td>\n",
       "      <td>0.472344</td>\n",
       "      <td>...</td>\n",
       "      <td>0.552985</td>\n",
       "      <td>4.332258</td>\n",
       "      <td>0.735184</td>\n",
       "      <td>0.339443</td>\n",
       "      <td>0.303016</td>\n",
       "      <td>8.160989</td>\n",
       "      <td>0.472743</td>\n",
       "      <td>0.519802</td>\n",
       "      <td>0.344823</td>\n",
       "      <td>0.481470</td>\n",
       "    </tr>\n",
       "  </tbody>\n",
       "</table>\n",
       "<p>10 rows × 1000 columns</p>\n",
       "</div>"
      ],
      "text/plain": [
       "              abl    absolut  absolut amaz    accept   accommod     actual  \\\n",
       "Topic0   0.676915   0.479768      0.332297  0.270193   0.288045   1.709580   \n",
       "Topic1   0.589918   2.632743      0.553082  7.564843   0.833911   1.378941   \n",
       "Topic2   1.637125   0.366719      0.410713  0.316442   0.282099   0.852201   \n",
       "Topic3   4.347958  26.234589      1.530324  0.800007   0.547087  25.557620   \n",
       "Topic4  12.501113   0.346017      0.356459  0.274407   0.287232   1.728714   \n",
       "Topic5   2.700550   0.433777      0.421547  2.137675   0.497848   0.336131   \n",
       "Topic6   0.628919  15.229673      0.715220  6.622593   0.979440   0.452043   \n",
       "Topic7  27.142807   5.651830      0.257038  0.398744   4.288160  29.763074   \n",
       "Topic8  30.109411  66.591806     14.720338  0.301339  11.436180  18.013263   \n",
       "Topic9   0.698521   2.532002      4.439742  0.353462  11.463229   9.036956   \n",
       "\n",
       "               ad        add      addit     advanc    ...         write  \\\n",
       "Topic0   0.311216   3.383473   0.426720   0.297368    ...      0.345375   \n",
       "Topic1   1.281348   4.541263   0.406794   4.661135    ...      6.339308   \n",
       "Topic2   0.326199   0.302414   0.288741   0.307885    ...      0.293216   \n",
       "Topic3  14.654160  10.555130  12.564821   0.913635    ...      3.270170   \n",
       "Topic4   2.987877   0.300884   0.285533   0.300580    ...      0.414050   \n",
       "Topic5   5.878312   1.770339   6.544313   0.234140    ...      2.977843   \n",
       "Topic6   0.273339   3.150483   8.031210   0.272727    ...      3.346399   \n",
       "Topic7   9.980558   4.933700   5.925783  10.898545    ...      1.981169   \n",
       "Topic8   0.571221   2.751322  18.777301   0.483774    ...      0.779749   \n",
       "Topic9   4.292409   0.936072   0.887151   0.472344    ...      0.552985   \n",
       "\n",
       "            wrong         ye        year   year old      yell       yelp  \\\n",
       "Topic0   0.262100   0.314923    0.296325   0.330477  0.290017   0.294350   \n",
       "Topic1  17.808551   2.738720  113.074134  14.975469  0.610008  10.073647   \n",
       "Topic2   0.273978   0.307689    0.327083   0.300225  0.331969   0.292546   \n",
       "Topic3   4.593892   0.473290    5.360752   0.460724  0.290624   5.209683   \n",
       "Topic4   0.498892   0.291226    1.642988   0.708438  0.679876   0.307398   \n",
       "Topic5   0.419060   0.975948    0.996392   0.798778  0.273626   3.786321   \n",
       "Topic6   8.861027   5.184493   29.398955   7.154526  0.313822   3.381691   \n",
       "Topic7   6.931889  38.362840    9.658199   1.685429  4.452573   1.671737   \n",
       "Topic8   8.731462   0.596517   20.238595   1.248902  5.612360   6.046569   \n",
       "Topic9   4.332258   0.735184    0.339443   0.303016  8.160989   0.472743   \n",
       "\n",
       "        yesterday       york      yummi  \n",
       "Topic0   0.322072   0.287752   8.480311  \n",
       "Topic1   9.253523   0.435810   0.530592  \n",
       "Topic2   0.345845   0.347356   0.256940  \n",
       "Topic3   1.203084   1.745056  13.867722  \n",
       "Topic4   0.277113   0.323323   0.296453  \n",
       "Topic5   0.267715   0.821140   0.893210  \n",
       "Topic6   0.295498   0.286489   0.266785  \n",
       "Topic7   4.806372   2.658146  33.619343  \n",
       "Topic8   1.066290  11.493866   1.045069  \n",
       "Topic9   0.519802   0.344823   0.481470  \n",
       "\n",
       "[10 rows x 1000 columns]"
      ]
     },
     "execution_count": 82,
     "metadata": {},
     "output_type": "execute_result"
    }
   ],
   "source": [
    "#Dominant Topics Keywords Matrix\n",
    "# Topic-Keyword Matrix\n",
    "df_topic_keywords = pd.DataFrame(best_lda_model.components_)\n",
    "# Assign Column and Index\n",
    "df_topic_keywords.columns = tf_feature_names\n",
    "# column names\n",
    "topicnames = [\"Topic\" + str(i) for i in range(10)]\n",
    "df_topic_keywords.index = topicnames\n",
    "# View\n",
    "df_topic_keywords.head(10)"
   ]
  },
  {
   "cell_type": "code",
   "execution_count": 83,
   "metadata": {
    "collapsed": false
   },
   "outputs": [
    {
     "data": {
      "text/html": [
       "<div>\n",
       "<table border=\"1\" class=\"dataframe\">\n",
       "  <thead>\n",
       "    <tr style=\"text-align: right;\">\n",
       "      <th></th>\n",
       "      <th>Word 0</th>\n",
       "      <th>Word 1</th>\n",
       "      <th>Word 2</th>\n",
       "      <th>Word 3</th>\n",
       "      <th>Word 4</th>\n",
       "      <th>Word 5</th>\n",
       "      <th>Word 6</th>\n",
       "      <th>Word 7</th>\n",
       "      <th>Word 8</th>\n",
       "      <th>Word 9</th>\n",
       "      <th>Word 10</th>\n",
       "      <th>Word 11</th>\n",
       "      <th>Word 12</th>\n",
       "      <th>Word 13</th>\n",
       "      <th>Word 14</th>\n",
       "    </tr>\n",
       "  </thead>\n",
       "  <tbody>\n",
       "    <tr>\n",
       "      <th>Topic 0</th>\n",
       "      <td>amaz</td>\n",
       "      <td>friendli</td>\n",
       "      <td>price</td>\n",
       "      <td>best</td>\n",
       "      <td>alway</td>\n",
       "      <td>fresh</td>\n",
       "      <td>favorit</td>\n",
       "      <td>definit</td>\n",
       "      <td>stop</td>\n",
       "      <td>littl</td>\n",
       "      <td>everyth</td>\n",
       "      <td>come</td>\n",
       "      <td>delici</td>\n",
       "      <td>hot</td>\n",
       "      <td>everi</td>\n",
       "    </tr>\n",
       "    <tr>\n",
       "      <th>Topic 1</th>\n",
       "      <td>custom</td>\n",
       "      <td>compani</td>\n",
       "      <td>use</td>\n",
       "      <td>phone</td>\n",
       "      <td>profession</td>\n",
       "      <td>busi</td>\n",
       "      <td>clean</td>\n",
       "      <td>mani</td>\n",
       "      <td>job</td>\n",
       "      <td>day</td>\n",
       "      <td>work</td>\n",
       "      <td>peopl</td>\n",
       "      <td>instal</td>\n",
       "      <td>excel</td>\n",
       "      <td>fix</td>\n",
       "    </tr>\n",
       "    <tr>\n",
       "      <th>Topic 2</th>\n",
       "      <td>lot</td>\n",
       "      <td>donut</td>\n",
       "      <td>fresh</td>\n",
       "      <td>store</td>\n",
       "      <td>mean</td>\n",
       "      <td>cafe</td>\n",
       "      <td>treat</td>\n",
       "      <td>today</td>\n",
       "      <td>park</td>\n",
       "      <td>spot</td>\n",
       "      <td>busi</td>\n",
       "      <td>complex</td>\n",
       "      <td>tell</td>\n",
       "      <td>fruit</td>\n",
       "      <td>bakeri</td>\n",
       "    </tr>\n",
       "    <tr>\n",
       "      <th>Topic 3</th>\n",
       "      <td>tast</td>\n",
       "      <td>chicken</td>\n",
       "      <td>burrito</td>\n",
       "      <td>wine</td>\n",
       "      <td>pizza</td>\n",
       "      <td>special</td>\n",
       "      <td>spot</td>\n",
       "      <td>home</td>\n",
       "      <td>night</td>\n",
       "      <td>water</td>\n",
       "      <td>soup</td>\n",
       "      <td>pork</td>\n",
       "      <td>dinner</td>\n",
       "      <td>enjoy</td>\n",
       "      <td>tri</td>\n",
       "    </tr>\n",
       "    <tr>\n",
       "      <th>Topic 4</th>\n",
       "      <td>hotel</td>\n",
       "      <td>eat</td>\n",
       "      <td>breakfast</td>\n",
       "      <td>meal</td>\n",
       "      <td>night</td>\n",
       "      <td>serv</td>\n",
       "      <td>cook</td>\n",
       "      <td>sure</td>\n",
       "      <td>server</td>\n",
       "      <td>wife</td>\n",
       "      <td>locat</td>\n",
       "      <td>check</td>\n",
       "      <td>room</td>\n",
       "      <td>best</td>\n",
       "      <td>awesom</td>\n",
       "    </tr>\n",
       "    <tr>\n",
       "      <th>Topic 5</th>\n",
       "      <td>ask</td>\n",
       "      <td>wait</td>\n",
       "      <td>order</td>\n",
       "      <td>tabl</td>\n",
       "      <td>minut</td>\n",
       "      <td>year</td>\n",
       "      <td>review</td>\n",
       "      <td>told</td>\n",
       "      <td>look</td>\n",
       "      <td>better</td>\n",
       "      <td>visit</td>\n",
       "      <td>experi</td>\n",
       "      <td>way</td>\n",
       "      <td>arriv</td>\n",
       "      <td>use</td>\n",
       "    </tr>\n",
       "    <tr>\n",
       "      <th>Topic 6</th>\n",
       "      <td>menu</td>\n",
       "      <td>friend</td>\n",
       "      <td>order</td>\n",
       "      <td>salad</td>\n",
       "      <td>pretti</td>\n",
       "      <td>select</td>\n",
       "      <td>bar</td>\n",
       "      <td>sandwich</td>\n",
       "      <td>seat</td>\n",
       "      <td>fish</td>\n",
       "      <td>delici</td>\n",
       "      <td>tast</td>\n",
       "      <td>bit</td>\n",
       "      <td>lot</td>\n",
       "      <td>hour</td>\n",
       "    </tr>\n",
       "    <tr>\n",
       "      <th>Topic 7</th>\n",
       "      <td>locat</td>\n",
       "      <td>date</td>\n",
       "      <td>doctor</td>\n",
       "      <td>hollywood</td>\n",
       "      <td>bother</td>\n",
       "      <td>walgreen</td>\n",
       "      <td>finish</td>\n",
       "      <td>beauti</td>\n",
       "      <td>team</td>\n",
       "      <td>stock</td>\n",
       "      <td>wed</td>\n",
       "      <td>helen</td>\n",
       "      <td>wonder</td>\n",
       "      <td>invit</td>\n",
       "      <td>lisa</td>\n",
       "    </tr>\n",
       "    <tr>\n",
       "      <th>Topic 8</th>\n",
       "      <td>experi</td>\n",
       "      <td>burger</td>\n",
       "      <td>dine</td>\n",
       "      <td>peopl</td>\n",
       "      <td>room</td>\n",
       "      <td>thing</td>\n",
       "      <td>look</td>\n",
       "      <td>expect</td>\n",
       "      <td>enjoy</td>\n",
       "      <td>tabl</td>\n",
       "      <td>bar</td>\n",
       "      <td>think</td>\n",
       "      <td>bad</td>\n",
       "      <td>small</td>\n",
       "      <td>larg</td>\n",
       "    </tr>\n",
       "    <tr>\n",
       "      <th>Topic 9</th>\n",
       "      <td>beer</td>\n",
       "      <td>meat</td>\n",
       "      <td>sauc</td>\n",
       "      <td>shrimp</td>\n",
       "      <td>serv</td>\n",
       "      <td>app</td>\n",
       "      <td>vega</td>\n",
       "      <td>dinner</td>\n",
       "      <td>lobster</td>\n",
       "      <td>wednesday</td>\n",
       "      <td>delici</td>\n",
       "      <td>wait</td>\n",
       "      <td>dessert</td>\n",
       "      <td>bread</td>\n",
       "      <td>seafood</td>\n",
       "    </tr>\n",
       "  </tbody>\n",
       "</table>\n",
       "</div>"
      ],
      "text/plain": [
       "         Word 0    Word 1     Word 2     Word 3      Word 4    Word 5  \\\n",
       "Topic 0    amaz  friendli      price       best       alway     fresh   \n",
       "Topic 1  custom   compani        use      phone  profession      busi   \n",
       "Topic 2     lot     donut      fresh      store        mean      cafe   \n",
       "Topic 3    tast   chicken    burrito       wine       pizza   special   \n",
       "Topic 4   hotel       eat  breakfast       meal       night      serv   \n",
       "Topic 5     ask      wait      order       tabl       minut      year   \n",
       "Topic 6    menu    friend      order      salad      pretti    select   \n",
       "Topic 7   locat      date     doctor  hollywood      bother  walgreen   \n",
       "Topic 8  experi    burger       dine      peopl        room     thing   \n",
       "Topic 9    beer      meat       sauc     shrimp        serv       app   \n",
       "\n",
       "          Word 6    Word 7   Word 8     Word 9  Word 10  Word 11  Word 12  \\\n",
       "Topic 0  favorit   definit     stop      littl  everyth     come   delici   \n",
       "Topic 1    clean      mani      job        day     work    peopl   instal   \n",
       "Topic 2    treat     today     park       spot     busi  complex     tell   \n",
       "Topic 3     spot      home    night      water     soup     pork   dinner   \n",
       "Topic 4     cook      sure   server       wife    locat    check     room   \n",
       "Topic 5   review      told     look     better    visit   experi      way   \n",
       "Topic 6      bar  sandwich     seat       fish   delici     tast      bit   \n",
       "Topic 7   finish    beauti     team      stock      wed    helen   wonder   \n",
       "Topic 8     look    expect    enjoy       tabl      bar    think      bad   \n",
       "Topic 9     vega    dinner  lobster  wednesday   delici     wait  dessert   \n",
       "\n",
       "        Word 13  Word 14  \n",
       "Topic 0     hot    everi  \n",
       "Topic 1   excel      fix  \n",
       "Topic 2   fruit   bakeri  \n",
       "Topic 3   enjoy      tri  \n",
       "Topic 4    best   awesom  \n",
       "Topic 5   arriv      use  \n",
       "Topic 6     lot     hour  \n",
       "Topic 7   invit     lisa  \n",
       "Topic 8   small     larg  \n",
       "Topic 9   bread  seafood  "
      ]
     },
     "execution_count": 83,
     "metadata": {},
     "output_type": "execute_result"
    }
   ],
   "source": [
    "# Show top n keywords for each topic\n",
    "def show_topics(vectorizer=tf_vectorizer, lda_model=lda, n_words=20):\n",
    "    keywords = np.array(tf_vectorizer.get_feature_names())\n",
    "    topic_keywords = []\n",
    "    for topic_weights in lda_model.components_:\n",
    "        top_keyword_locs = (-topic_weights).argsort()[:n_words]\n",
    "        topic_keywords.append(keywords.take(top_keyword_locs))\n",
    "    return topic_keywords\n",
    "topic_keywords = show_topics(vectorizer=tf_vectorizer, lda_model=lda, n_words=15)\n",
    "# Topic - Keywords Dataframe\n",
    "df_topic_keywords = pd.DataFrame(topic_keywords)\n",
    "df_topic_keywords.columns = ['Word '+str(i) for i in range(df_topic_keywords.shape[1])]\n",
    "df_topic_keywords.index = ['Topic '+str(i) for i in range(df_topic_keywords.shape[0])]\n",
    "df_topic_keywords"
   ]
  },
  {
   "cell_type": "code",
   "execution_count": null,
   "metadata": {
    "collapsed": true
   },
   "outputs": [],
   "source": [
    "Topics = [\"Update Version/Fix Crash Problem\",\"Download/Internet Access\",\"Learn and Share\",\"Card Payment\",\"Notification/Support\", \n",
    "          \"Account Problem\", \"Device/Design/Password\", \"Language/Recommend/Screen Size\", \"Graphic/ Game Design/ Level and Coin\", \"Photo/Search\"]\n",
    "df_topic_keywords[\"Topics\"]=Topics\n",
    "df_topic_keywords"
   ]
  },
  {
   "cell_type": "code",
   "execution_count": 81,
   "metadata": {
    "collapsed": true
   },
   "outputs": [],
   "source": [
    "import pyLDAvis.sklearn"
   ]
  },
  {
   "cell_type": "code",
   "execution_count": 36,
   "metadata": {
    "collapsed": false
   },
   "outputs": [
    {
     "data": {
      "text/html": [
       "\n",
       "<link rel=\"stylesheet\" type=\"text/css\" href=\"https://cdn.rawgit.com/bmabey/pyLDAvis/files/ldavis.v1.0.0.css\">\n",
       "\n",
       "\n",
       "<div id=\"ldavis_el7645230091445438336765\"></div>\n",
       "<script type=\"text/javascript\">\n",
       "\n",
       "var ldavis_el7645230091445438336765_data = {\"plot.opts\": {\"xlab\": \"PC1\", \"ylab\": \"PC2\"}, \"topic.order\": [17, 8, 9, 11, 6, 10, 15, 14, 2, 12, 4, 13, 1, 16, 20, 3, 5, 7, 18, 19], \"token.table\": {\"Topic\": [2, 3, 7, 11, 14, 3, 4, 10, 16, 16, 9, 1, 6, 14, 2, 6, 11, 4, 8, 10, 6, 8, 9, 12, 12, 15, 15, 5, 14, 16, 17, 1, 3, 4, 8, 9, 10, 11, 12, 1, 7, 16, 9, 10, 1, 3, 4, 7, 8, 16, 7, 9, 2, 3, 5, 6, 8, 11, 13, 8, 10, 19, 1, 3, 19, 17, 5, 12, 1, 12, 1, 5, 6, 12, 13, 2, 13, 3, 10, 1, 2, 3, 4, 12, 16, 2, 5, 12, 1, 2, 3, 5, 6, 11, 18, 1, 4, 6, 7, 12, 16, 6, 8, 1, 2, 6, 10, 13, 14, 5, 6, 9, 1, 10, 1, 11, 12, 5, 7, 9, 10, 17, 1, 2, 4, 6, 8, 9, 13, 1, 6, 9, 1, 3, 4, 5, 6, 8, 11, 12, 4, 6, 19, 7, 1, 5, 10, 7, 1, 2, 4, 6, 12, 2, 11, 12, 4, 13, 2, 7, 13, 15, 6, 15, 1, 4, 11, 1, 12, 1, 12, 1, 5, 9, 18, 3, 4, 10, 14, 16, 1, 4, 5, 9, 11, 12, 13, 1, 5, 7, 8, 9, 12, 10, 12, 19, 1, 2, 4, 10, 11, 13, 8, 11, 4, 14, 5, 9, 12, 13, 2, 4, 8, 15, 4, 6, 11, 8, 10, 13, 19, 6, 7, 15, 1, 2, 1, 6, 2, 5, 1, 6, 12, 13, 12, 3, 4, 5, 10, 14, 2, 14, 3, 14, 2, 4, 9, 13, 11, 2, 4, 5, 7, 8, 9, 14, 17, 1, 5, 4, 9, 10, 11, 1, 2, 7, 1, 1, 5, 3, 5, 9, 3, 5, 6, 8, 9, 10, 13, 14, 3, 17, 9, 9, 15, 14, 15, 1, 8, 15, 2, 9, 18, 3, 4, 2, 5, 11, 14, 17, 4, 5, 6, 3, 7, 16, 1, 2, 5, 6, 8, 1, 2, 4, 11, 12, 13, 4, 7, 11, 13, 1, 9, 11, 13, 14, 3, 8, 6, 11, 17, 1, 6, 9, 10, 1, 11, 7, 8, 11, 19, 12, 3, 4, 7, 9, 12, 2, 6, 3, 11, 13, 8, 9, 1, 10, 1, 2, 12, 10, 2, 5, 6, 7, 1, 6, 10, 11, 12, 1, 1, 3, 4, 5, 7, 8, 12, 16, 2, 5, 9, 11, 3, 8, 9, 10, 2, 3, 6, 11, 16, 6, 7, 17, 3, 4, 6, 17, 3, 8, 16, 11, 17, 4, 6, 14, 17, 2, 8, 9, 3, 6, 1, 4, 5, 6, 13, 13, 7, 1, 12, 7, 15, 18, 7, 18, 3, 2, 3, 4, 6, 8, 13, 14, 9, 11, 12, 4, 5, 6, 9, 19, 1, 10, 13, 19, 2, 3, 6, 7, 8, 13, 3, 9, 15, 12, 8, 9, 1, 4, 4, 7, 13, 5, 9, 8, 9, 1, 11, 1, 4, 17, 19, 1, 11, 2, 3, 5, 9, 10, 17, 1, 5, 10, 4, 6, 3, 8, 2, 10, 12, 14, 15, 3, 4, 13, 14, 5, 7, 8, 10, 11, 5, 8, 3, 5, 2, 6, 7, 11, 13, 14, 1, 2, 5, 7, 8, 4, 5, 12, 5, 7, 9, 1, 2, 3, 4, 7, 1, 2, 4, 7, 1, 10, 4, 10, 14, 15, 3, 2, 9, 17, 1, 11, 13, 4, 8, 13, 1, 2, 9, 10, 12, 18, 4, 6, 4, 6, 1, 2, 4, 11, 12, 13, 1, 15, 1, 3, 4, 7, 8, 10, 2, 4, 4, 14, 18, 18, 6, 17, 5, 6, 9, 10, 14, 6, 7, 2, 3, 6, 3, 4, 5, 7, 3, 1, 3, 12, 1, 2, 5, 6, 10, 12, 3, 12, 15, 5, 14, 3, 1, 2, 3, 5, 11, 14, 1, 4, 5, 6, 13, 10, 1, 2, 4, 6, 1, 5, 6, 11, 17, 11, 14, 3, 6, 9, 1, 3, 4, 7, 12, 16, 2, 4, 6, 11, 12, 13, 3, 4, 11, 13, 3, 7, 9, 8, 6, 9, 12, 13, 2, 7, 8, 1, 2, 3, 4, 5, 7, 8, 10, 11, 2, 4, 5, 7, 8, 1, 2, 3, 4, 6, 13, 14, 8, 11, 17, 1, 3, 8, 13, 15, 1, 2, 1, 2, 4, 2, 4, 10, 11, 14, 16, 1, 2, 3, 4, 7, 13, 14, 15, 2, 5, 14, 3, 5, 6, 10, 14, 18, 3, 6, 3, 4, 5, 11, 10, 12, 1, 3, 6, 7, 9, 18, 1, 7, 9, 1, 3, 7, 8, 11, 13, 14, 17, 3, 13, 1, 11, 15, 1, 3, 4, 12, 16, 4, 11, 3, 7, 14, 1, 3, 4, 6, 7, 8, 10, 11, 14, 18, 8, 10, 3, 6, 11, 1, 5, 13, 6, 8, 13, 15, 1, 4, 13, 8, 17, 4, 11, 12, 17, 1, 4, 11, 13, 1, 3, 3, 6, 16, 7, 8, 6, 7, 1, 4, 5, 16, 1, 4, 7, 11, 1, 4, 9, 2, 10, 13, 1, 2, 3, 4, 7, 11, 12, 1, 3, 4, 6, 7, 9, 10, 11, 13, 14, 3, 10, 7, 6, 8, 3, 5, 17, 8, 9, 11, 12, 11, 5, 7, 8, 17, 4, 5, 13, 2, 3, 4, 6, 9, 13, 19, 3, 5, 6, 7, 9, 1, 1, 5, 7, 18, 2, 3, 7, 8, 1, 1, 4, 11, 13, 1, 6, 2, 11, 14, 2, 4, 1, 2, 4, 5, 9, 10, 17, 19, 8, 3, 5, 6, 10, 9, 11, 13, 2, 3, 5, 11, 17, 2, 3, 4, 5, 7, 10, 12, 12, 5, 6, 9, 3, 8, 3, 7, 6, 12, 15, 15, 5, 6, 1, 2, 3, 6, 9, 11, 14, 5, 14, 1, 4, 5, 6, 16, 1, 7, 14, 2, 11, 4, 10, 14, 19, 2, 15, 2, 3, 5, 9, 10, 13, 17, 1, 4, 11, 13, 1, 2, 6, 8, 13, 14, 5, 9, 10, 17, 1, 6, 11, 16, 5, 6, 1, 2, 3, 8, 12, 2, 4, 1, 3, 5, 8, 9, 10, 12, 1, 2, 7, 19, 1, 3, 10, 13, 2, 5, 8, 19, 1, 3, 4, 5, 12, 16, 1, 3, 8, 8, 9, 12, 1, 4, 8, 9, 18, 7, 10, 11, 15, 4, 13, 9, 4, 3, 8, 11, 14, 1, 11, 3, 4, 8, 3, 6, 1, 3, 6, 8, 4, 5, 11, 3, 13, 2, 3, 4, 6, 10, 12, 18, 5, 9, 14, 9, 9, 3, 7, 1, 3, 4, 6, 7, 10, 11, 3, 5, 8, 10, 11, 4, 7, 4, 1, 2, 5, 1, 7, 1, 3, 6, 10, 12, 3, 5, 9, 12, 1, 2, 5, 11, 14, 3, 8, 9, 11, 14, 15, 2, 7, 8, 10, 4, 5, 18, 1, 2, 3, 4, 7, 9, 11, 14, 16, 1, 3, 12, 1, 3, 4, 5, 6, 11, 13, 14, 18, 2, 4, 5, 8, 9, 17, 8, 11, 5, 17, 1, 2, 3, 4, 5, 6, 7, 8, 9, 10, 14, 17, 7, 8, 1, 2, 3, 4, 6, 7, 10, 12, 15, 2, 4, 10, 9, 18, 6, 14, 1, 7, 11, 2, 13, 2, 13, 2, 4, 3, 8, 11, 1, 2, 3, 6, 7, 8, 12, 16, 3, 11, 15, 3, 4, 5, 6, 10, 11, 1, 2, 3, 4, 7, 10, 12, 1, 14, 3, 16, 2, 5, 6, 11, 1, 2, 4, 5, 6, 13, 2, 3, 4, 7, 1, 5, 6, 8, 10, 12, 13, 1, 12, 5, 12, 7, 11, 14, 1, 2, 4, 11, 12, 13, 14, 1, 5, 10, 3, 15, 2, 5, 6, 5, 2, 3, 5, 19, 2, 1, 9, 3, 5, 9, 5, 11, 14, 1, 4, 14, 2, 3, 10, 2, 4, 5, 13, 2, 12, 1, 9, 14, 6, 3, 5, 10, 11, 14, 4, 5, 14, 1, 2, 5, 6, 12, 13, 14, 1, 3, 6, 1, 2, 7, 9, 2, 4, 5, 10, 11, 2, 3, 5, 6, 10, 17, 5, 6, 12, 8, 9, 7, 17, 18, 1, 12, 6, 8, 10, 12, 13, 15, 1, 17, 3, 1, 2, 3, 4, 5, 7, 9, 11, 5, 7, 8, 2, 3, 8, 11, 14, 1, 2, 4, 5, 8, 11, 4, 9, 16, 1, 2, 13, 17, 19, 1, 2, 15, 3, 7, 12, 16, 1, 4, 6, 7, 13, 14, 18, 4, 14, 3, 9, 10, 11, 10, 11, 1, 11, 2, 11, 14, 1, 3, 9, 2, 11, 10, 7, 10, 2, 6, 7, 13, 1, 13, 1, 12, 14, 1, 6, 11, 3, 4, 6, 10, 15, 4, 13, 14, 7, 4, 19, 2, 3, 4, 5, 6, 10, 13, 2, 3, 4, 5, 6, 10, 14, 19, 1, 13, 2, 5, 7, 9, 10, 11, 14, 3, 3, 9, 10, 17, 11, 15, 2, 3, 6, 10, 19, 8, 2, 7, 9, 13, 1, 2, 3, 5, 3, 15, 2, 13, 3, 4, 9, 18, 11, 14, 2, 10, 14, 1, 4, 7, 14, 17, 1, 2, 6, 17, 2, 4, 6, 9, 11, 3, 6, 1, 3, 15, 13, 2, 9, 1, 3, 10, 5, 8, 18, 1, 4, 6, 18, 4, 2, 18, 1, 2, 6, 7, 14, 2, 14, 1, 3, 4, 13, 16, 2, 4, 14, 15, 6, 2, 6, 3, 7, 3, 8, 10, 1, 2, 1, 6, 8, 14, 1, 10, 14, 1, 1, 5, 13, 13, 6, 8, 9, 17, 4, 5, 7, 9, 10, 11, 3, 6, 7, 8, 14, 18, 4, 7, 10, 11, 3, 6, 10, 4, 14, 16, 1, 5, 12, 9, 5, 9, 1, 4, 5, 6, 10, 3, 4, 8, 2, 3, 6, 7, 16, 3, 3, 5, 8, 8, 12, 7, 14, 3, 4, 16, 4, 18, 3, 5, 8, 10, 14, 15, 6, 8, 2, 5, 10, 14, 5, 6, 9, 1, 5, 8, 2, 3, 5, 10, 12, 18, 1, 2, 3, 5, 7, 10, 1, 7, 8, 9, 2, 3, 4, 5, 7, 8, 10, 13, 5, 9, 12, 1, 3, 5, 6, 3, 4, 6, 3, 5, 18, 2, 8, 9, 11, 9, 11, 17, 12, 13, 1, 4, 5, 12, 3, 9, 10, 14, 5, 10, 1, 1, 1, 4, 4, 3, 7, 9, 12, 7, 12, 1, 13, 5, 15, 17, 2, 5, 17, 6, 18, 19, 3, 8, 1, 7, 1, 11, 1, 2, 4, 2, 3, 4, 8, 17, 12, 1, 3, 7, 12, 3, 5, 12, 17, 2, 3, 7, 16, 1, 2, 4, 6, 1, 2, 5, 11, 13, 2, 3, 5, 6, 17, 2, 6, 10, 2, 1, 14, 5, 8, 10, 9, 16, 3, 14, 14, 1, 9, 11, 2, 5, 6, 8, 1, 2, 5, 7, 9, 11, 16, 17, 9, 11, 10, 13, 17, 1, 2, 3, 4, 5, 6, 7, 1, 2, 14, 4, 11, 12, 3, 1, 2, 4, 6, 12, 1, 11, 1, 14, 3, 5, 10, 18, 2, 3, 6, 10, 11, 2, 6, 10, 14, 1, 9, 10, 14, 2, 6, 12, 13, 15, 6, 8, 3, 13, 2, 7, 11, 12, 18, 3, 8, 15, 1, 1, 1, 2, 3, 7, 15, 11, 13, 6, 12, 1, 8, 9, 1, 2, 5, 8, 15, 8, 13, 15, 5, 11, 13, 2, 5, 7, 14, 3, 10, 9, 18, 3, 4, 6, 8, 3, 9, 11, 7, 1, 4, 11, 12, 14, 5, 10, 2, 7, 8, 3, 7, 9, 7, 4, 13, 6, 12, 2, 5, 6, 7, 8, 11, 13, 14, 6, 8, 10, 14, 4, 7, 1, 3, 4, 7, 18, 1, 2, 3, 4, 5, 6, 1, 12, 2, 3, 13, 19, 1, 12, 6, 7, 1, 2, 7, 2, 2, 6, 13, 8, 10, 15, 6, 5, 8, 11, 3, 5, 9, 11, 3, 11, 2, 4, 5, 6, 9, 10, 14, 18, 19, 1, 2, 3, 4, 5, 10, 11, 12, 18, 1, 2, 3, 5, 10, 17, 2, 3, 5, 6, 17, 1, 2, 6, 11, 16, 3, 5, 7, 8, 17, 2, 3, 5, 8, 9, 17, 1, 2, 4, 5, 7, 8, 9, 14, 4, 6, 7, 11, 13, 1, 1, 2, 3, 5, 11, 2, 5, 16, 1, 7, 13, 4, 17, 3, 7, 10, 3, 18, 1, 2, 3, 4, 5, 7, 10, 11, 13, 18, 1, 2, 13, 1, 5, 12, 3, 4, 6, 9, 13, 3, 5, 6, 4, 7, 3, 6, 9, 18, 4, 10, 3, 8, 9, 11, 15, 3, 6, 12, 3, 4, 8, 10, 11, 16, 1, 2, 5, 7, 10, 18, 14, 1, 4, 7, 1, 3, 9, 7, 11, 2, 12, 1, 2, 7, 3, 6, 16, 2, 3, 4, 6, 7, 11, 14, 1, 2, 4, 5, 9, 17, 1, 5, 2, 5, 18, 2, 3, 4, 5, 7, 9, 10, 17, 9, 14, 9, 14, 4, 6, 5, 9, 6, 9, 1, 4, 5, 6, 8, 15, 12, 14, 2, 12, 4, 5, 8, 10, 1, 3, 3, 15, 7, 13, 14, 7, 9, 3, 4, 5, 8, 19, 2, 7, 13, 5, 8, 3, 12, 18, 1, 3, 4, 7, 10, 13, 15, 3, 13, 3, 4, 6, 7, 8, 3, 7, 3, 5, 1, 3, 4, 5, 7, 9, 12, 17, 4, 11, 3, 6, 8, 18, 3, 4, 8, 9, 10, 18, 6, 8, 10, 3, 4, 17, 1, 5, 7, 10, 16], \"Freq\": [0.282064415679633, 0.2719906865482175, 0.13095847870840102, 0.05036864565707732, 0.2719906865482175, 0.3133610362974603, 0.23335396320023638, 0.1266778657372712, 0.32002829238889563, 0.9678045238421233, 0.9707310138950642, 0.19049967539420126, 0.2721423934202875, 0.4898563081565175, 0.48540475834130326, 0.10112599132110484, 0.40450396528441934, 0.7364727767060543, 0.24549092556868474, 0.9492887812166321, 0.17321492308252243, 0.4503588000145583, 0.31178686154854035, 0.9579010724265076, 0.9367266645288446, 0.946577041388999, 0.9465770498010658, 0.3134407801251401, 0.2564515473751146, 0.0854838491250382, 0.2849461637501274, 0.023681168174456348, 0.09768481871963243, 0.2456921198099846, 0.02664131419626339, 0.12432613291589582, 0.30489504024612546, 0.06216306645794791, 0.11248554882866765, 0.12935204006349302, 0.7329948936931271, 0.086234693375662, 0.10500290889124875, 0.84002327112999, 0.2480175737927687, 0.11493497322103916, 0.16635325071466195, 0.17240245983155875, 0.06654130028586477, 0.22684534188362993, 0.2771987718948497, 0.6929969297371242, 0.04902408493195283, 0.07703784775021158, 0.21710666184150537, 0.23111354325063477, 0.3291617131145404, 0.06303096634108221, 0.02101032211369407, 0.12175257306885792, 0.22321305062623953, 0.6493470563672423, 0.7062381576197689, 0.1842360411182006, 0.0921180205591003, 0.9637443439621273, 0.7470951276910832, 0.20752642435863425, 0.5807669099356852, 0.40810647725210314, 0.36441473239319416, 0.17428530679674506, 0.015844118799704095, 0.332726494793786, 0.09506471279822457, 0.16503341255595141, 0.825167062779757, 0.8735329701297562, 0.09195083896102697, 0.12025216622201355, 0.195409770110772, 0.2405043324440271, 0.2555358532217788, 0.10522064544426185, 0.07515760388875847, 0.7227530833182672, 0.2658402145538454, 0.9666177719553526, 0.05862415368542131, 0.048278714799758725, 0.1862178999419265, 0.4620962702262621, 0.12759374625650519, 0.0620726333139755, 0.05172719442831292, 0.2017564853458016, 0.20951635016679399, 0.1008782426729008, 0.13191770195687028, 0.1784768908828245, 0.17071702606183212, 0.6215970292823623, 0.3347060926905028, 0.14911586363206314, 0.18352721677792388, 0.08029315734034169, 0.11470451048620242, 0.19499766782654412, 0.28676127621550607, 0.12053927125239776, 0.16071902833653035, 0.683055870430254, 0.4625977864585269, 0.5311307918597902, 0.3097155900325537, 0.2580963250271281, 0.412954120043405, 0.151148247874304, 0.3102516666893609, 0.23069995728183243, 0.09546205128903411, 0.19887927351882106, 0.16987525558188973, 0.07887065437730595, 0.46108997943655783, 0.060669734136389195, 0.07887065437730595, 0.11527249485913946, 0.036401840481833515, 0.08973401766160746, 0.6281381236312522, 0.26920205298482236, 0.047451733302762186, 0.020336457129755223, 0.17624929512454526, 0.06778819043251741, 0.35927740929234225, 0.047451733302762186, 0.1287975618217831, 0.1491340189515383, 0.6403589412608809, 0.2817579341547876, 0.051228715300870475, 0.9794163143094353, 0.19656852189982865, 0.32761420316638107, 0.45865988443293354, 0.9320264584760027, 0.12358695738531512, 0.2792149777964527, 0.21055555702683318, 0.03204106302582244, 0.3478743985660722, 0.9527673262072432, 0.7707032972854402, 0.19267582432136005, 0.3370973942771408, 0.6260380179432615, 0.1224396830646651, 0.05247414988485647, 0.2798621327192345, 0.5422328821435168, 0.4510754826731623, 0.5330892067955554, 0.7287385354243561, 0.06624895776585056, 0.18549708174438156, 0.032237971234419745, 0.9631093906282899, 0.36539237963220245, 0.608987299387004, 0.30450845720493913, 0.17762993336954783, 0.10150281906831304, 0.4060112762732522, 0.05257892195743699, 0.1402104585531653, 0.08763153659572832, 0.1402104585531653, 0.5608418342126612, 0.13907029645319904, 0.42016983183732476, 0.044384137165914585, 0.1745776061859307, 0.02071259734409347, 0.05621990707682514, 0.13907029645319904, 0.15128858900147343, 0.5373353333500608, 0.08346956634564051, 0.1147706537252557, 0.05216847896602532, 0.05738532686262785, 0.6644906551329605, 0.18985447289513155, 0.09492723644756577, 0.3407619912808113, 0.1774802037920892, 0.09228970597188639, 0.10648812227525352, 0.1561825793370385, 0.12068653857862066, 0.30118418603759384, 0.6525657364147867, 0.5937169613645303, 0.3901568603252628, 0.5487417707391619, 0.10974835414783236, 0.1463311388637765, 0.16462253122174855, 0.9606820092980934, 0.13994391097484654, 0.18659188129979537, 0.606423614224335, 0.19420350942923725, 0.07282631603596397, 0.7039877216809851, 0.23531954861749313, 0.4370220188610587, 0.20170247024356555, 0.06723415674785518, 0.28027949732177393, 0.14013974866088696, 0.5605589946435479, 0.6615600732548493, 0.3378179097471571, 0.9394026890477277, 0.9946782165477488, 0.6584458785404936, 0.3292229392702468, 0.25745617133740417, 0.25745617133740417, 0.20596493706992336, 0.25745617133740417, 0.9825602717388469, 0.22737497640019558, 0.757916588000652, 0.10169128971624285, 0.8813245108741047, 0.9273971797474859, 0.4349536647707626, 0.5353275874101693, 0.4876069248635961, 0.4876069248635961, 0.06142414885463276, 0.7575645025404707, 0.06824905428292528, 0.10237358142438793, 0.9930635303896562, 0.11431687259505635, 0.004082745449823441, 0.1592270725431142, 0.27354394513817054, 0.10206863624558603, 0.23271649063993613, 0.08573765444629226, 0.03266196359858753, 0.8189165996112774, 0.16898279039597786, 0.06110050101580652, 0.09165075152370977, 0.7943065132054847, 0.045825375761854886, 0.25046398545332665, 0.25046398545332665, 0.5009279709066533, 0.9409496893777975, 0.09855104204666505, 0.8869593784199855, 0.9793123855710685, 0.40684794970932037, 0.5594159308503155, 0.05522387306148348, 0.12885570381012812, 0.1349916897058485, 0.20862352045449314, 0.04908788716576309, 0.14112767560156889, 0.07363183074864464, 0.19635154866305235, 0.8498053450504562, 0.13417979132375624, 0.9560009054648688, 0.6298733975606641, 0.333462386943881, 0.5731103669270369, 0.36842809302452373, 0.5500117855751869, 0.12222484123893042, 0.30556210309732607, 0.2961754347057114, 0.11106578801464177, 0.5553289400732089, 0.22173551107730471, 0.7695526560918222, 0.2313969628856349, 0.07404702812340318, 0.536840953894673, 0.07404702812340318, 0.07404702812340318, 0.0452696921496244, 0.8827589969176759, 0.06790453822443661, 0.2973262417043063, 0.327058865874737, 0.35679149004516764, 0.05577046001899787, 0.43377024459220564, 0.24167199341565743, 0.13632779115755034, 0.1301310733776617, 0.5540858790502046, 0.2804632227291159, 0.06156509767224495, 0.047883964856190515, 0.047883964856190515, 0.006840566408027216, 0.34927175840588454, 0.17463587920294227, 0.13097690940220671, 0.334718768472306, 0.8619522859146372, 0.056127125594441496, 0.036081723596426675, 0.04009080399602964, 0.9522375665331374, 0.4526364854841647, 0.4903561926078451, 0.2643380069708438, 0.22657543454643755, 0.4531508690928751, 0.7160736702862984, 0.13426381317868094, 0.10442741025008519, 0.029836402928595768, 0.4966923952082545, 0.4515385410984132, 0.9642210587425162, 0.9227756498893365, 0.027683269496680096, 0.046138782494466825, 0.9563787722424659, 0.5875434209901236, 0.08868579939473563, 0.005542862462170977, 0.2161716360246681, 0.0942286618569066, 0.6442666299774813, 0.3374729966548712, 0.4505742584607368, 0.15830987459431292, 0.37750816249413083, 0.29927207303972075, 0.6650490511993795, 0.14402242883533986, 0.8401308348728158, 0.33311078546944095, 0.20499125259657905, 0.43560641176773046, 0.9722836856524395, 0.1083823528541735, 0.04462802764583614, 0.6757958472083759, 0.17213667806251085, 0.9725671202093846, 0.9412224087153619, 0.3594338585315843, 0.1078301575594753, 0.503207401944218, 0.9744845848014475, 0.17716140270826228, 0.045555789267838875, 0.29358175305940604, 0.10123508726186416, 0.14172912216660982, 0.045555789267838875, 0.08098806980949133, 0.11135859598805058, 0.3106448908754614, 0.18638693452527683, 0.2485159127003691, 0.21745142361282296, 0.6429376233804407, 0.13716002632116067, 0.15430502961130577, 0.06858001316058034, 0.07035638817120507, 0.304877682075222, 0.1876170351232135, 0.1641649057328118, 0.2579734232944186, 0.35952710913456964, 0.47015083502212957, 0.16593558883133985, 0.019809457149165793, 0.6140931716241396, 0.2575229429391553, 0.07923782859666317, 0.45037672873096585, 0.2392626371383256, 0.29555972822969634, 0.05717749703828096, 0.9148399526124954, 0.25585847546181056, 0.17057231697454037, 0.47760248752871304, 0.06822892678981615, 0.16172177648603397, 0.09241244370630512, 0.7161964387238647, 0.4288354936383867, 0.5431916252752899, 0.028399041601311736, 0.08519712480393521, 0.17749401000819834, 0.03549880200163967, 0.6744772380311538, 0.9612839914354625, 0.9721333872248089, 0.8949893702639534, 0.08136267002399576, 0.22078423621335175, 0.4415684724267035, 0.30357832479335867, 0.3887705193387118, 0.5345594640907287, 0.9102550166443448, 0.15064999522530795, 0.3615599885407391, 0.13558499570277716, 0.10545499665771557, 0.015064999522530795, 0.03012999904506159, 0.19584499379290035, 0.18227833414726888, 0.22784791768408608, 0.5468350024418066, 0.222661510142925, 0.252349711495315, 0.222661510142925, 0.17812920811434002, 0.11875280540956, 0.28205642222559885, 0.32906582592986533, 0.2350470185213324, 0.09401880740853295, 0.3690005453118506, 0.05400007980173424, 0.07200010640231232, 0.10800015960346848, 0.28800042560924927, 0.10800015960346848, 0.2003492416852066, 0.7613271184037851, 0.9640313675417889, 0.9761665672828256, 0.33395036749985, 0.6201935396425786, 0.3081633046478647, 0.6603499385311385, 0.3447371441409669, 0.2298247627606446, 0.40219333483112807, 0.45240138486527604, 0.5278016156761554, 0.29044614642224226, 0.6535038294500451, 0.6487741003986596, 0.3243870501993298, 0.9536634708992328, 0.8084705059661276, 0.09328505838070704, 0.062190038920471355, 0.5073110022892351, 0.47746917862516247, 0.03738164907985707, 0.23448488968273978, 0.05437330775251937, 0.6286913708885052, 0.013593326938129842, 0.027186653876259684, 0.1879592418775792, 0.43375209664056735, 0.3759184837551584, 0.3609717554330202, 0.6317005720077853, 0.41771574254585025, 0.5221446781823128, 0.04642337188040304, 0.030948914586935362, 0.2940146885758859, 0.4178103469236274, 0.20116794481507985, 0.23339347997543236, 0.2100541319778891, 0.4201082639557782, 0.1400360879852594, 0.18460009415679401, 0.19485565494328258, 0.4409891138190079, 0.13332229022435124, 0.04102224314595423, 0.08490856161394103, 0.8915398969463808, 0.15880869040205098, 0.825805190090665, 0.08096665517832684, 0.25302079743227135, 0.030362495691872562, 0.34410828450788905, 0.08096665517832684, 0.20241663794581707, 0.20186962892841276, 0.12336477323403001, 0.4822441135512082, 0.02242995876982364, 0.15700971138876546, 0.3044757623975703, 0.08699307497073437, 0.5654549873097734, 0.13669522247679095, 0.6287980233932384, 0.19137331146750733, 0.4956172709568522, 0.008545125361325038, 0.23926351011710106, 0.2008104459911384, 0.055543314848612746, 0.7200846200382335, 0.04235791882577844, 0.10165900518186825, 0.135545340242491, 0.4770928085798342, 0.5088989958184899, 0.17325332213370517, 0.08662666106685259, 0.5486355200900663, 0.17325332213370517, 0.957574832801427, 0.3167712337480307, 0.22626516696287904, 0.4072773005331823, 0.8229343249544899, 0.0633026403811146, 0.10550440063519101, 0.23165431921118088, 0.19304526600931737, 0.5791357980279521, 0.1435168721950729, 0.5687520490693629, 0.08504703537485801, 0.04783895739835763, 0.06378527653114352, 0.08504703537485801, 0.9459478951989237, 0.04809904551858934, 0.8740990397400367, 0.09201042523579334, 0.21795469826899266, 0.3756240544635831, 0.05101067406295573, 0.11129601613735796, 0.10665868213163471, 0.12984535216025095, 0.47875458947547017, 0.5069166241504979, 0.29660801099957684, 0.29660801099957684, 0.3977243783857962, 0.15741922183315366, 0.43290286004117257, 0.3541932491245957, 0.33457890181413524, 0.6400639860792153, 0.3187283890996912, 0.2731957620854496, 0.3187283890996912, 0.9906179329752295, 0.06593707171892034, 0.9231190040648847, 0.13043305919555329, 0.1594181834612318, 0.3333289290553028, 0.07246281066419627, 0.2898512426567851, 0.5608551782278349, 0.4166352752549631, 0.25857752813951873, 0.5846100636197814, 0.14615251590494535, 0.08627508117638391, 0.7189590098031993, 0.057516720784255945, 0.14379180196063987, 0.9637695199428018, 0.269398770061014, 0.23091323148086912, 0.42334092438159343, 0.12760291314511324, 0.20735473386080902, 0.13557809521668282, 0.2472306442186569, 0.1754540055745307, 0.08772700278726535, 0.6883556471538838, 0.13767112943077675, 0.16826471374872715, 0.4281872192322619, 0.5352340240403274, 0.9332771132395905, 0.934110538554358, 0.07949281916576141, 0.09274162236005498, 0.4504593086059814, 0.2517272606915778, 0.11923922874864212, 0.2498884555841287, 0.20824037965344058, 0.1211580390710927, 0.2423160781421854, 0.17416468116469574, 0.9644740574461532, 0.09341894932985921, 0.20552168852569028, 0.1307865290618029, 0.5418299061131835, 0.13840963773140613, 0.5536385509256245, 0.15099233207062487, 0.10066155471374992, 0.05033077735687496, 0.12432490804647883, 0.8288327203098589, 0.32832553413379856, 0.28355387038828056, 0.37309719787931656, 0.13477244568002833, 0.27663817797479495, 0.24826503151584164, 0.10639929922107498, 0.17023887875371999, 0.06383957953264499, 0.32513199397822645, 0.23073883443616072, 0.20976257676014612, 0.06817283744704748, 0.02097625767601461, 0.14158973931309862, 0.2163455344792672, 0.7031229870576183, 0.3247685473828351, 0.6495370947656702, 0.7208182165237377, 0.14416364330474754, 0.11533091464379804, 0.9632623412614622, 0.1421613554487056, 0.5212583033119205, 0.2843227108974112, 0.04738711848290186, 0.26759932249018986, 0.5519236026360166, 0.18397453421200552, 0.19824836250714092, 0.062306628216530005, 0.23789803500856913, 0.07929934500285638, 0.02265695571510182, 0.1529344510769373, 0.09062782286040728, 0.03964967250142819, 0.1132847785755091, 0.22442909254108545, 0.49561424602823034, 0.1402681828381784, 0.09351212189211894, 0.037404848756847575, 0.32032742758224203, 0.09509720506347812, 0.05005116055972532, 0.310317195470297, 0.08508697295153304, 0.09509720506347812, 0.04504604450375279, 0.3445527142405533, 0.14766544896023712, 0.4429963468807113, 0.234634740718995, 0.21163133476615237, 0.18862792881330973, 0.1426211169076244, 0.2162320159567209, 0.09499917291461088, 0.8549925562314978, 0.08990948559026109, 0.4367032157241253, 0.4623916401784856, 0.24874471314704846, 0.2842796721680554, 0.01776747951050346, 0.01776747951050346, 0.10660487706302077, 0.30204715167855883, 0.05670855867782967, 0.06521484247950411, 0.3175679285958461, 0.2977199330586057, 0.025518851405023347, 0.031189707272806316, 0.06237941454561263, 0.14177139669457417, 0.9669758075069318, 0.6641963829629414, 0.3162839918871149, 0.026564141883964876, 0.1062565675358595, 0.22579520601370145, 0.35861591543352583, 0.17266692224577168, 0.09297449659387706, 0.22958396865694686, 0.7346686997022299, 0.9687376118370615, 0.6669852238181982, 0.18399592381191676, 0.11499745238244798, 0.3979389292209825, 0.5471660276788509, 0.9819024187247649, 0.009697135043719508, 0.11636562052463409, 0.16485129574323162, 0.33939972653018274, 0.3587939966176218, 0.2523371706921823, 0.21628900345044197, 0.5046743413843646, 0.28171680118192904, 0.030183942983778113, 0.39239125878911546, 0.04024525731170415, 0.030183942983778113, 0.07042920029548226, 0.0804905146234083, 0.060367885967556226, 0.5435599857654345, 0.4434305147033808, 0.1873559771926563, 0.43716394678286463, 0.31225996198776046, 0.11595218136618776, 0.06957130881971266, 0.5720307614065263, 0.09276174509295021, 0.14687276306383784, 0.6448598129771094, 0.31048805810008967, 0.20801973443682897, 0.5720542697012797, 0.20801973443682897, 0.021414870807966935, 0.2730396028015784, 0.11778178944381813, 0.005353717701991734, 0.14990409565576854, 0.23556357888763627, 0.016061153105975202, 0.0963669186358512, 0.02676858850995867, 0.0481834593179256, 0.6843116518310026, 0.27372466073240104, 0.15327849500645702, 0.19159811875807128, 0.6131139800258281, 0.03864655508394895, 0.46375866100738744, 0.46375866100738744, 0.26014110538140134, 0.11005969843059286, 0.4002170852021559, 0.22011939686118573, 0.5221976079792767, 0.09791205149611439, 0.367170193110429, 0.9816621582180792, 0.9890695016298955, 0.12911215976695828, 0.07746729586017498, 0.20657945562713326, 0.5422710710212248, 0.39749555339590387, 0.5034943676348116, 0.07949911067918078, 0.01766646903981795, 0.9872003069565048, 0.9588665523444119, 0.44140419321391783, 0.12038296178561396, 0.44140419321391783, 0.2963110275756014, 0.6772823487442318, 0.6376252439256346, 0.3415849521030185, 0.3413501358394398, 0.37238196637029797, 0.12412732212343265, 0.12412732212343265, 0.3610152163853437, 0.13127826050376135, 0.5004983681705901, 0.004102445640742542, 0.4335719654467256, 0.5074762777387811, 0.0541964956808407, 0.2908358735015053, 0.494420984952559, 0.2035851114510537, 0.0696111256969235, 0.2685000562595621, 0.08950001875318735, 0.2685000562595621, 0.04972223264065964, 0.09447224201725332, 0.15413892118604489, 0.10739248769732397, 0.09043577911353598, 0.14130590486489997, 0.14413202296219796, 0.20913273920005196, 0.08478354291893998, 0.09608801530813198, 0.028261180972979992, 0.04804400765406599, 0.053696243848661986, 0.6621918784709295, 0.3056270208327367, 0.9607619323057781, 0.7556854827042379, 0.18892137067605946, 0.4302895338460223, 0.3520550731467455, 0.15646892139855356, 0.944231960674434, 0.27062843196563535, 0.115983613699558, 0.57991806849779, 0.965354784566945, 0.5609167957530976, 0.0350572997345686, 0.2804583978765488, 0.1051718992037058, 0.23077847047247035, 0.07692615682415678, 0.6538723330053327, 0.24968177986272783, 0.721302919603436, 0.2985208013521316, 0.22828061279868886, 0.17560047138360682, 0.14048037710688546, 0.14048037710688546, 0.6224881383158329, 0.10893542420527076, 0.09337322074737493, 0.046686610373687466, 0.12449762766316658, 0.9619743323869705, 0.9619743344663935, 0.24219675724425646, 0.44402738828113686, 0.28256288345163255, 0.34182648240353675, 0.08995433747461494, 0.1439269399593839, 0.4317808198781517, 0.9520857364066583, 0.6450746606780614, 0.1244880924115557, 0.11317099310141428, 0.11317099310141428, 0.9552577877519329, 0.9727503467971201, 0.5773470884017343, 0.28867354420086716, 0.12829935297816317, 0.11622154646768075, 0.8522913407629922, 0.962980021163466, 0.3343107860211136, 0.10916270563954729, 0.11598537474201899, 0.07504936012718876, 0.18421206576673604, 0.10234003653707559, 0.06822669102471705, 0.9627805469011664, 0.011148744627614006, 0.8138583578158225, 0.1672311694142101, 0.9401028046665569, 0.9694776868957761, 0.13157028223536454, 0.8552068345298695, 0.2029369387655448, 0.1717158712631533, 0.32782120877511084, 0.15610533751195754, 0.12488427000956603, 0.06088567696414557, 0.24354270785658227, 0.12853642914652952, 0.20971733176539029, 0.006765075218238397, 0.14206657958300634, 0.2029522565471519, 0.9706230420667962, 0.506979959891638, 0.18678209048639297, 0.29351471362147463, 0.9753038733748454, 0.9697686221076444, 0.26727681876373394, 0.6830407590628756, 0.7531626066547814, 0.21967242694097788, 0.9514420804722978, 0.9465770477168951, 0.3545011090031344, 0.6077161868625162, 0.1939080182988708, 0.03421906205274191, 0.2851588504395159, 0.21672072633403208, 0.11976671718459668, 0.09125083214064508, 0.05703177008790318, 0.11910316871404464, 0.8507369193860331, 0.2493978436424813, 0.062349460910620325, 0.19951827491398505, 0.3366870889173498, 0.13716881400336473, 0.21228239923868752, 0.6613413207051418, 0.12247061494539664, 0.6837100231222031, 0.2848791763009179, 0.15233595604029698, 0.11078978621112508, 0.3600668051861565, 0.3600668051861565, 0.9615643657124813, 0.9746266188285025, 0.2873146844761084, 0.13116539943474514, 0.06870568541819984, 0.13741137083639968, 0.031229857008272657, 0.16864122784467234, 0.1811331706479814, 0.9491324390600566, 0.03272870479517437, 0.11827370400387502, 0.8279159280271251, 0.3017309913950557, 0.12343540557070462, 0.09600531544388137, 0.08229027038046975, 0.3017309913950557, 0.09600531544388137, 0.6509419804083284, 0.04821792447469099, 0.09643584894938198, 0.16876273566141847, 0.4747868605669172, 0.28334054582219254, 0.14549919920599075, 0.09189423107746784, 0.12676112953603333, 0.8714827655602292, 0.05853461218321127, 0.2731615235216526, 0.4390095913740846, 0.1463365304580282, 0.0731682652290141, 0.36280214792676807, 0.5701176610277784, 0.16517780559933284, 0.09760506694506033, 0.1276373952358481, 0.15016164145393895, 0.04504849243618169, 0.1726858876720298, 0.2327505442536054, 0.4845440753482527, 0.34950720189054296, 0.055603418482586375, 0.10326349146766041, 0.9424962411722856, 0.1815901884301533, 0.5777869631868514, 0.23111478527474055, 0.44379342159213186, 0.31699530113723706, 0.14793114053071063, 0.04226604015163161, 0.3486404540360088, 0.04711357486973092, 0.12249529466130038, 0.18845429947892367, 0.13191800963524655, 0.15076343958313893, 0.7199559528014784, 0.21404095894098008, 0.048645672486586376, 0.9573684245805266, 0.8527876835287342, 0.12791815252931013, 0.278979049372229, 0.7081775868679658, 0.9889029135967018, 0.31131400161701783, 0.6226280032340357, 0.25055274739664224, 0.3221392466528258, 0.3937257459090093, 0.9598166723677273, 0.3016180813662461, 0.6894127574085627, 0.9507734037824866, 0.9238472759410213, 0.7952499318134175, 0.09247092230388576, 0.027741276691165728, 0.06472964561272003, 0.5154366131093187, 0.45479701156704583, 0.21350646051520655, 0.30500922930743796, 0.4727643054265288, 0.04942209709996598, 0.9390198448993535, 0.32245741217217166, 0.20520017138229105, 0.12702867752237065, 0.3322288489046617, 0.31904130221437194, 0.3403107223619967, 0.32967601228818433, 0.7898499897763205, 0.18706973442070748, 0.1571275422230888, 0.23793599250924877, 0.12121267542923993, 0.3052763677477154, 0.053872300190773305, 0.053872300190773305, 0.07182973358769773, 0.11514425315573522, 0.7138943695655583, 0.1612019544180293, 0.9650007026955582, 0.9650006996304819, 0.7977902012121681, 0.1813159548209473, 0.959113079158162, 0.06435497414997376, 0.5975819028211851, 0.09193567735710538, 0.06435497414997376, 0.009193567735710539, 0.17467778697850023, 0.07589142573918306, 0.2428525623653858, 0.40981369899158854, 0.2124959920697126, 0.04553485544350984, 0.40066077471303774, 0.5609250845982529, 0.9691373950574084, 0.1262332035164909, 0.45984952709578825, 0.40574958273157785, 0.3560145082599623, 0.623025389454934, 0.9558248535878412, 0.19698930174012919, 0.19698930174012919, 0.08954059170005872, 0.5193354318603406, 0.2513086403542903, 0.3769629605314354, 0.057115600080520516, 0.2970011204187067, 0.20204491028778393, 0.4849077846906814, 0.024245389234534072, 0.10506335334964764, 0.1697177246417385, 0.27668449950969315, 0.04611408325161553, 0.5072549157677708, 0.04611408325161553, 0.11528520812903881, 0.9786381126516254, 0.6607138933767722, 0.22023796445892407, 0.1001081656631473, 0.9674328719700518, 0.3308581231263041, 0.22057208208420273, 0.4135726539078801, 0.09937187052806729, 0.20205613674040349, 0.10930905758087402, 0.18549415831905894, 0.16230738852917656, 0.009937187052806728, 0.016561978421344548, 0.14905780579210093, 0.059623122316840374, 0.14186841941025186, 0.6926516947677003, 0.1585588216938109, 0.9807581331104858, 0.11169896693178474, 0.16382515149995097, 0.011169896693178475, 0.37232988977261583, 0.15637855370449866, 0.06329608126134469, 0.052126184568166214, 0.06701938015907084, 0.1292052593044315, 0.23800968819237378, 0.3672149474968053, 0.09520387527694951, 0.06120249124946754, 0.10200415208244591, 0.3878774389256736, 0.5818161583885104, 0.57989163059678, 0.40146343656700145, 0.0030443819526925434, 0.14917471568193463, 0.01826629171615526, 0.03348820147961797, 0.23137302840463328, 0.015221909763462717, 0.13699718787116444, 0.25572808402617364, 0.05175449319577324, 0.07306516686462104, 0.00913314585807763, 0.021310673668847802, 0.3081611990534556, 0.6603454265431192, 0.07308903977819776, 0.10963355966729664, 0.16445033950094495, 0.3289006790018899, 0.05024871484751096, 0.14161001457025815, 0.04111258487523624, 0.0685209747920604, 0.01827225994454944, 0.6451739504279044, 0.1637008530936474, 0.1925892389337028, 0.5879024735254667, 0.3429431095565222, 0.11171392317767158, 0.875092398225094, 0.6000766521770923, 0.18906524657634413, 0.20550570280037406, 0.5051824464864756, 0.4592567695331597, 0.45072478633374696, 0.5008053181486077, 0.7696749864521802, 0.21232413419370488, 0.9773521304697976, 0.15240021488149955, 0.8001011281278726, 0.009938893211899108, 0.009938893211899108, 0.08945003890709198, 0.11926671854278931, 0.25841122350937684, 0.18883897102608307, 0.19877786423798216, 0.12920561175468842, 0.5174982715761253, 0.11089248676631255, 0.33267746029893763, 0.09676857716405293, 0.16128096194008823, 0.36772059322340117, 0.012902476955207059, 0.21289086976091645, 0.14192724650727764, 0.19977948288787384, 0.1553840422461241, 0.4162072560164038, 0.09988974144393692, 0.02219772032087487, 0.09434031136371819, 0.005549430080218717, 0.16685136949872453, 0.8104209375652335, 0.011548212067765011, 0.9815980257600259, 0.6129351409583574, 0.08412835268055888, 0.18027504145834045, 0.10816502487500426, 0.2871474154319002, 0.14628264559738313, 0.12461114254591897, 0.0650145091543925, 0.26005803661757, 0.10835751525732083, 0.3218629298875251, 0.16093146494376254, 0.05364382164792084, 0.45597248400732715, 0.8050541135209626, 0.1470098815994801, 0.04900329386649337, 0.26274131706969284, 0.07882239512090786, 0.21019305365575428, 0.44666023901847784, 0.33218011425767374, 0.6643602285153475, 0.3362332232277141, 0.6304372935519639, 0.28354702230731244, 0.4455738921972052, 0.2430403048348392, 0.0860524119730115, 0.4646830246542621, 0.1893153063406253, 0.03097886831028414, 0.07228402605732966, 0.11358918380437517, 0.04130515774704552, 0.9821255872544108, 0.22853400707484103, 0.7617800235828034, 0.18890195685922725, 0.755607827436909, 0.04127061377069956, 0.557153285904444, 0.39207083082164584, 0.9327192799777163, 0.2868024454369219, 0.1778175161708916, 0.48756415724276725, 0.04015234236116907, 0.9686293802432006, 0.5609920701757787, 0.40799423285511177, 0.7766567544580233, 0.16026250488816354, 0.049311539965588784, 0.5181837071485476, 0.16193240848392113, 0.29147833527105804, 0.23067890566135935, 0.6407747379482204, 0.10252395807171527, 0.1939440473445886, 0.1616200394538238, 0.6141561499245305, 0.018828699875931186, 0.2824304981389678, 0.20711569863524307, 0.4707174968982797, 0.774505731788045, 0.2045864197175968, 0.9734300967527393, 0.33099879796677156, 0.6147120533668615, 0.950989573976854, 0.3461075898227344, 0.06439210973446222, 0.15293126061934775, 0.07244112345126999, 0.3622056172563499, 0.2508870020441924, 0.2508870020441924, 0.473897670527919, 0.004029467933828396, 0.507712959662378, 0.05238308313976915, 0.12894297388250867, 0.2095323325590766, 0.05238308313976915, 0.044324147272112355, 0.030697647934360323, 0.36837177521232384, 0.5832553107528461, 0.9300207928608957, 0.1964629573742411, 0.5675596546366966, 0.2182921748602679, 0.4737346961312498, 0.10828221625857139, 0.2910084561949106, 0.11504985477473209, 0.006767638516160712, 0.06504786148602663, 0.2385088254487643, 0.30355668693479093, 0.21682620495342209, 0.02168262049534221, 0.13009572297205327, 0.6008885703624698, 0.1335307934138822, 0.23367888847429383, 0.8759864609251082, 0.09385569224197587, 0.09008870922204225, 0.16891632979132923, 0.7319707624290933, 0.14429355832469284, 0.8477246551575703, 0.26011121074221044, 0.37671278797147717, 0.04484676047279491, 0.04484676047279491, 0.10763222513470777, 0.15247898560750267, 0.8736756109049697, 0.10920945136312121, 0.9477624156498481, 0.09095533443259332, 0.1169425728419057, 0.07796171522793714, 0.06496809602328095, 0.1169425728419057, 0.21439471687682712, 0.09745214403492142, 0.22089152647915522, 0.6267398622385537, 0.2968767768498412, 0.032986308538871245, 0.5027517062357232, 0.18132028749485096, 0.05769281874836167, 0.19780394999438286, 0.049450987498595715, 0.1847532952943649, 0.28967491978252274, 0.2144050587366704, 0.19159600993489695, 0.01596633416124141, 0.10035981472780317, 0.1575422346261256, 0.498883742982731, 0.2888274301478969, 0.03640406676672244, 0.3640406676672244, 0.21842440060033466, 0.21842440060033466, 0.07280813353344488, 0.16633458745234644, 0.6891004337311496, 0.1188104196088189, 0.04159181684500653, 0.3327345347600522, 0.4367140768725685, 0.18716317580252936, 0.14813800903164337, 0.06583911512517483, 0.08229889390646854, 0.032919557562587416, 0.1399081196409965, 0.4444140270949301, 0.08229889390646854, 0.4211190835531871, 0.5474548086191432, 0.2729473083643129, 0.05789791389546031, 0.23159165558184125, 0.4383699194941995, 0.409671338158164, 0.5735398734214295, 0.9557741894369596, 0.9614561587557909, 0.41382426489865776, 0.3819916291372225, 0.19099581456861126, 0.13797232362732736, 0.36792619633953966, 0.48290313269564583, 0.46661352501863185, 0.46661352501863185, 0.9826176835008359, 0.8277666965188852, 0.13244267144302163, 0.06227855145829367, 0.63168245050555, 0.186835654374881, 0.10676323107136057, 0.35097274415762203, 0.5703307092561358, 0.32577567699079035, 0.30948689314125083, 0.3420644608403299, 0.14603034657121094, 0.0973535643808073, 0.7301517328560548, 0.2410144649198617, 0.210887656804879, 0.1355706365174222, 0.060253616229965425, 0.3464582933223012, 0.17561452240344644, 0.46830539307585717, 0.3512290448068929, 0.9700276930588706, 0.5276386455119192, 0.4396988712599326, 0.015159544135681227, 0.21223361789953718, 0.12127635308544982, 0.18191452962817473, 0.2273931620352184, 0.18949430169601533, 0.03789886033920307, 0.1322608356878463, 0.12895431479565014, 0.1388738774722386, 0.0231456462453731, 0.19839125353176942, 0.1620195237176117, 0.06613041784392315, 0.14879344014882706, 0.9641689978699733, 0.962980235916709, 0.06314365417604256, 0.26836053024818085, 0.197323919300133, 0.14996617866810108, 0.21310983284414362, 0.08682252449205852, 0.023678870316015958, 0.9808165618974883, 0.4511912036476947, 0.06073727741411275, 0.3991306801498838, 0.08676753916301821, 0.6209983349766952, 0.35485619141525443, 0.33237768121701994, 0.4230261397307526, 0.020144101891940602, 0.15108076418955452, 0.0604323056758218, 0.9529591527126294, 0.7073275486946048, 0.04934843362985615, 0.2083600531038371, 0.027415796461031195, 0.2291425418712472, 0.07365295988718659, 0.14730591977437318, 0.5483053680490558, 0.10542559604644779, 0.8644898875808719, 0.32209225748564196, 0.6441845149712839, 0.20910722620082742, 0.3041559653830217, 0.19009747836438856, 0.266136469710144, 0.1505308457896183, 0.8279196518429007, 0.5147236616438096, 0.2573618308219048, 0.1930213731164286, 0.08902899541229, 0.23741065443277332, 0.08902899541229, 0.44514497706144995, 0.11870532721638666, 0.17707289864895198, 0.28331663783832317, 0.31873121756811357, 0.21248747837874238, 0.12471482350390596, 0.0959344796183892, 0.40292481439723465, 0.3165837827406844, 0.05756068777103352, 0.21299855847051113, 0.7607091373946826, 0.2050092413581875, 0.3690166344447375, 0.410018482716375, 0.98723404803184, 0.661218961784085, 0.3245983994212781, 0.16787912325814, 0.23503077256139598, 0.570789019077676, 0.31242018115034303, 0.17852581780019602, 0.49094599895053903, 0.049525171198971325, 0.1981006847958853, 0.6438272255866272, 0.09905034239794265, 0.951017315297084, 0.9513747304277976, 0.9678503755440675, 0.1617148422889561, 0.4800909380453384, 0.055589477036828656, 0.06569665467988842, 0.23751867461190426, 0.24006534617943293, 0.7201960385382987, 0.09664572041097834, 0.4612636655978512, 0.30750911039856743, 0.004392987291408106, 0.1273966314508351, 0.9315113179415017, 0.9756832746674332, 0.8168618496685017, 0.13614364161141695, 0.9370415061292406, 0.38819002403177394, 0.5822850360476609, 0.39920791177316717, 0.558891076482434, 0.47549717035360783, 0.17714600464154018, 0.3356450614260761, 0.3351747334053166, 0.6368319934701016, 0.14839364998098167, 0.1712234422857481, 0.12556385767621528, 0.5365001191620107, 0.174094200198615, 0.3264266253724031, 0.5005208255710181, 0.9803341418152384, 0.22429355479648166, 0.056073388699120416, 0.7009173587390053, 0.9602622102155104, 0.09990520543364183, 0.25975353412746877, 0.4795449860814808, 0.1198862465203702, 0.5285659495472996, 0.09412818279609445, 0.04344377667512051, 0.18101573614633548, 0.12309070057950812, 0.021721888337560256, 0.18690107163630848, 0.2875401102097053, 0.043131016531455804, 0.08626203306291161, 0.11501604408388214, 0.2587860991887348, 0.21268137558193653, 0.09304810181709723, 0.5184108529809703, 0.1595110316864524, 0.7528217341868099, 0.16729371870817997, 0.06273514451556748, 0.2899411240073893, 0.38658816534318574, 0.2416176033394911, 0.1478196638764728, 0.1970928851686304, 0.6405518767980488, 0.9630610064968509, 0.7312854712262986, 0.22852670975821832, 0.9607220032269159, 0.16444771324183433, 0.22611560570752218, 0.08222385662091716, 0.5138991038807322, 0.22363832246190915, 0.0860147394084266, 0.6709149673857275, 0.02765952259648854, 0.5255309293332823, 0.0968083290877099, 0.05531904519297708, 0.2904249872631297, 0.9622303105923284, 0.39828551263570383, 0.5240598850469788, 0.06288718620563745, 0.8276008816103915, 0.13067382341216707, 0.5162740586164045, 0.42240604795887643, 0.28024284060479077, 0.21018213045359307, 0.5079401485961832, 0.5096388733240947, 0.46330806665826796, 0.7919645030322041, 0.14849334431853828, 0.9862367219041858, 0.25918002110906013, 0.4751633720332769, 0.21598335092421678, 0.3197030476609609, 0.6394060953219218, 0.9831927208052273, 0.077601145134526, 0.504407443374419, 0.349205153105367, 0.6398809962134738, 0.22149726792004865, 0.12305403773336035, 0.05065364758468341, 0.13507639355915577, 0.7935738121600401, 0.11249942916593163, 0.154686715103156, 0.27421735859195834, 0.2531237156233462, 0.1265618578116731, 0.07031214322870727, 0.04377449703041272, 0.3251819779402088, 0.08754899406082545, 0.2876609804855693, 0.12506999151546494, 0.11881649193969168, 0.9889203238425711, 0.4393428900588539, 0.4668018206875323, 0.08237679188603511, 0.07314489643176326, 0.20480571000893713, 0.19992938358015291, 0.09265020214690013, 0.112155507862037, 0.024381632143921087, 0.13166081357717388, 0.16091877214987918, 0.6491849021422912, 0.12983698042845823, 0.17311597390461098, 0.6516940986517814, 0.15206195635208233, 0.16292352466294535, 0.021723136621726046, 0.03524455431232445, 0.10573366293697335, 0.8509042398261188, 0.5085048363613612, 0.14831391060539703, 0.3178155227258508, 0.23419662368244745, 0.4553823238269812, 0.1431201589170512, 0.15613108245496496, 0.22403188260656426, 0.4480637652131285, 0.2688382591278771, 0.1755743278013132, 0.7900844751059094, 0.35999145597785753, 0.48798841810331794, 0.019999525332103196, 0.12799696212546044, 0.22088513056548315, 0.1546195913958382, 0.5080358003006112, 0.11044256528274157, 0.5154966766765577, 0.44676378645301673, 0.9606062874165894, 0.9577438452456261, 0.50211153671157, 0.4898649138649464, 0.960980762048475, 0.13941845626416263, 0.06970922813208132, 0.18589127501888353, 0.580910234434011, 0.0447408376514803, 0.9395575906810862, 0.863307571835183, 0.12974564663418936, 0.5106034301007389, 0.36167742965469013, 0.10637571460432062, 0.5968590058694004, 0.2712995481224547, 0.1085198192489819, 0.1871960460914527, 0.5990273474926486, 0.1871960460914527, 0.40217832047092167, 0.5809242406802202, 0.8728941478647555, 0.10911176848309444, 0.5945500826999142, 0.38470887704112094, 0.11289189876569963, 0.49261919461396203, 0.3899901957360533, 0.20034799607818052, 0.4708177907837242, 0.17029579666645345, 0.040069599215636104, 0.11019139784299928, 0.9790634483359638, 0.28747793063512617, 0.11179697302477129, 0.35136191522070975, 0.2395649421959385, 0.2139792483388935, 0.336253104532547, 0.24454771238730688, 0.18341078429048016, 0.738519121187757, 0.21540141034642912, 0.2789141232245288, 0.6972853080613219, 0.38457281963392453, 0.050967482120158676, 0.11583518663672426, 0.44480711668502115, 0.1689293255210776, 0.6142884564402822, 0.14845304363973486, 0.05119070470335685, 0.010238140940671369, 0.5996041881102744, 0.012236820165515803, 0.18355230248273705, 0.11013138148964223, 0.09789456132412643, 0.49819590610562503, 0.17328553255847828, 0.31408002776224186, 0.951798485615079, 0.3691157829975383, 0.5905852527960612, 0.4194366380248136, 0.36700705827171193, 0.15728873925930512, 0.5668135403039454, 0.42511015522795903, 0.8841131087142451, 0.10489477561016466, 0.9884857178940292, 0.9919463367265096, 0.08235601866838499, 0.8647381960180424, 0.3504508531591366, 0.20177473363707865, 0.12743667387604968, 0.2973522390441159, 0.16775162193251356, 0.059911293547326265, 0.12581371644938516, 0.1617604925777809, 0.07189355225679152, 0.29955646773663136, 0.05392016419259364, 0.05392016419259364, 0.236186939911289, 0.708560819733867, 0.42780102589782987, 0.39489325467491987, 0.16453885611454994, 0.06635932898504232, 0.13935459086858887, 0.10617492637606771, 0.24552951724465658, 0.19907798695512693, 0.006635932898504232, 0.2322576514476481, 0.1531222749740727, 0.5535959172139552, 0.270908640338744, 0.24529253902086556, 0.24529253902086556, 0.44970298820492016, 0.9836447337389286, 0.26796038739164224, 0.13398019369582112, 0.4555326585657918, 0.06699009684791056, 0.07368910653270161, 0.5966279998728291, 0.34803299992581693, 0.4752461262735381, 0.4752461262735381, 0.07820509226020153, 0.6842945572767635, 0.14663454798787787, 0.06842945572767634, 0.2651721752004884, 0.14463936829117552, 0.13660384783055465, 0.28124321612173014, 0.16071040921241722, 0.18697042302791134, 0.10387245723772852, 0.4985877947410969, 0.18697042302791134, 0.9562598415117145, 0.23232588032788545, 0.4646517606557709, 0.271046860382533, 0.9824604953328891, 0.5981847214670359, 0.36811367474894524, 0.7803756032744121, 0.2053620008616874, 0.6277354535905489, 0.33801139808721864, 0.8144803320844128, 0.16851317215539577, 0.6651124853638833, 0.2158698417409095, 0.03500592028230965, 0.03500592028230965, 0.04084024032936126, 0.3937461704481206, 0.1514408347877387, 0.42403433740566837, 0.9598432541565657, 0.9747302275057798, 0.25647810182025443, 0.2686913447640761, 0.06717283619101902, 0.3480774238989167, 0.05495959324719738, 0.20750909067664525, 0.7470327264359229, 0.5777534045193425, 0.4078259326018889, 0.2503978438266095, 0.03004774125919314, 0.711129876467571, 0.14432079750115046, 0.21268328052801122, 0.49372904408288315, 0.04557498868457383, 0.10634164026400561, 0.5845825145103164, 0.23383300580412655, 0.15588867053608438, 0.5340426128495256, 0.08638924619624679, 0.3691176882930544, 0.0839879306624753, 0.22396781509993413, 0.22396781509993413, 0.44793563019986826, 0.18337241316100134, 0.7946137903643392, 0.693566981251415, 0.2555246773031529, 0.11680368313116325, 0.20612414670205279, 0.3366694396133529, 0.3366694396133529, 0.8287462644020092, 0.11199273843270394, 0.05599636921635197, 0.9708364956827674, 0.9579864952255277, 0.10357472954286405, 0.06214483772571843, 0.12428967545143686, 0.6835932149829027, 0.7717640148788094, 0.210481094966948, 0.16964294810198371, 0.5654764936732791, 0.22619059746931164, 0.09867299010761296, 0.7893839208609037, 0.10626322011589089, 0.9791139091313936, 0.7572985342528982, 0.24095862453501304, 0.644843242704628, 0.3034556436257073, 0.21123185966274177, 0.12673911579764505, 0.24819743510372155, 0.07393115088195962, 0.1214583193060765, 0.08977354035666525, 0.08977354035666525, 0.03168477894941126, 0.19877793159836588, 0.14577048317213498, 0.46381517372952036, 0.17227420738525043, 0.8287913432165855, 0.13439859619728414, 0.6183357889076601, 0.11649804718550116, 0.044806941225192756, 0.14338221192061681, 0.06272971771526986, 0.09474497881312072, 0.5033326999447039, 0.02368624470328018, 0.21909776350534166, 0.05921561175820045, 0.09770575940103074, 0.8449433799736357, 0.1475297965033332, 0.11431860559279465, 0.2598150127108969, 0.24942241220246106, 0.3637410177952557, 0.327083976767973, 0.654167953535946, 0.2202399767390709, 0.748815920912841, 0.2060591357361579, 0.3815909921039961, 0.4083023615512758, 0.9380558743353797, 0.3087741670001514, 0.258971882000127, 0.42829965100021006, 0.04927466318307441, 0.2956479790984465, 0.6159332897884302, 0.9683514174996218, 0.0900583959166345, 0.3152043857082208, 0.5628649744789657, 0.07526347774484378, 0.41394912759664076, 0.3763173887242189, 0.11289521661726566, 0.11239689826502912, 0.8766958064672272, 0.3248547467556117, 0.11125162560123687, 0.12905188569743478, 0.02670039014429685, 0.062300910336692654, 0.2002529260822264, 0.09345136550503898, 0.035600520192395804, 0.017800260096197902, 0.0492632388364228, 0.23536880777402006, 0.15326340971331537, 0.2189477281618791, 0.09305278446879862, 0.10400017087689258, 0.043789545632375824, 0.06568431844856373, 0.043789545632375824, 0.1040597805605593, 0.2601494514013983, 0.05202989028027965, 0.4942839576626567, 0.03468659352018644, 0.03468659352018644, 0.35132148097221955, 0.035132148097221955, 0.47428399931249643, 0.12296251834027684, 0.9571045541542303, 0.41943689038004756, 0.09320819786223279, 0.23302049465558197, 0.09320819786223279, 0.1398122967933492, 0.28697542830089473, 0.18448420390771805, 0.3689684078154361, 0.051245612196588346, 0.10249122439317669, 0.22960510580848573, 0.12478538359156834, 0.299484920619764, 0.1347682142788938, 0.1796909523718584, 0.03493990740563913, 0.12351934840407955, 0.006862186022448864, 0.19214120862856818, 0.3225227430550966, 0.09607060431428409, 0.13724372044897729, 0.04117311613469318, 0.0754840462469375, 0.10950020405866306, 0.4790633927566509, 0.24637545913199188, 0.13687525507332882, 0.013687525507332883, 0.9393974813727047, 0.021813919484900864, 0.15269743639430605, 0.21813919484900865, 0.1963252753641078, 0.403557510470666, 0.7211061501767055, 0.2622204182460747, 0.9337192076836764, 0.2291319982308845, 0.6644827948695651, 0.06873959946926535, 0.19058821173727875, 0.762352846949115, 0.4779073376140795, 0.1631878713804174, 0.34968829581518013, 0.5590534646632173, 0.3870370139976119, 0.20579690893977107, 0.21058288356627738, 0.2249408074457963, 0.03350182238554413, 0.014357923879518912, 0.052645720891569346, 0.1196493656626576, 0.07657559402410087, 0.02392987313253152, 0.03350182238554413, 0.2976977759557365, 0.39693036794098197, 0.24808147996311372, 0.07707637810647752, 0.2055370082839401, 0.7193795289937902, 0.1806172444368833, 0.09030862221844164, 0.19351847618237494, 0.45154311109220824, 0.07740739047294998, 0.7295685676085211, 0.116067726664992, 0.13264883047427656, 0.4065617513154508, 0.575962481030222, 0.5162095784802232, 0.14078443049460632, 0.21899800299160985, 0.10949900149580492, 0.8039049547012987, 0.17646694127589485, 0.3736262215492479, 0.6071426100175279, 0.666878227134607, 0.31894176080350767, 0.9656262209346443, 0.5302655413092177, 0.4242124330473741, 0.969052325794421, 0.38075310622661235, 0.11603904189763423, 0.16317990266854815, 0.10878660177903209, 0.02175732035580642, 0.20669454338016097, 0.1208112689570567, 0.3141092992883474, 0.07248676137423402, 0.2053791572269964, 0.14497352274846803, 0.1208112689570567, 0.9810716095067856, 0.216477415201234, 0.11545462144065814, 0.649432245603702, 0.3224223316112827, 0.1736120247137676, 0.4960343563250503, 0.3316613455923735, 0.6458668308904115, 0.7957703573110222, 0.16753060153916258, 0.329634781572343, 0.17266583796646537, 0.4866037251782206, 0.28873582762409306, 0.4886298621330806, 0.19989403450898752, 0.12067636463747518, 0.016455867905110253, 0.005485289301703417, 0.05485289301703417, 0.4388231441362734, 0.1590733897493991, 0.19747041486132302, 0.1468723707692059, 0.2231330248224474, 0.12992555875737444, 0.378478801597569, 0.036718092692301474, 0.08190959139051866, 0.149535388610761, 0.8074910984981094, 0.7415919386630077, 0.21188341104657363, 0.9865749011526862, 0.06713793721774391, 0.12206897675953438, 0.06713793721774391, 0.3723103791165799, 0.048827590703813754, 0.09765518140762751, 0.10986207908358094, 0.10986207908358094, 0.33099879738233684, 0.6147120522814827, 0.3309988012748379, 0.6147120595104132, 0.5691789815938677, 0.41394835025008564, 0.9075071857461993, 0.07260057485969594, 0.8745807882714013, 0.09717564314126681, 0.1048042859292885, 0.08151444461166885, 0.6695829378815655, 0.12227166691750327, 0.02328984131761967, 0.9587053869654899, 0.5516997993119189, 0.4271224252737437, 0.29105462931027387, 0.6614877938869861, 0.5932998203301525, 0.015613153166582962, 0.23419729749874443, 0.14051837849924664, 0.2567121106320905, 0.6845656283522413, 0.5489720465131112, 0.39212289036650794, 0.972375882979303, 0.5457515950178199, 0.4366012760142559, 0.43772283494255304, 0.4863587054917256, 0.25601556581726914, 0.12800778290863457, 0.298684826786814, 0.27735019630204155, 0.042669260969544855, 0.5117892357721262, 0.4386764878046796, 0.046526294161102384, 0.7690339031511447, 0.212147283627902, 0.3549760284780421, 0.2662320213585316, 0.31060402491828687, 0.1547401934133233, 0.22924473098270115, 0.017193354823702586, 0.22924473098270115, 0.06877341929481035, 0.21205137615899858, 0.0802356558439454, 0.7435273550751746, 0.21868451619858076, 0.5093685274593551, 0.16736394473664523, 0.16008725148722588, 0.058213545995354866, 0.09459701224245165, 0.1346821823901928, 0.8465737178812118, 0.2801147026886484, 0.700286756721621, 0.08177585552579862, 0.15446550488206406, 0.24532756657739588, 0.29075859742506177, 0.08177585552579862, 0.00908620616953318, 0.0454310308476659, 0.08177585552579862, 0.9545436149580527, 0.9821283254384208, 0.3589403648438666, 0.2653037479280753, 0.24969764510877676, 0.10924271973508984, 0.2472263904320348, 0.11478368127201616, 0.09270989641201305, 0.20307882071202857, 0.18100503585202546, 0.15010173704802113, 0.09202994752835128, 0.674886281874576, 0.21473654423281965, 0.16529694690231822, 0.5372150774325342, 0.2892696570790569, 0.13676210779550718, 0.6564581174184344, 0.027352421559101437, 0.13676210779550718, 0.9645659003208042], \"Term\": [\"abl\", \"abl\", \"abl\", \"abl\", \"abl\", \"absolut\", \"absolut\", \"absolut\", \"absolut\", \"absolut amaz\", \"accept\", \"accommod\", \"accommod\", \"accommod\", \"ad\", \"ad\", \"ad\", \"age\", \"age\", \"aggress\", \"agre\", \"agre\", \"agre\", \"ahi\", \"ahi tuna\", \"allig\", \"allig soup\", \"alon\", \"alon\", \"alon\", \"alon\", \"alway\", \"alway\", \"alway\", \"alway\", \"alway\", \"alway\", \"alway\", \"alway\", \"alway fresh\", \"alway fresh\", \"alway fresh\", \"alway friendli\", \"alway friendli\", \"amaz\", \"amaz\", \"amaz\", \"amaz\", \"amaz\", \"amaz\", \"american\", \"american\", \"anoth\", \"anoth\", \"anoth\", \"anoth\", \"anoth\", \"anoth\", \"anoth\", \"answer\", \"answer\", \"answer\", \"anytim\", \"anytim\", \"anytim\", \"apart\", \"apolog\", \"apolog\", \"app\", \"app\", \"appet\", \"appet\", \"appet\", \"appet\", \"appet\", \"appl\", \"appl\", \"appoint\", \"appoint\", \"area\", \"area\", \"area\", \"area\", \"area\", \"area\", \"arriv\", \"arriv\", \"arugula\", \"ask\", \"ask\", \"ask\", \"ask\", \"ask\", \"ask\", \"ask\", \"atmospher\", \"atmospher\", \"atmospher\", \"atmospher\", \"atmospher\", \"atmospher\", \"attend\", \"attend\", \"attent\", \"attent\", \"attent\", \"attent\", \"attent\", \"attent\", \"attitud\", \"attitud\", \"attitud\", \"avail\", \"avail\", \"avocado\", \"avocado\", \"avocado\", \"away\", \"away\", \"away\", \"away\", \"away\", \"awesom\", \"awesom\", \"awesom\", \"awesom\", \"awesom\", \"awesom\", \"awesom\", \"bacon\", \"bacon\", \"bacon\", \"bad\", \"bad\", \"bad\", \"bad\", \"bad\", \"bad\", \"bad\", \"bad\", \"bag\", \"bag\", \"bag\", \"bakeri\", \"ball\", \"ball\", \"ball\", \"bang\", \"bar\", \"bar\", \"bar\", \"bar\", \"bar\", \"bare\", \"basic\", \"basic\", \"beat\", \"beat\", \"beauti\", \"beauti\", \"beauti\", \"beauti\", \"bed\", \"bed\", \"beef\", \"beef\", \"beef\", \"beer\", \"beer\", \"beer tap\", \"beer tap\", \"begin\", \"begin\", \"begin\", \"begin\", \"believ\", \"believ\", \"believ\", \"believ\", \"believ\", \"best\", \"best\", \"best\", \"best\", \"best\", \"best\", \"best\", \"better\", \"better\", \"better\", \"better\", \"better\", \"better\", \"bewar\", \"bewar\", \"bewar\", \"big\", \"big\", \"big\", \"big\", \"big\", \"big\", \"biggest\", \"biggest\", \"birthday\", \"birthday\", \"black\", \"black\", \"black\", \"black\", \"blanco\", \"bodi\", \"bodi\", \"bodi\", \"bother\", \"bother\", \"bother\", \"bought\", \"bought\", \"bought\", \"bought\", \"boyfriend\", \"boyfriend\", \"boyfriend\", \"bread\", \"bread\", \"bread pud\", \"breakfast\", \"brought\", \"brought\", \"brown\", \"brown\", \"brown\", \"brown\", \"brunch\", \"btw\", \"btw\", \"bu\", \"bu\", \"buck\", \"bud\", \"bud\", \"build\", \"build\", \"burger\", \"burger\", \"burger\", \"burger\", \"burrito\", \"busi\", \"busi\", \"busi\", \"busi\", \"busi\", \"busi\", \"busi\", \"busi\", \"butter\", \"butter\", \"buy\", \"buy\", \"buy\", \"buy\", \"cafe\", \"cafe\", \"cafe\", \"cake\", \"cancel\", \"cancel\", \"car\", \"card\", \"card\", \"care\", \"care\", \"care\", \"care\", \"care\", \"care\", \"care\", \"care\", \"carpet\", \"carpet\", \"cashier\", \"casino\", \"casino\", \"cater\", \"cater\", \"center\", \"center\", \"center\", \"certain\", \"certain\", \"certain\", \"chair\", \"chair\", \"chang\", \"chang\", \"chang\", \"chang\", \"chang\", \"charg\", \"charg\", \"charg\", \"cheaper\", \"cheaper\", \"cheaper\", \"check\", \"check\", \"check\", \"check\", \"check\", \"chees\", \"chees\", \"chees\", \"chees\", \"chees\", \"chees\", \"chef\", \"chef\", \"chef\", \"chef\", \"chicken\", \"chicken\", \"chicken\", \"chicken\", \"child\", \"children\", \"children\", \"chili\", \"chili\", \"chili\", \"chip\", \"chip\", \"chip\", \"chip\", \"chipotl\", \"chipotl\", \"chocol\", \"class\", \"class\", \"class\", \"classi\", \"clean\", \"clean\", \"clean\", \"clean\", \"clean\", \"clearli\", \"clearli\", \"close\", \"close\", \"close\", \"cloth\", \"cloth\", \"club\", \"club\", \"cocktail\", \"cocktail\", \"cocktail\", \"code\", \"coffe\", \"coffe\", \"coffe\", \"coffe\", \"coleslaw\", \"colleg\", \"color\", \"color\", \"color\", \"combo\", \"come\", \"come\", \"come\", \"come\", \"come\", \"come\", \"come\", \"come\", \"comment\", \"comment\", \"comment\", \"comment\", \"compani\", \"compani\", \"compani\", \"compani\", \"compar\", \"compar\", \"compar\", \"compar\", \"compar\", \"complain\", \"complain\", \"complain\", \"complaint\", \"complaint\", \"complaint\", \"complaint\", \"complet\", \"complet\", \"complet\", \"complex\", \"complex\", \"consid\", \"consid\", \"consid\", \"consid\", \"continu\", \"continu\", \"continu\", \"conveni\", \"conveni\", \"cook\", \"cook\", \"cook\", \"cook\", \"cook\", \"cook perfect\", \"cooki\", \"corn\", \"corn\", \"corpor\", \"corpor\", \"corpor\", \"corpor offic\", \"corpor offic\", \"correct\", \"cost\", \"cost\", \"cost\", \"cost\", \"cost\", \"cost\", \"cost\", \"count\", \"count\", \"count\", \"counter\", \"counter\", \"counter\", \"counter\", \"counter\", \"coupon\", \"coupon\", \"coupon\", \"coupon\", \"cours\", \"cours\", \"cours\", \"cours\", \"cours\", \"cours\", \"courteou\", \"courteou\", \"cover\", \"craft\", \"crap\", \"crap\", \"crazi\", \"crazi\", \"creami\", \"creami\", \"creami\", \"credit\", \"credit\", \"crew\", \"crew\", \"crispi\", \"crispi\", \"cucumb\", \"cup\", \"cup\", \"cup\", \"curri\", \"curri\", \"custom\", \"custom\", \"custom\", \"custom\", \"custom\", \"custom\", \"cut\", \"cut\", \"cut\", \"cute\", \"cute\", \"damag\", \"damag\", \"date\", \"date\", \"date\", \"date\", \"date\", \"daughter\", \"daughter\", \"daughter\", \"daughter\", \"day\", \"day\", \"day\", \"day\", \"day\", \"day later\", \"day later\", \"deal\", \"deal\", \"decent\", \"decent\", \"decent\", \"decent\", \"decent\", \"decent\", \"decid\", \"decid\", \"decid\", \"decid\", \"decid\", \"deep\", \"deep\", \"deep\", \"def\", \"def\", \"def\", \"definit\", \"definit\", \"definit\", \"definit\", \"definit\", \"delici\", \"delici\", \"delici\", \"delici\", \"desert\", \"desert\", \"design\", \"design\", \"design\", \"design\", \"desk\", \"despit\", \"despit\", \"despit\", \"dessert\", \"dessert\", \"dessert\", \"die\", \"die\", \"die\", \"differ\", \"differ\", \"differ\", \"differ\", \"differ\", \"differ\", \"dine\", \"dine\", \"dine experi\", \"dine experi\", \"dinner\", \"dinner\", \"dinner\", \"dinner\", \"dinner\", \"dinner\", \"dirti\", \"dirti\", \"disappoint\", \"disappoint\", \"disappoint\", \"discuss\", \"discuss\", \"discuss\", \"dish\", \"dish\", \"district\", \"district\", \"district\", \"doctor\", \"dog\", \"dog\", \"dollar\", \"dollar\", \"dollar\", \"dollar\", \"dollar\", \"donut\", \"donut\", \"door\", \"door\", \"door\", \"doubt\", \"doubt\", \"doubt\", \"doubt\", \"dr\", \"dress\", \"dress\", \"dress\", \"drink\", \"drink\", \"drink\", \"drink\", \"drink\", \"drink\", \"drive\", \"drive\", \"drive\", \"drop\", \"drop\", \"drove\", \"duck\", \"earli\", \"earli\", \"earli\", \"earli\", \"earli\", \"eat\", \"eat\", \"eat\", \"eat\", \"eat\", \"effici\", \"egg\", \"egg\", \"egg\", \"egg\", \"els\", \"els\", \"els\", \"els\", \"els\", \"em\", \"em\", \"employe\", \"employe\", \"employe\", \"end\", \"end\", \"end\", \"end\", \"end\", \"end\", \"enjoy\", \"enjoy\", \"enjoy\", \"enjoy\", \"enjoy\", \"enjoy\", \"enter\", \"enter\", \"entre\", \"entre\", \"environ\", \"environ\", \"environ\", \"equip\", \"establish\", \"establish\", \"establish\", \"establish\", \"event\", \"event\", \"event\", \"everi\", \"everi\", \"everi\", \"everi\", \"everi\", \"everi\", \"everi\", \"everi\", \"everi\", \"everyon\", \"everyon\", \"everyon\", \"everyon\", \"everyon\", \"everyth\", \"everyth\", \"everyth\", \"everyth\", \"everyth\", \"everyth\", \"everyth\", \"everywher\", \"everywher\", \"everywher\", \"excel\", \"excel\", \"excel\", \"excel\", \"excel\", \"excit\", \"excit\", \"expect\", \"expect\", \"expect\", \"expens\", \"expens\", \"expens\", \"expens\", \"expens\", \"expens\", \"experi\", \"experi\", \"experi\", \"experi\", \"experi\", \"experi\", \"experi\", \"experi\", \"explain\", \"express\", \"express\", \"extrem\", \"extrem\", \"extrem\", \"extrem\", \"extrem\", \"extrem\", \"face\", \"face\", \"facil\", \"fair\", \"fair\", \"fair\", \"fairli\", \"fairli\", \"falafel\", \"famili\", \"famili\", \"famili\", \"famili\", \"famili\", \"fanci\", \"fanci\", \"fanci\", \"fantast\", \"fantast\", \"fantast\", \"fantast\", \"fantast\", \"fantast\", \"fantast\", \"fantast\", \"far\", \"far\", \"fat\", \"fat\", \"fat\", \"favorit\", \"favorit\", \"favorit\", \"favorit\", \"favorit\", \"favourit\", \"favourit\", \"fear\", \"fear\", \"fear\", \"feel\", \"feel\", \"feel\", \"feel\", \"feel\", \"feel\", \"feel\", \"feel\", \"feel\", \"feel\", \"feel welcom\", \"feel welcom\", \"feet\", \"feet\", \"feet\", \"filet\", \"filet\", \"filet\", \"finish\", \"finish\", \"finish\", \"finish\", \"fish\", \"fish\", \"fish\", \"fit\", \"fix\", \"flat\", \"flat\", \"flat\", \"flat\", \"flavor\", \"flavor\", \"flavor\", \"flavor\", \"flavour\", \"food\", \"foot\", \"foot\", \"foot\", \"forward\", \"forward\", \"free\", \"free\", \"french\", \"french\", \"french\", \"french\", \"fresh\", \"fresh\", \"fresh\", \"fresh\", \"fri\", \"fri\", \"fri\", \"friday\", \"friday\", \"friday\", \"friend\", \"friend\", \"friend\", \"friend\", \"friend\", \"friend\", \"friend\", \"friendli\", \"friendli\", \"friendli\", \"friendli\", \"friendli\", \"friendli\", \"friendli\", \"friendli\", \"friendli\", \"friendli\", \"friendli knowledg\", \"friendli knowledg\", \"fruit\", \"frustrat\", \"frustrat\", \"futur\", \"futur\", \"futur\", \"ga\", \"game\", \"game\", \"game\", \"garden\", \"gave\", \"gave\", \"gave\", \"gave\", \"gem\", \"gem\", \"gem\", \"georg\", \"georg\", \"girl\", \"girl\", \"girl\", \"girl\", \"girl\", \"given\", \"given\", \"given\", \"given\", \"given\", \"goat\", \"goat chees\", \"god\", \"god\", \"god\", \"gone\", \"gone\", \"gone\", \"gone\", \"green\", \"grill\", \"grill\", \"grill\", \"grill\", \"grill chees\", \"gross\", \"group\", \"group\", \"group\", \"groupon\", \"groupon\", \"guacamol\", \"guy\", \"guy\", \"guy\", \"guy\", \"guy\", \"guy\", \"guy\", \"gym\", \"hair\", \"hair\", \"hair\", \"haircut\", \"half\", \"halibut\", \"halibut\", \"happen\", \"happen\", \"happen\", \"happen\", \"happen\", \"happi\", \"happi\", \"happi\", \"happi\", \"happi\", \"happi\", \"happi\", \"happi hour\", \"hard\", \"hard\", \"hard\", \"head\", \"health\", \"healthi\", \"healthi\", \"heart\", \"heart\", \"helen\", \"helen team\", \"hello\", \"hello\", \"help\", \"help\", \"help\", \"help\", \"help\", \"help\", \"help\", \"hey\", \"hey\", \"high\", \"high\", \"high\", \"high\", \"high\", \"highli\", \"highli\", \"highli\", \"hit\", \"hit\", \"hold\", \"hold\", \"hold\", \"hold\", \"hole\", \"hollywood\", \"home\", \"home\", \"home\", \"home\", \"home\", \"home\", \"home\", \"homemad\", \"homemad\", \"honestli\", \"honestli\", \"hope\", \"hope\", \"hope\", \"hope\", \"hope\", \"hope\", \"horribl\", \"horribl\", \"horribl\", \"horribl\", \"hot\", \"hot\", \"hot\", \"hot\", \"hotel\", \"hotel\", \"hour\", \"hour\", \"hour\", \"hour\", \"hour\", \"hour minut\", \"hour minut\", \"hous\", \"hous\", \"hous\", \"hous\", \"hous\", \"hous\", \"hous\", \"husband\", \"husband\", \"husband\", \"husband\", \"ice tea\", \"immedi\", \"immedi\", \"immedi\", \"improv\", \"improv\", \"improv\", \"improv\", \"includ\", \"includ\", \"includ\", \"includ\", \"includ\", \"includ\", \"incred\", \"incred\", \"incred\", \"inform\", \"ingredi\", \"ingredi\", \"insid\", \"insid\", \"instal\", \"insult\", \"insult\", \"interior\", \"interior\", \"interior\", \"invit\", \"iron\", \"iron\", \"jack\", \"japanes\", \"job\", \"job\", \"job\", \"job\", \"juici\", \"juici\", \"kept\", \"kept\", \"kept\", \"kid\", \"kid\", \"kind\", \"kind\", \"kind\", \"kind\", \"kitchen\", \"kitchen\", \"kitchen\", \"knew\", \"knew\", \"know\", \"know\", \"know\", \"know\", \"know\", \"know\", \"know\", \"known\", \"known\", \"known\", \"la\", \"la vega\", \"ladi\", \"ladi\", \"lamb\", \"larg\", \"larg\", \"larg\", \"larg\", \"larg\", \"larg\", \"later\", \"later\", \"later\", \"later\", \"later\", \"latt\", \"latt\", \"le\", \"left\", \"left\", \"left\", \"lemon\", \"lemon\", \"lettuc\", \"level\", \"level\", \"level\", \"level\", \"light\", \"light\", \"light\", \"light\", \"like\", \"like\", \"like\", \"like\", \"like\", \"line\", \"line\", \"line\", \"line\", \"line\", \"lisa\", \"list\", \"list\", \"list\", \"listen\", \"liter\", \"liter\", \"liter\", \"littl\", \"littl\", \"littl\", \"littl\", \"littl\", \"littl\", \"littl\", \"littl\", \"littl\", \"live\", \"live\", \"live\", \"lobster\", \"locat\", \"locat\", \"locat\", \"locat\", \"locat\", \"locat\", \"locat\", \"locat\", \"long\", \"long\", \"long\", \"long\", \"long\", \"long\", \"long term\", \"long term\", \"long wait\", \"long wait\", \"look\", \"look\", \"look\", \"look\", \"look\", \"look\", \"look\", \"look\", \"look\", \"look\", \"look\", \"look\", \"look forward\", \"look forward\", \"lot\", \"lot\", \"lot\", \"lot\", \"lot\", \"lot\", \"lot\", \"lot\", \"lot\", \"love\", \"love\", \"love\", \"loyal\", \"loyal\", \"luci\", \"luci\", \"lunch\", \"lunch\", \"lunch\", \"mac\", \"mac\", \"mac chees\", \"mac chees\", \"main\", \"main\", \"mainten\", \"major\", \"major\", \"make\", \"make\", \"make\", \"make\", \"make\", \"make\", \"make\", \"make\", \"mall\", \"mall\", \"mall\", \"manag\", \"manag\", \"manag\", \"manag\", \"manag\", \"manag\", \"mani\", \"mani\", \"mani\", \"mani\", \"mani\", \"mani\", \"mani\", \"martini\", \"martini\", \"massag\", \"massag\", \"mayb\", \"mayb\", \"mayb\", \"mayb\", \"meal\", \"meal\", \"meal\", \"meal\", \"meal\", \"meal\", \"mean\", \"mean\", \"mean\", \"mean\", \"meat\", \"meat\", \"meat\", \"meet\", \"meet\", \"meet\", \"meet\", \"meh\", \"meh\", \"memor\", \"memor\", \"mention\", \"mention\", \"mention\", \"menu\", \"menu\", \"menu\", \"menu\", \"menu\", \"menu\", \"menu\", \"mexican\", \"michael\", \"michael\", \"mile\", \"mile\", \"min\", \"min\", \"min\", \"mini\", \"minut\", \"minut\", \"minut\", \"minut\", \"mistak\", \"mix\", \"mix\", \"money\", \"money\", \"money\", \"mostli\", \"mostli\", \"mostli\", \"mouth\", \"mouth\", \"mouth\", \"multipl\", \"multipl\", \"multipl\", \"mushroom\", \"mushroom\", \"mushroom\", \"mushroom\", \"music\", \"music\", \"mussel\", \"na\", \"na\", \"near\", \"need\", \"need\", \"need\", \"need\", \"need\", \"neg\", \"neg\", \"neg\", \"night\", \"night\", \"night\", \"night\", \"night\", \"night\", \"night\", \"non\", \"non\", \"non\", \"noodl\", \"normal\", \"normal\", \"normal\", \"noth\", \"noth\", \"noth\", \"noth\", \"noth\", \"notic\", \"notic\", \"notic\", \"notic\", \"notic\", \"notic\", \"number\", \"number\", \"number\", \"nyc\", \"nyc\", \"offic\", \"offic\", \"offic\", \"ok\", \"ok\", \"old\", \"old\", \"old\", \"old\", \"old\", \"old\", \"onion\", \"onion\", \"onlin\", \"open\", \"open\", \"open\", \"open\", \"open\", \"open\", \"open\", \"open\", \"opinion\", \"opinion\", \"opinion\", \"option\", \"option\", \"option\", \"option\", \"option\", \"order\", \"order\", \"order\", \"order\", \"order\", \"order\", \"organ\", \"organ\", \"organ\", \"otherwis\", \"otherwis\", \"otherwis\", \"otherwis\", \"otherwis\", \"outsid\", \"outsid\", \"outsid\", \"outstand\", \"outstand\", \"outstand\", \"outstand\", \"overal\", \"overal\", \"overal\", \"overal\", \"overal\", \"overal\", \"overal\", \"overal experi\", \"overal experi\", \"owner\", \"owner\", \"owner\", \"owner\", \"owner manag\", \"owner manag\", \"oyster\", \"pad\", \"page\", \"page\", \"page\", \"paid\", \"paid\", \"paid\", \"pain\", \"pain\", \"paint\", \"pair\", \"pair\", \"park\", \"park\", \"park\", \"park\", \"parmesan\", \"parmesan\", \"parti\", \"parti\", \"parti\", \"pass\", \"pass\", \"pass\", \"past\", \"past\", \"past\", \"past\", \"past\", \"pasta\", \"pasta\", \"pasta\", \"pastri\", \"patron\", \"patron\", \"pay\", \"pay\", \"pay\", \"pay\", \"pay\", \"pay\", \"pay\", \"peopl\", \"peopl\", \"peopl\", \"peopl\", \"peopl\", \"peopl\", \"peopl\", \"peopl\", \"pepper\", \"perfect\", \"person\", \"person\", \"person\", \"person\", \"person\", \"person\", \"person\", \"pet\", \"phone\", \"phone\", \"phone\", \"phone\", \"photo\", \"photo\", \"pick\", \"pick\", \"pick\", \"pick\", \"pick\", \"pipe\", \"pizza\", \"pizza\", \"pizza\", \"pizza\", \"place\", \"place\", \"place\", \"place\", \"planet\", \"planet\", \"plate\", \"plate\", \"play\", \"play\", \"play\", \"play\", \"pleas\", \"pleas\", \"pleasant\", \"pleasant\", \"pleasant\", \"plu\", \"plu\", \"plu\", \"plu\", \"plu\", \"pm\", \"pm\", \"pm\", \"pm\", \"point\", \"point\", \"point\", \"point\", \"point\", \"polit\", \"polit\", \"poorli\", \"poorli\", \"poorli\", \"pork\", \"portion\", \"portion\", \"posit\", \"posit\", \"posit\", \"possibl\", \"possibl\", \"possibl\", \"pound\", \"pound\", \"pound\", \"pound\", \"pour\", \"pre\", \"prescript\", \"pretti\", \"pretti\", \"pretti\", \"pretti\", \"pretti\", \"pretti decent\", \"pretti decent\", \"price\", \"price\", \"price\", \"price\", \"price\", \"pricey\", \"prime\", \"print\", \"print\", \"privat\", \"pro\", \"pro\", \"produc\", \"produc\", \"profession\", \"profession\", \"profession\", \"prosciutto\", \"prosciutto\", \"provid\", \"provid\", \"provid\", \"provid\", \"pub\", \"pub\", \"pub\", \"pud\", \"pull\", \"pull\", \"pull\", \"pull pork\", \"purchas\", \"purchas\", \"purchas\", \"purchas\", \"qualiti\", \"qualiti\", \"qualiti\", \"qualiti\", \"qualiti\", \"qualiti\", \"question\", \"question\", \"question\", \"question\", \"question\", \"question\", \"quick\", \"quick\", \"quick\", \"quick\", \"quot\", \"quot\", \"quot\", \"rais\", \"rais\", \"rais\", \"ran\", \"ran\", \"ran\", \"rang\", \"rare\", \"rare\", \"ravioli\", \"readi\", \"readi\", \"readi\", \"readi\", \"real\", \"real\", \"real\", \"reason\", \"reason\", \"reason\", \"reason\", \"reason\", \"reason price\", \"receiv\", \"receiv\", \"receiv\", \"record\", \"record\", \"region\", \"region\", \"relax\", \"relax\", \"relax\", \"remind\", \"remind\", \"rental\", \"rental\", \"repair\", \"request\", \"request\", \"request\", \"research\", \"research\", \"reserv\", \"respons\", \"respons\", \"respons\", \"rest\", \"rest\", \"rest\", \"result\", \"result\", \"result\", \"return\", \"return\", \"return\", \"return\", \"return\", \"return\", \"review\", \"review\", \"review\", \"review\", \"review\", \"review\", \"rice\", \"ridicul\", \"ridicul\", \"ridicul\", \"right\", \"right\", \"right\", \"right\", \"right\", \"right\", \"right\", \"right\", \"rock\", \"rock\", \"rock\", \"roll\", \"roll\", \"roll\", \"roll\", \"room\", \"room\", \"room\", \"rude\", \"rude\", \"rude\", \"run\", \"run\", \"run\", \"run\", \"sad\", \"sad\", \"sad\", \"safe\", \"safe\", \"salad\", \"salad\", \"salad\", \"salad\", \"sale\", \"sale\", \"sale\", \"sale\", \"salon\", \"salon\", \"salsa\", \"salti\", \"sandwich\", \"sandwich\", \"sashimi\", \"saturday\", \"saturday\", \"saturday\", \"saturday\", \"saturday night\", \"saturday night\", \"sauc\", \"sauc\", \"save\", \"save\", \"save\", \"saw\", \"saw\", \"saw\", \"say\", \"say\", \"say\", \"schedul\", \"schedul\", \"seafood\", \"seafood\", \"season\", \"season\", \"seat\", \"seat\", \"seat\", \"second\", \"second\", \"second\", \"second\", \"second\", \"section\", \"select\", \"select\", \"select\", \"select\", \"send\", \"send\", \"send\", \"send\", \"sent\", \"sent\", \"seriou\", \"seriou\", \"serv\", \"serv\", \"serv\", \"serv\", \"server\", \"server\", \"server\", \"server\", \"server\", \"set\", \"set\", \"set\", \"set\", \"set\", \"sever\", \"sever\", \"sever\", \"sever time\", \"shell\", \"shell\", \"shock\", \"shock\", \"shock\", \"shooter\", \"shooter\", \"shop\", \"shop\", \"shot\", \"shrimp\", \"shut\", \"shut\", \"sign\", \"sign\", \"sign\", \"sign\", \"sinc\", \"sinc\", \"sinc\", \"sinc\", \"sinc\", \"sinc\", \"sinc\", \"sinc\", \"sinc open\", \"sinc open\", \"singl\", \"singl\", \"singl\", \"sit\", \"sit\", \"sit\", \"sit\", \"sit\", \"sit\", \"sit\", \"size\", \"size\", \"size\", \"skewer\", \"skewer\", \"skewer\", \"skill\", \"small\", \"small\", \"small\", \"small\", \"small\", \"smoke\", \"smoke\", \"soft\", \"soft\", \"someon\", \"someon\", \"someon\", \"someon\", \"someth\", \"someth\", \"someth\", \"someth\", \"someth\", \"sometim\", \"sometim\", \"sometim\", \"sometim\", \"sooner\", \"sort\", \"sort\", \"sort\", \"soul\", \"sound\", \"sound\", \"soup\", \"soup\", \"spaciou\", \"spaciou\", \"speak\", \"speak\", \"special\", \"special\", \"special\", \"special\", \"special\", \"spent\", \"spent\", \"spent\", \"spice\", \"spici\", \"spot\", \"spot\", \"spot\", \"spot\", \"spot\", \"spring\", \"spring\", \"stand\", \"stand\", \"star\", \"star\", \"star\", \"start\", \"start\", \"start\", \"start\", \"start\", \"state\", \"state\", \"state\", \"steak\", \"steak\", \"steak\", \"step\", \"step\", \"step\", \"step\", \"steve\", \"steve\", \"stock\", \"stock\", \"stop\", \"stop\", \"stop\", \"stop\", \"store\", \"store\", \"store\", \"studio\", \"stuf\", \"stuff\", \"stuff\", \"stuff\", \"stuff\", \"stylist\", \"stylist\", \"suggest\", \"suggest\", \"suggest\", \"super\", \"super\", \"super\", \"super friendli\", \"superb\", \"superb\", \"suppos\", \"suppos\", \"sure\", \"sure\", \"sure\", \"sure\", \"sure\", \"sure\", \"sure\", \"sure\", \"surpris\", \"surpris\", \"surpris\", \"surpris\", \"sushi\", \"sushi\", \"sweet\", \"sweet\", \"sweet\", \"sweet\", \"sweet\", \"tabl\", \"tabl\", \"tabl\", \"tabl\", \"tabl\", \"tabl\", \"taco\", \"taco\", \"talk\", \"talk\", \"talk\", \"talk\", \"tap\", \"tap\", \"tart\", \"tart\", \"tast\", \"tast\", \"tast\", \"tast menu\", \"tasti\", \"tasti\", \"tasti\", \"team\", \"team\", \"team\", \"televis\", \"term\", \"term\", \"term\", \"terribl\", \"terribl\", \"terribl\", \"terribl\", \"thai\", \"thai\", \"thing\", \"thing\", \"thing\", \"thing\", \"thing\", \"thing\", \"thing\", \"thing\", \"thing\", \"think\", \"think\", \"think\", \"think\", \"think\", \"think\", \"think\", \"think\", \"think\", \"thought\", \"thought\", \"thought\", \"thought\", \"thought\", \"thought\", \"tip\", \"tip\", \"tip\", \"tip\", \"tire\", \"toast\", \"toast\", \"toast\", \"toast\", \"toast\", \"today\", \"today\", \"today\", \"today\", \"today\", \"told\", \"told\", \"told\", \"told\", \"told\", \"told\", \"took\", \"took\", \"took\", \"took\", \"took\", \"took\", \"took\", \"took\", \"toronto\", \"toronto\", \"toronto\", \"toronto\", \"toronto\", \"tortilla\", \"total\", \"total\", \"total\", \"total\", \"total\", \"touch\", \"touch\", \"tourist\", \"tradit\", \"tradit\", \"tradit\", \"train\", \"train\", \"treat\", \"treat\", \"treat\", \"treatment\", \"treatment\", \"tri\", \"tri\", \"tri\", \"tri\", \"tri\", \"tri\", \"tri\", \"tri\", \"tri\", \"tri\", \"truffl\", \"truffl\", \"truffl\", \"tuna\", \"tuna\", \"tuna\", \"turn\", \"turn\", \"turn\", \"turn\", \"turn\", \"twice\", \"twice\", \"twice\", \"typic\", \"typic\", \"understand\", \"understand\", \"understand\", \"understand\", \"uniqu\", \"uniqu\", \"unit\", \"unit\", \"unless\", \"unless\", \"upgrad\", \"upset\", \"upset\", \"upstair\", \"use\", \"use\", \"use\", \"use\", \"use\", \"use\", \"usual\", \"usual\", \"usual\", \"usual\", \"usual\", \"usual\", \"valu\", \"varieti\", \"varieti\", \"varieti\", \"vega\", \"vega\", \"vega\", \"vegan\", \"vegan\", \"vegetarian\", \"vegetarian\", \"veggi\", \"veggi\", \"veggi\", \"view\", \"view\", \"view\", \"visit\", \"visit\", \"visit\", \"visit\", \"visit\", \"visit\", \"visit\", \"wait\", \"wait\", \"wait\", \"wait\", \"wait\", \"wait\", \"wait minut\", \"wait minut\", \"waiter\", \"waiter\", \"walgreen\", \"walk\", \"walk\", \"walk\", \"walk\", \"walk\", \"walk\", \"walk\", \"walk\", \"wan\", \"wan\", \"wan na\", \"wan na\", \"warn\", \"warn\", \"wash\", \"wash\", \"wast\", \"wast\", \"way\", \"way\", \"way\", \"way\", \"way\", \"wed\", \"wednesday\", \"wednesday\", \"weekend\", \"weekend\", \"welcom\", \"welcom\", \"welcom\", \"welcom\", \"whatev\", \"whatev\", \"whenev\", \"whenev\", \"wide\", \"wife\", \"wife\", \"wifi\", \"wifi\", \"window\", \"window\", \"window\", \"window\", \"window\", \"wine\", \"wine\", \"wine\", \"woman\", \"woman\", \"women\", \"women\", \"women\", \"wonder\", \"wonder\", \"wonder\", \"wonder\", \"wonder\", \"wonder\", \"wonder\", \"word\", \"word\", \"work\", \"work\", \"work\", \"work\", \"work\", \"world\", \"world\", \"wors\", \"wors\", \"worth\", \"worth\", \"worth\", \"worth\", \"worth\", \"worth\", \"worth\", \"worth\", \"wow\", \"wrap\", \"wrong\", \"wrong\", \"wrong\", \"wrong\", \"year\", \"year\", \"year\", \"year\", \"year\", \"year\", \"year old\", \"year old\", \"year old\", \"yell\", \"yell\", \"yell\", \"yelp\", \"yelp\", \"yelp\", \"yelp\", \"yesterday\"]}, \"mdsDat\": {\"y\": [0.14243366246278732, 0.16131081599617333, -0.013237033576268946, 0.12704613124591366, 0.11901278088558048, 0.02882399744190388, 0.0685929561567426, -0.07087055340989898, 0.021817047396895387, -0.007991847392787762, 0.10019850350606184, 0.06622398471945068, -0.08107718451344627, -0.07168785348810072, -0.3565586470524653, -0.03738127866542224, -0.022233959028228497, -0.12454384537571926, -0.07452211102219569, 0.02464443371302347], \"cluster\": [1, 1, 1, 1, 1, 1, 1, 1, 1, 1, 1, 1, 1, 1, 1, 1, 1, 1, 1, 1], \"Freq\": [13.381479814144672, 11.514444715328596, 11.047918088341026, 10.137554346891447, 8.307724375158434, 6.67467504815632, 5.8024844547641035, 4.421844071443138, 4.358667236462957, 4.286411843843152, 3.7752882768023, 3.619001412845827, 3.474793163354671, 3.3257860409762774, 1.555125265112882, 1.3040217656327828, 1.2321493284195055, 1.1564860278650577, 0.4673992695693582, 0.15674545488748992], \"topics\": [1, 2, 3, 4, 5, 6, 7, 8, 9, 10, 11, 12, 13, 14, 15, 16, 17, 18, 19, 20], \"x\": [-0.1807826412042999, -0.025374722148793667, 0.050389449268024175, -0.12029561694714645, 0.15341847884223342, -0.06831370618991506, 0.003810646935681283, 0.12230752633607403, 0.19140390629135648, 0.14150067691156365, -0.04218245183196074, -0.11447928240169303, -0.21103009463521388, -0.043188245726752776, -0.12782926133104325, -0.08153053873990306, 0.19923162646638987, 0.1137360272158787, 0.04568998067738364, -0.0064817577878644285]}, \"R\": 30, \"lambda.step\": 0.01, \"tinfo\": {\"Category\": [\"Default\", \"Default\", \"Default\", \"Default\", \"Default\", \"Default\", \"Default\", \"Default\", \"Default\", \"Default\", \"Default\", \"Default\", \"Default\", \"Default\", \"Default\", \"Default\", \"Default\", \"Default\", \"Default\", \"Default\", \"Default\", \"Default\", \"Default\", \"Default\", \"Default\", \"Default\", \"Default\", \"Default\", \"Default\", \"Default\", \"Topic1\", \"Topic1\", \"Topic1\", \"Topic1\", \"Topic1\", \"Topic1\", \"Topic1\", \"Topic1\", \"Topic1\", \"Topic1\", \"Topic1\", \"Topic1\", \"Topic1\", \"Topic1\", \"Topic1\", \"Topic1\", \"Topic1\", \"Topic1\", \"Topic1\", \"Topic1\", \"Topic1\", \"Topic1\", \"Topic1\", \"Topic1\", \"Topic1\", \"Topic1\", \"Topic1\", \"Topic1\", \"Topic1\", \"Topic1\", \"Topic1\", \"Topic1\", \"Topic1\", \"Topic1\", \"Topic1\", \"Topic1\", \"Topic1\", \"Topic1\", \"Topic1\", \"Topic1\", \"Topic1\", \"Topic1\", \"Topic1\", \"Topic1\", \"Topic1\", \"Topic1\", \"Topic1\", \"Topic1\", \"Topic1\", \"Topic1\", \"Topic1\", \"Topic1\", \"Topic1\", \"Topic1\", \"Topic1\", \"Topic1\", \"Topic1\", \"Topic1\", \"Topic1\", \"Topic1\", \"Topic1\", \"Topic1\", \"Topic1\", \"Topic2\", \"Topic2\", \"Topic2\", \"Topic2\", \"Topic2\", \"Topic2\", \"Topic2\", \"Topic2\", \"Topic2\", \"Topic2\", \"Topic2\", \"Topic2\", \"Topic2\", \"Topic2\", \"Topic2\", \"Topic2\", \"Topic2\", \"Topic2\", \"Topic2\", \"Topic2\", \"Topic2\", \"Topic2\", \"Topic2\", \"Topic2\", \"Topic2\", \"Topic2\", \"Topic2\", \"Topic2\", \"Topic2\", \"Topic2\", \"Topic2\", \"Topic2\", \"Topic2\", \"Topic2\", \"Topic2\", \"Topic2\", \"Topic2\", \"Topic2\", \"Topic2\", \"Topic2\", \"Topic2\", \"Topic2\", \"Topic2\", \"Topic2\", \"Topic2\", \"Topic2\", \"Topic2\", \"Topic2\", \"Topic2\", \"Topic2\", \"Topic2\", \"Topic2\", \"Topic2\", \"Topic2\", \"Topic2\", \"Topic2\", \"Topic2\", \"Topic3\", \"Topic3\", \"Topic3\", \"Topic3\", \"Topic3\", \"Topic3\", \"Topic3\", \"Topic3\", \"Topic3\", \"Topic3\", \"Topic3\", \"Topic3\", \"Topic3\", \"Topic3\", \"Topic3\", \"Topic3\", \"Topic3\", \"Topic3\", \"Topic3\", \"Topic3\", \"Topic3\", \"Topic3\", \"Topic3\", \"Topic3\", \"Topic3\", \"Topic3\", \"Topic3\", \"Topic3\", \"Topic3\", \"Topic3\", \"Topic3\", \"Topic3\", \"Topic3\", \"Topic3\", \"Topic3\", \"Topic3\", \"Topic3\", \"Topic3\", \"Topic3\", \"Topic3\", \"Topic3\", \"Topic3\", \"Topic3\", \"Topic3\", \"Topic3\", \"Topic3\", \"Topic3\", \"Topic3\", \"Topic3\", \"Topic3\", \"Topic3\", \"Topic3\", \"Topic3\", \"Topic3\", \"Topic3\", \"Topic4\", \"Topic4\", \"Topic4\", \"Topic4\", \"Topic4\", \"Topic4\", \"Topic4\", \"Topic4\", \"Topic4\", \"Topic4\", \"Topic4\", \"Topic4\", \"Topic4\", \"Topic4\", \"Topic4\", \"Topic4\", \"Topic4\", \"Topic4\", \"Topic4\", \"Topic4\", \"Topic4\", \"Topic4\", \"Topic4\", \"Topic4\", \"Topic4\", \"Topic4\", \"Topic4\", \"Topic4\", \"Topic4\", \"Topic4\", \"Topic4\", \"Topic4\", \"Topic4\", \"Topic4\", \"Topic4\", \"Topic4\", \"Topic4\", \"Topic4\", \"Topic4\", \"Topic4\", \"Topic4\", \"Topic4\", \"Topic4\", \"Topic4\", \"Topic4\", \"Topic4\", \"Topic4\", \"Topic4\", \"Topic4\", \"Topic4\", \"Topic4\", \"Topic4\", \"Topic4\", \"Topic4\", \"Topic4\", \"Topic4\", \"Topic5\", \"Topic5\", \"Topic5\", \"Topic5\", \"Topic5\", \"Topic5\", \"Topic5\", \"Topic5\", \"Topic5\", \"Topic5\", \"Topic5\", \"Topic5\", \"Topic5\", \"Topic5\", \"Topic5\", \"Topic5\", \"Topic5\", \"Topic5\", \"Topic5\", \"Topic5\", \"Topic5\", \"Topic5\", \"Topic5\", \"Topic5\", \"Topic5\", \"Topic5\", \"Topic5\", \"Topic5\", \"Topic5\", \"Topic5\", \"Topic5\", \"Topic5\", \"Topic5\", \"Topic5\", \"Topic5\", \"Topic5\", \"Topic5\", \"Topic5\", \"Topic5\", \"Topic5\", \"Topic5\", \"Topic5\", \"Topic5\", \"Topic5\", \"Topic5\", \"Topic5\", \"Topic5\", \"Topic5\", \"Topic5\", \"Topic5\", \"Topic5\", \"Topic5\", \"Topic6\", \"Topic6\", \"Topic6\", \"Topic6\", \"Topic6\", \"Topic6\", \"Topic6\", \"Topic6\", \"Topic6\", \"Topic6\", \"Topic6\", \"Topic6\", \"Topic6\", \"Topic6\", \"Topic6\", \"Topic6\", \"Topic6\", \"Topic6\", \"Topic6\", \"Topic6\", \"Topic6\", \"Topic6\", \"Topic6\", \"Topic6\", \"Topic6\", \"Topic6\", \"Topic6\", \"Topic6\", \"Topic6\", \"Topic6\", \"Topic6\", \"Topic6\", \"Topic6\", \"Topic6\", \"Topic6\", \"Topic6\", \"Topic6\", \"Topic6\", \"Topic6\", \"Topic6\", \"Topic6\", \"Topic6\", \"Topic6\", \"Topic6\", \"Topic6\", \"Topic6\", \"Topic6\", \"Topic6\", \"Topic6\", \"Topic6\", \"Topic6\", \"Topic6\", \"Topic6\", \"Topic7\", \"Topic7\", \"Topic7\", \"Topic7\", \"Topic7\", \"Topic7\", \"Topic7\", \"Topic7\", \"Topic7\", \"Topic7\", \"Topic7\", \"Topic7\", \"Topic7\", \"Topic7\", \"Topic7\", \"Topic7\", \"Topic7\", \"Topic7\", \"Topic7\", \"Topic7\", \"Topic7\", \"Topic7\", \"Topic7\", \"Topic7\", \"Topic7\", \"Topic7\", \"Topic7\", \"Topic7\", \"Topic7\", \"Topic7\", \"Topic7\", \"Topic7\", \"Topic7\", \"Topic7\", \"Topic7\", \"Topic7\", \"Topic7\", \"Topic7\", \"Topic7\", \"Topic7\", \"Topic7\", \"Topic7\", \"Topic7\", \"Topic7\", \"Topic7\", \"Topic7\", \"Topic7\", \"Topic7\", \"Topic7\", \"Topic7\", \"Topic7\", \"Topic8\", \"Topic8\", \"Topic8\", \"Topic8\", \"Topic8\", \"Topic8\", \"Topic8\", \"Topic8\", \"Topic8\", \"Topic8\", \"Topic8\", \"Topic8\", \"Topic8\", \"Topic8\", \"Topic8\", \"Topic8\", \"Topic8\", \"Topic8\", \"Topic8\", \"Topic8\", \"Topic8\", \"Topic8\", \"Topic8\", \"Topic8\", \"Topic8\", \"Topic8\", \"Topic8\", \"Topic8\", \"Topic8\", \"Topic8\", \"Topic8\", \"Topic8\", \"Topic8\", \"Topic8\", \"Topic8\", \"Topic8\", \"Topic8\", \"Topic8\", \"Topic8\", \"Topic8\", \"Topic8\", \"Topic8\", \"Topic8\", \"Topic8\", \"Topic8\", \"Topic8\", \"Topic9\", \"Topic9\", \"Topic9\", \"Topic9\", \"Topic9\", \"Topic9\", \"Topic9\", \"Topic9\", \"Topic9\", \"Topic9\", \"Topic9\", \"Topic9\", \"Topic9\", \"Topic9\", \"Topic9\", \"Topic9\", \"Topic9\", \"Topic9\", \"Topic9\", \"Topic9\", \"Topic9\", \"Topic9\", \"Topic9\", \"Topic9\", \"Topic9\", \"Topic9\", \"Topic9\", \"Topic9\", \"Topic9\", \"Topic9\", \"Topic9\", \"Topic9\", \"Topic9\", \"Topic9\", \"Topic9\", \"Topic9\", \"Topic9\", \"Topic9\", \"Topic9\", \"Topic9\", \"Topic9\", \"Topic9\", \"Topic9\", \"Topic9\", \"Topic9\", \"Topic9\", \"Topic9\", \"Topic9\", \"Topic9\", \"Topic9\", \"Topic10\", \"Topic10\", \"Topic10\", \"Topic10\", \"Topic10\", \"Topic10\", \"Topic10\", \"Topic10\", \"Topic10\", \"Topic10\", \"Topic10\", \"Topic10\", \"Topic10\", \"Topic10\", \"Topic10\", \"Topic10\", \"Topic10\", \"Topic10\", \"Topic10\", \"Topic10\", \"Topic10\", \"Topic10\", \"Topic10\", \"Topic10\", \"Topic10\", \"Topic10\", \"Topic10\", \"Topic10\", \"Topic10\", \"Topic10\", \"Topic10\", \"Topic10\", \"Topic10\", \"Topic10\", \"Topic10\", \"Topic10\", \"Topic10\", \"Topic10\", \"Topic10\", \"Topic10\", \"Topic10\", \"Topic10\", \"Topic10\", \"Topic10\", \"Topic10\", \"Topic10\", \"Topic10\", \"Topic10\", \"Topic10\", \"Topic11\", \"Topic11\", \"Topic11\", \"Topic11\", \"Topic11\", \"Topic11\", \"Topic11\", \"Topic11\", \"Topic11\", \"Topic11\", \"Topic11\", \"Topic11\", \"Topic11\", \"Topic11\", \"Topic11\", \"Topic11\", \"Topic11\", \"Topic11\", \"Topic11\", \"Topic11\", \"Topic11\", \"Topic11\", \"Topic11\", \"Topic11\", \"Topic11\", \"Topic11\", \"Topic11\", \"Topic11\", \"Topic11\", \"Topic11\", \"Topic11\", \"Topic11\", \"Topic11\", \"Topic11\", \"Topic11\", \"Topic11\", \"Topic11\", \"Topic11\", \"Topic11\", \"Topic11\", \"Topic11\", \"Topic11\", \"Topic11\", \"Topic11\", \"Topic11\", \"Topic11\", \"Topic12\", \"Topic12\", \"Topic12\", \"Topic12\", \"Topic12\", \"Topic12\", \"Topic12\", \"Topic12\", \"Topic12\", \"Topic12\", \"Topic12\", \"Topic12\", \"Topic12\", \"Topic12\", \"Topic12\", \"Topic12\", \"Topic12\", \"Topic12\", \"Topic12\", \"Topic12\", \"Topic12\", \"Topic12\", \"Topic12\", \"Topic12\", \"Topic12\", \"Topic12\", \"Topic12\", \"Topic12\", \"Topic12\", \"Topic12\", \"Topic12\", \"Topic12\", \"Topic12\", \"Topic12\", \"Topic12\", \"Topic12\", \"Topic12\", \"Topic12\", \"Topic12\", \"Topic12\", \"Topic12\", \"Topic12\", \"Topic12\", \"Topic12\", \"Topic12\", \"Topic12\", \"Topic12\", \"Topic13\", \"Topic13\", \"Topic13\", \"Topic13\", \"Topic13\", \"Topic13\", \"Topic13\", \"Topic13\", \"Topic13\", \"Topic13\", \"Topic13\", \"Topic13\", \"Topic13\", \"Topic13\", \"Topic13\", \"Topic13\", \"Topic13\", \"Topic13\", \"Topic13\", \"Topic13\", \"Topic13\", \"Topic13\", \"Topic13\", \"Topic13\", \"Topic13\", \"Topic13\", \"Topic13\", \"Topic13\", \"Topic13\", \"Topic13\", \"Topic13\", \"Topic13\", \"Topic13\", \"Topic13\", \"Topic13\", \"Topic13\", \"Topic13\", \"Topic13\", \"Topic13\", \"Topic13\", \"Topic13\", \"Topic13\", \"Topic13\", \"Topic13\", \"Topic13\", \"Topic13\", \"Topic13\", \"Topic14\", \"Topic14\", \"Topic14\", \"Topic14\", \"Topic14\", \"Topic14\", \"Topic14\", \"Topic14\", \"Topic14\", \"Topic14\", \"Topic14\", \"Topic14\", \"Topic14\", \"Topic14\", \"Topic14\", \"Topic14\", \"Topic14\", \"Topic14\", \"Topic14\", \"Topic14\", \"Topic14\", \"Topic14\", \"Topic14\", \"Topic14\", \"Topic14\", \"Topic14\", \"Topic14\", \"Topic14\", \"Topic14\", \"Topic14\", \"Topic14\", \"Topic14\", \"Topic14\", \"Topic14\", \"Topic14\", \"Topic14\", \"Topic14\", \"Topic14\", \"Topic14\", \"Topic14\", \"Topic14\", \"Topic14\", \"Topic14\", \"Topic14\", \"Topic14\", \"Topic14\", \"Topic14\", \"Topic14\", \"Topic15\", \"Topic15\", \"Topic15\", \"Topic15\", \"Topic15\", \"Topic15\", \"Topic15\", \"Topic15\", \"Topic15\", \"Topic15\", \"Topic15\", \"Topic15\", \"Topic15\", \"Topic15\", \"Topic15\", \"Topic15\", \"Topic15\", \"Topic15\", \"Topic15\", \"Topic15\", \"Topic15\", \"Topic15\", \"Topic15\", \"Topic15\", \"Topic15\", \"Topic15\", \"Topic15\", \"Topic15\", \"Topic15\", \"Topic15\", \"Topic15\", \"Topic15\", \"Topic15\", \"Topic15\", \"Topic15\", \"Topic15\", \"Topic15\", \"Topic15\", \"Topic16\", \"Topic16\", \"Topic16\", \"Topic16\", \"Topic16\", \"Topic16\", \"Topic16\", \"Topic16\", \"Topic16\", \"Topic16\", \"Topic16\", \"Topic16\", \"Topic16\", \"Topic16\", \"Topic16\", \"Topic16\", \"Topic16\", \"Topic16\", \"Topic16\", \"Topic16\", \"Topic16\", \"Topic16\", \"Topic16\", \"Topic16\", \"Topic16\", \"Topic16\", \"Topic16\", \"Topic16\", \"Topic16\", \"Topic16\", \"Topic16\", \"Topic16\", \"Topic16\", \"Topic16\", \"Topic17\", \"Topic17\", \"Topic17\", \"Topic17\", \"Topic17\", \"Topic17\", \"Topic17\", \"Topic17\", \"Topic17\", \"Topic17\", \"Topic17\", \"Topic17\", \"Topic17\", \"Topic17\", \"Topic17\", \"Topic17\", \"Topic17\", \"Topic17\", \"Topic17\", \"Topic17\", \"Topic17\", \"Topic17\", \"Topic17\", \"Topic17\", \"Topic17\", \"Topic17\", \"Topic17\", \"Topic17\", \"Topic17\", \"Topic17\", \"Topic17\", \"Topic17\", \"Topic17\", \"Topic17\", \"Topic17\", \"Topic17\", \"Topic17\", \"Topic17\", \"Topic17\", \"Topic17\", \"Topic17\", \"Topic17\", \"Topic17\", \"Topic18\", \"Topic18\", \"Topic18\", \"Topic18\", \"Topic18\", \"Topic18\", \"Topic18\", \"Topic18\", \"Topic18\", \"Topic18\", \"Topic18\", \"Topic18\", \"Topic18\", \"Topic18\", \"Topic18\", \"Topic18\", \"Topic18\", \"Topic18\", \"Topic18\", \"Topic18\", \"Topic18\", \"Topic18\", \"Topic18\", \"Topic18\", \"Topic18\", \"Topic18\", \"Topic18\", \"Topic18\", \"Topic18\", \"Topic18\", \"Topic18\", \"Topic18\", \"Topic18\", \"Topic18\", \"Topic18\", \"Topic18\", \"Topic18\", \"Topic18\", \"Topic19\", \"Topic19\", \"Topic19\", \"Topic19\", \"Topic19\", \"Topic19\", \"Topic19\", \"Topic19\", \"Topic19\", \"Topic19\", \"Topic19\", \"Topic19\", \"Topic19\", \"Topic19\", \"Topic19\", \"Topic19\", \"Topic19\", \"Topic19\", \"Topic19\", \"Topic19\", \"Topic19\", \"Topic19\", \"Topic19\", \"Topic19\", \"Topic19\", \"Topic19\", \"Topic19\", \"Topic19\", \"Topic19\", \"Topic19\", \"Topic19\", \"Topic19\", \"Topic19\", \"Topic19\", \"Topic19\", \"Topic19\", \"Topic19\", \"Topic20\", \"Topic20\", \"Topic20\", \"Topic20\", \"Topic20\", \"Topic20\", \"Topic20\", \"Topic20\", \"Topic20\", \"Topic20\", \"Topic20\", \"Topic20\", \"Topic20\", \"Topic20\", \"Topic20\", \"Topic20\", \"Topic20\", \"Topic20\", \"Topic20\", \"Topic20\", \"Topic20\", \"Topic20\", \"Topic20\", \"Topic20\", \"Topic20\", \"Topic20\", \"Topic20\", \"Topic20\", \"Topic20\", \"Topic20\", \"Topic20\", \"Topic20\", \"Topic20\", \"Topic20\", \"Topic20\", \"Topic20\", \"Topic20\", \"Topic20\", \"Topic20\", \"Topic20\", \"Topic20\", \"Topic20\", \"Topic20\", \"Topic20\", \"Topic20\", \"Topic20\", \"Topic20\", \"Topic20\", \"Topic20\", \"Topic20\", \"Topic20\", \"Topic20\", \"Topic20\", \"Topic20\", \"Topic20\", \"Topic20\", \"Topic20\", \"Topic20\", \"Topic20\"], \"Term\": [\"peopl\", \"amaz\", \"beer\", \"use\", \"custom\", \"experi\", \"wait\", \"burrito\", \"price\", \"excel\", \"year\", \"husband\", \"absolut\", \"talk\", \"minut\", \"room\", \"reason\", \"alway\", \"fresh\", \"ask\", \"tast\", \"locat\", \"best\", \"breakfast\", \"guy\", \"littl\", \"bar\", \"massag\", \"order\", \"cook\", \"shrimp\", \"rice\", \"lobster\", \"spici\", \"flavour\", \"combo\", \"spice\", \"salsa\", \"falafel\", \"mexican\", \"pud\", \"lamb\", \"oyster\", \"stuf\", \"ravioli\", \"green\", \"lettuc\", \"cucumb\", \"pepper\", \"tortilla\", \"salti\", \"guacamol\", \"cake\", \"grill chees\", \"duck\", \"bread pud\", \"goat chees\", \"goat\", \"mussel\", \"ice tea\", \"homemad\", \"chicken\", \"sauc\", \"seafood\", \"corn\", \"meat\", \"onion\", \"dessert\", \"taco\", \"delici\", \"butter\", \"incred\", \"bread\", \"beef\", \"definit\", \"sweet\", \"lunch\", \"roll\", \"chees\", \"sandwich\", \"grill\", \"chip\", \"fri\", \"fish\", \"salad\", \"fresh\", \"serv\", \"hot\", \"amaz\", \"order\", \"husband\", \"eat\", \"everyth\", \"reserv\", \"mistak\", \"soul\", \"tast menu\", \"pre\", \"sever time\", \"pricey\", \"hole\", \"blanco\", \"bare\", \"explain\", \"excit\", \"vegetarian\", \"music\", \"main\", \"waiter\", \"sent\", \"arriv\", \"touch\", \"pizza\", \"outsid\", \"hit\", \"special\", \"portion\", \"list\", \"brought\", \"love\", \"clearli\", \"prosciutto\", \"mayb\", \"server\", \"differ\", \"tabl\", \"night\", \"menu\", \"seat\", \"pretti\", \"set\", \"wine\", \"noth\", \"option\", \"tast\", \"like\", \"expect\", \"order\", \"check\", \"size\", \"dinner\", \"thing\", \"left\", \"wait\", \"enjoy\", \"bar\", \"littl\", \"hour\", \"friend\", \"review\", \"car\", \"facil\", \"dr\", \"skill\", \"desk\", \"food\", \"head\", \"mainten\", \"pet\", \"onlin\", \"reason price\", \"drove\", \"correct\", \"shop\", \"appoint\", \"carpet\", \"store\", \"speak\", \"rental\", \"job\", \"knew\", \"ladi\", \"money\", \"word\", \"quot\", \"georg\", \"twice\", \"environ\", \"whatev\", \"live\", \"drive\", \"compani\", \"clean\", \"door\", \"reason\", \"price\", \"work\", \"hour\", \"use\", \"experi\", \"mani\", \"profession\", \"phone\", \"second\", \"custom\", \"given\", \"year\", \"definit\", \"know\", \"feel\", \"help\", \"ask\", \"absolut\", \"tri\", \"excel\", \"wow\", \"le\", \"sashimi\", \"prime\", \"pour\", \"dine\", \"japanes\", \"dine experi\", \"groupon\", \"sushi\", \"uniqu\", \"cup\", \"chair\", \"burger\", \"btw\", \"superb\", \"age\", \"enter\", \"insid\", \"doubt\", \"fair\", \"crazi\", \"favourit\", \"bag\", \"dish\", \"mouth\", \"complaint\", \"birthday\", \"larg\", \"welcom\", \"favorit\", \"fri\", \"salad\", \"qualiti\", \"sandwich\", \"best\", \"awesom\", \"expect\", \"flavor\", \"small\", \"everyon\", \"seat\", \"experi\", \"disappoint\", \"lot\", \"price\", \"order\", \"alway\", \"everyth\", \"tabl\", \"come\", \"friend\", \"eat\", \"littl\", \"menu\", \"amaz\", \"mini\", \"wash\", \"charg\", \"cancel\", \"deal\", \"wait minut\", \"hair\", \"stylist\", \"woman\", \"apolog\", \"rare\", \"wors\", \"someon\", \"way\", \"express\", \"yelp\", \"rock\", \"horribl\", \"rest\", \"opinion\", \"number\", \"long wait\", \"gave\", \"els\", \"min\", \"black\", \"place\", \"better\", \"steak\", \"mostli\", \"receiv\", \"minut\", \"ask\", \"start\", \"thought\", \"wait\", \"hard\", \"decid\", \"walk\", \"manag\", \"long\", \"left\", \"told\", \"look\", \"order\", \"took\", \"review\", \"noth\", \"earli\", \"return\", \"check\", \"busi\", \"breakfast\", \"near\", \"gross\", \"colleg\", \"televis\", \"privat\", \"kid\", \"wast\", \"hotel\", \"room\", \"polit\", \"heart\", \"frustrat\", \"face\", \"coffe\", \"suppos\", \"free\", \"park\", \"spaciou\", \"cute\", \"pound\", \"hello\", \"bacon\", \"sound\", \"attend\", \"non\", \"pro\", \"donut\", \"stand\", \"conveni\", \"egg\", \"serv\", \"toronto\", \"locat\", \"point\", \"bad\", \"know\", \"stop\", \"eat\", \"meal\", \"peopl\", \"sure\", \"hot\", \"friendli\", \"enjoy\", \"help\", \"anoth\", \"ask\", \"drink\", \"tabl\", \"night\", \"pay\", \"old\", \"studio\", \"super friendli\", \"fruit\", \"bakeri\", \"wide\", \"pastri\", \"cooki\", \"bang\", \"chocol\", \"world\", \"pair\", \"super\", \"alway fresh\", \"tart\", \"healthi\", \"tradit\", \"highli\", \"varieti\", \"def\", \"lemon\", \"produc\", \"suggest\", \"typic\", \"latt\", \"normal\", \"fear\", \"event\", \"region\", \"fresh\", \"cafe\", \"veggi\", \"visit\", \"wine\", \"tast\", \"mean\", \"spot\", \"fantast\", \"busi\", \"select\", \"friendli\", \"today\", \"away\", \"amaz\", \"littl\", \"wonder\", \"look\", \"special\", \"sit\", \"open\", \"delici\", \"lot\", \"instal\", \"fit\", \"repair\", \"equip\", \"inform\", \"ga\", \"pipe\", \"health\", \"gym\", \"class\", \"nyc\", \"day later\", \"record\", \"result\", \"feel welcom\", \"year old\", \"forward\", \"real\", \"look forward\", \"research\", \"unit\", \"state\", \"schedul\", \"damag\", \"children\", \"kept\", \"ridicul\", \"agre\", \"discuss\", \"run\", \"day\", \"gone\", \"old\", \"later\", \"stop\", \"anoth\", \"look\", \"kind\", \"feel\", \"use\", \"excel\", \"cours\", \"care\", \"sign\", \"hour\", \"told\", \"half\", \"la vega\", \"la\", \"cashier\", \"rang\", \"accept\", \"jack\", \"ingredi\", \"courteou\", \"continu\", \"known\", \"star\", \"stock\", \"american\", \"attitud\", \"crew\", \"unless\", \"cloth\", \"custom\", \"crap\", \"casino\", \"loyal\", \"card\", \"shooter\", \"fanci\", \"organ\", \"credit\", \"establish\", \"wifi\", \"line\", \"vega\", \"purchas\", \"turn\", \"paid\", \"terribl\", \"famili\", \"busi\", \"point\", \"best\", \"year\", \"clean\", \"pizza\", \"told\", \"portion\", \"alway\", \"away\", \"employe\", \"friendli\", \"qualiti\", \"dollar\", \"paint\", \"code\", \"effici\", \"listen\", \"haircut\", \"aggress\", \"bu\", \"alway friendli\", \"club\", \"buy\", \"steve\", \"michael\", \"bewar\", \"multipl\", \"immedi\", \"posit\", \"avail\", \"quick\", \"respons\", \"readi\", \"sale\", \"desert\", \"sometim\", \"friday\", \"sort\", \"surpris\", \"salon\", \"bought\", \"ball\", \"singl\", \"phone\", \"alway\", \"cut\", \"profession\", \"treat\", \"extrem\", \"someth\", \"sever\", \"return\", \"thing\", \"peopl\", \"year\", \"manag\", \"owner\", \"friendli\", \"person\", \"use\", \"guy\", \"right\", \"burrito\", \"wrap\", \"garden\", \"pad\", \"thai\", \"shut\", \"major\", \"basic\", \"sinc open\", \"pass\", \"bother\", \"biggest\", \"vegan\", \"photo\", \"feet\", \"long term\", \"owner manag\", \"term\", \"chang\", \"pain\", \"chipotl\", \"curri\", \"juici\", \"fat\", \"sad\", \"owner\", \"mention\", \"total\", \"ad\", \"interior\", \"season\", \"decent\", \"sinc\", \"kitchen\", \"open\", \"locat\", \"order\", \"visit\", \"lunch\", \"option\", \"big\", \"dinner\", \"manag\", \"someth\", \"alway\", \"everi\", \"brunch\", \"arugula\", \"happi hour\", \"craft\", \"beer\", \"ahi\", \"section\", \"ahi tuna\", \"upstair\", \"classi\", \"saturday night\", \"ok\", \"tuna\", \"weekend\", \"tap\", \"memor\", \"meh\", \"ran\", \"game\", \"beer tap\", \"saturday\", \"deep\", \"wednesday\", \"count\", \"fairli\", \"level\", \"color\", \"skewer\", \"cocktail\", \"dress\", \"outstand\", \"bar\", \"app\", \"night\", \"light\", \"select\", \"hous\", \"appet\", \"happi\", \"alway\", \"friend\", \"salad\", \"end\", \"atmospher\", \"bad\", \"dinner\", \"menu\", \"pork\", \"perfect\", \"pull pork\", \"cook perfect\", \"halibut\", \"honestli\", \"appl\", \"soup\", \"safe\", \"spring\", \"pull\", \"cook\", \"iron\", \"plate\", \"gem\", \"entre\", \"beat\", \"parmesan\", \"die\", \"wife\", \"mac chees\", \"mushroom\", \"pasta\", \"mac\", \"filet\", \"meet\", \"far\", \"tasti\", \"daughter\", \"creami\", \"finish\", \"steak\", \"fish\", \"close\", \"chef\", \"eat\", \"wonder\", \"best\", \"right\", \"hope\", \"excel\", \"talk\", \"menu\", \"home\", \"dinner\", \"enjoy\", \"sauc\", \"shot\", \"valu\", \"child\", \"buck\", \"luci\", \"hey\", \"em\", \"pleas\", \"print\", \"martini\", \"pretti decent\", \"stuff\", \"wan\", \"na\", \"wan na\", \"shell\", \"cater\", \"overal experi\", \"drop\", \"design\", \"bud\", \"provid\", \"accommod\", \"pub\", \"soft\", \"neg\", \"build\", \"consid\", \"request\", \"step\", \"overal\", \"wife\", \"date\", \"need\", \"wednesday\", \"pretti\", \"hold\", \"birthday\", \"littl\", \"visit\", \"care\", \"abl\", \"attent\", \"parti\", \"size\", \"like\", \"experi\", \"thing\", \"hollywood\", \"cover\", \"wed\", \"helen\", \"lisa\", \"upgrad\", \"helen team\", \"allig\", \"allig soup\", \"invit\", \"planet\", \"mile\", \"team\", \"bodi\", \"boyfriend\", \"beauti\", \"bed\", \"dirti\", \"corpor\", \"spent\", \"whenev\", \"poorli\", \"cater\", \"save\", \"photo\", \"past\", \"casino\", \"mall\", \"fat\", \"center\", \"excel\", \"soup\", \"finish\", \"experi\", \"old\", \"date\", \"start\", \"wonder\", \"massag\", \"absolut amaz\", \"yesterday\", \"tourist\", \"seriou\", \"believ\", \"relax\", \"foot\", \"shooter\", \"cheaper\", \"absolut\", \"expens\", \"organ\", \"complet\", \"reason\", \"compar\", \"rais\", \"amaz\", \"use\", \"view\", \"outstand\", \"atmospher\", \"includ\", \"favorit\", \"high\", \"toast\", \"french\", \"price\", \"make\", \"come\", \"hot\", \"littl\", \"area\", \"sinc\", \"fix\", \"apart\", \"tire\", \"dog\", \"complex\", \"train\", \"flat\", \"everywher\", \"chili\", \"despit\", \"long wait\", \"alon\", \"sad\", \"yell\", \"otherwis\", \"pm\", \"away\", \"send\", \"home\", \"horribl\", \"offic\", \"complain\", \"singl\", \"futur\", \"carpet\", \"happen\", \"notic\", \"purchas\", \"plu\", \"saw\", \"walk\", \"second\", \"guy\", \"long\", \"wait\", \"today\", \"gave\", \"phone\", \"worth\", \"set\", \"sinc\", \"chang\", \"custom\", \"doctor\", \"walgreen\", \"prescript\", \"offic\", \"insult\", \"say\", \"certain\", \"corpor offic\", \"possibl\", \"remind\", \"liter\", \"begin\", \"treatment\", \"famili\", \"loyal\", \"district\", \"women\", \"corpor\", \"rude\", \"god\", \"play\", \"stock\", \"question\", \"year\", \"usual\", \"wrong\", \"understand\", \"extrem\", \"overal\", \"differ\", \"know\", \"locat\", \"ask\", \"return\", \"feel\", \"think\", \"thing\", \"someon\", \"answer\", \"patron\", \"talk\", \"hold\", \"say\", \"peopl\", \"girl\", \"counter\", \"bewar\", \"coupon\", \"husband\", \"anytim\", \"otherwis\", \"bought\", \"cup\", \"guy\", \"bag\", \"pick\", \"improv\", \"class\", \"minut\", \"window\", \"thing\", \"enter\", \"upset\", \"shock\", \"damag\", \"fear\", \"drove\", \"hour minut\", \"year\", \"owner\", \"second\", \"experi\", \"dine\", \"expect\", \"tabl\", \"enter\", \"upset\", \"shock\", \"damag\", \"fear\", \"drove\", \"hour minut\", \"warn\", \"noodl\", \"avocado\", \"brown\", \"japanes\", \"coleslaw\", \"mix\", \"friendli knowledg\", \"explain\", \"hello\", \"correct\", \"classi\", \"sooner\", \"biggest\", \"bare\", \"mac chees\", \"jack\", \"fairli\", \"smoke\", \"truffl\", \"ice tea\", \"pound\", \"rental\", \"sign\", \"menu\", \"bar\", \"option\", \"chang\", \"plu\", \"littl\", \"vegan\", \"cost\", \"order\", \"job\", \"page\", \"interior\", \"complet\", \"took\", \"ad\", \"look\", \"dessert\", \"finish\", \"like\", \"abl\", \"group\", \"server\", \"wine\", \"crispi\", \"pleasant\", \"comment\", \"tip\", \"chef\"], \"loglift\": [30.0, 29.0, 28.0, 27.0, 26.0, 25.0, 24.0, 23.0, 22.0, 21.0, 20.0, 19.0, 18.0, 17.0, 16.0, 15.0, 14.0, 13.0, 12.0, 11.0, 10.0, 9.0, 8.0, 7.0, 6.0, 5.0, 4.0, 3.0, 2.0, 1.0, 2.0006, 1.9969, 1.9944, 1.9936, 1.9908, 1.9853, 1.9828, 1.9828, 1.9821, 1.9812, 1.9804, 1.9801, 1.9757, 1.9756, 1.9755, 1.9745, 1.9743, 1.9714, 1.971, 1.9685, 1.9677, 1.9654, 1.9643, 1.9635, 1.9622, 1.9619, 1.9607, 1.9607, 1.9601, 1.9591, 1.9544, 1.8641, 1.864, 1.8789, 1.895, 1.7905, 1.8731, 1.8161, 1.8399, 1.6811, 1.8073, 1.6846, 1.5935, 1.7003, 1.309, 1.5376, 1.5013, 1.5854, 1.4233, 1.3266, 1.5775, 1.686, 1.1706, 1.3691, 0.9886, 0.9911, 1.0542, 1.2648, 0.6161, 0.3213, 1.2854, 0.6284, 0.8699, 2.1389, 2.135, 2.1274, 2.1188, 2.114, 2.114, 2.1126, 2.111, 2.1104, 2.1088, 2.108, 2.0222, 1.9387, 1.9078, 1.9054, 1.8777, 1.8649, 1.8383, 1.8285, 1.8185, 1.7728, 1.7727, 1.7566, 1.749, 1.7465, 1.7447, 1.7202, 1.7184, 1.7112, 1.6815, 1.6747, 1.5958, 1.4761, 1.483, 1.3946, 1.4537, 1.4263, 1.6428, 1.4868, 1.4117, 1.478, 1.1949, 1.4459, 1.3388, 0.9226, 1.321, 1.575, 1.185, 1.0415, 1.3901, 0.6562, 1.0418, 0.8925, 0.5678, 0.869, 0.8503, 1.0476, 2.1803, 2.1732, 2.1725, 2.1718, 2.1712, 2.1695, 2.169, 2.1664, 2.1663, 2.1632, 2.1522, 2.1482, 2.132, 2.0812, 2.0728, 2.0363, 2.0138, 1.9987, 1.9885, 1.9764, 1.9704, 1.9699, 1.948, 1.9246, 1.9164, 1.8938, 1.8889, 1.8645, 1.8498, 1.835, 1.8193, 1.7552, 1.6752, 1.6741, 1.5588, 1.4265, 1.5264, 1.3818, 1.2397, 1.0528, 1.3304, 1.4639, 1.4026, 1.4509, 0.756, 1.7234, 0.8086, 0.7718, 0.7736, 0.9051, 0.9508, 0.5282, 1.0336, 0.7094, 0.6559, 2.2578, 2.2552, 2.2531, 2.2506, 2.2389, 2.2355, 2.2348, 2.1602, 2.1386, 2.1101, 2.0753, 2.0682, 2.0231, 2.0153, 1.995, 1.989, 1.9779, 1.9546, 1.9461, 1.9457, 1.8821, 1.8803, 1.8673, 1.852, 1.847, 1.8467, 1.8038, 1.7788, 1.7762, 1.7674, 1.7325, 1.6119, 1.5741, 1.6548, 1.5752, 1.425, 1.514, 1.52, 1.6018, 1.4957, 1.5892, 1.3501, 1.0816, 1.3688, 1.1809, 1.1106, 0.7511, 0.8861, 1.1172, 0.7755, 1.0643, 0.9816, 0.716, 0.6055, 0.627, 0.4935, 2.4389, 2.3749, 2.3621, 2.3498, 2.2996, 2.2882, 2.2777, 2.2344, 2.208, 2.199, 2.1719, 2.1203, 2.1125, 2.0829, 2.0782, 2.0684, 2.0551, 2.0457, 2.0396, 2.0249, 1.9961, 1.9213, 1.9201, 1.8974, 1.8872, 1.8852, 1.8798, 1.8656, 1.8554, 1.853, 1.8446, 1.7734, 1.713, 1.7764, 1.7887, 1.516, 1.8051, 1.7585, 1.5019, 1.4886, 1.4792, 1.5854, 1.2783, 1.0253, 0.836, 1.3635, 1.2395, 1.2487, 1.7019, 1.2037, 1.0561, 0.6386, 2.7001, 2.6701, 2.6677, 2.6613, 2.6584, 2.655, 2.6378, 2.5744, 2.5653, 2.5473, 2.4182, 2.4144, 2.4102, 2.4058, 2.3116, 2.2743, 2.2698, 2.2533, 2.2358, 2.2346, 2.2337, 2.2173, 2.2084, 2.2022, 2.1949, 2.1807, 2.1515, 2.14, 2.1326, 2.1046, 2.0993, 1.8925, 1.9705, 1.7173, 1.7909, 1.6876, 1.5136, 1.6226, 1.283, 1.3697, 1.0896, 1.3098, 1.4343, 0.773, 1.1415, 1.172, 1.2538, 0.6346, 1.3219, 0.3895, 0.6533, 1.2406, 1.3699, 2.8259, 2.8208, 2.8173, 2.8139, 2.8078, 2.8063, 2.7982, 2.7979, 2.7977, 2.6718, 2.6492, 2.6128, 2.5576, 2.5334, 2.4795, 2.4517, 2.431, 2.4181, 2.3948, 2.3569, 2.2899, 2.2874, 2.2809, 2.2791, 2.2713, 2.2618, 2.2381, 2.1832, 2.1574, 2.1365, 2.1111, 2.0192, 2.0206, 1.9555, 2.0493, 1.7919, 1.9188, 1.5512, 1.7928, 1.2778, 1.843, 1.6749, 1.0916, 1.0311, 1.384, 0.8561, 1.3176, 1.3836, 1.295, 0.8393, 0.8891, 3.1063, 3.1043, 3.0916, 3.0851, 3.0816, 3.0791, 3.0752, 3.0701, 3.068, 3.0334, 2.9919, 2.9858, 2.9321, 2.8767, 2.7493, 2.7472, 2.7276, 2.7251, 2.7082, 2.6569, 2.621, 2.6043, 2.5614, 2.4977, 2.4207, 2.3555, 2.3489, 2.3461, 2.3193, 2.3193, 2.3088, 2.2681, 2.1371, 2.2298, 2.0199, 2.0069, 1.76, 2.0162, 1.6758, 1.3158, 1.4542, 1.8699, 1.5636, 1.9194, 1.1905, 1.0999, 3.1101, 3.108, 3.108, 3.1029, 3.0971, 3.0845, 3.0593, 2.9748, 2.8412, 2.8091, 2.7942, 2.7891, 2.7834, 2.7706, 2.723, 2.7132, 2.7065, 2.705, 2.6695, 2.6692, 2.6605, 2.6253, 2.5645, 2.5323, 2.4718, 2.4621, 2.4592, 2.4529, 2.4515, 2.4476, 2.4369, 2.4099, 2.3347, 2.3907, 2.1683, 2.0597, 1.6722, 1.9781, 1.3931, 1.5455, 1.6014, 1.5711, 1.4071, 2.0132, 1.0457, 1.6698, 2.1368, 0.6571, 1.4299, 2.0407, 3.1235, 3.112, 3.1057, 3.1055, 3.1002, 3.0997, 3.0052, 2.9824, 2.9771, 2.9152, 2.9096, 2.8526, 2.7401, 2.6364, 2.5902, 2.567, 2.5055, 2.4973, 2.4889, 2.4864, 2.4731, 2.4676, 2.4329, 2.4293, 2.4064, 2.3932, 2.3774, 2.3505, 2.3452, 2.316, 2.2336, 1.9657, 2.1657, 2.0527, 2.0875, 2.1214, 1.8806, 2.0065, 1.7779, 1.5367, 1.3293, 1.4494, 1.6066, 1.6954, 0.8055, 1.6173, 0.9204, 1.4469, 1.109, 3.2707, 3.2458, 3.2308, 3.2287, 3.1427, 3.1265, 3.0763, 3.0075, 2.9633, 2.9346, 2.933, 2.8793, 2.8477, 2.8101, 2.7636, 2.727, 2.6985, 2.6973, 2.6611, 2.5411, 2.5271, 2.5186, 2.4869, 2.473, 2.4701, 2.4433, 2.4354, 2.3726, 2.3608, 2.3596, 2.3269, 2.2208, 2.0623, 2.1609, 1.7721, 1.4253, 0.98, 1.4502, 1.6926, 1.6447, 1.4384, 1.0804, 1.3153, 1.4679, 0.4861, 1.1048, 3.2947, 3.2842, 3.2841, 3.2839, 3.282, 3.2789, 3.278, 3.2722, 3.268, 3.266, 3.2484, 3.1457, 2.9861, 2.9251, 2.8811, 2.8779, 2.8777, 2.8541, 2.8017, 2.794, 2.791, 2.7347, 2.7346, 2.7264, 2.7021, 2.6485, 2.6319, 2.5612, 2.4993, 2.4961, 2.495, 2.2631, 2.4241, 1.7468, 2.0969, 1.9055, 1.8546, 2.2232, 1.7193, 1.1314, 1.4597, 1.2638, 1.5351, 1.5786, 1.4322, 1.0689, 0.6983, 3.3461, 3.3284, 3.3225, 3.3151, 3.2025, 3.191, 3.1555, 3.1156, 3.1137, 3.0592, 3.0092, 2.9684, 2.9581, 2.9285, 2.9185, 2.9149, 2.8733, 2.8274, 2.7821, 2.7446, 2.7123, 2.6156, 2.6038, 2.602, 2.5726, 2.5472, 2.537, 2.5023, 2.4695, 2.4524, 2.437, 2.3638, 2.3559, 2.3884, 2.2737, 1.6199, 1.8146, 1.389, 1.5369, 2.1441, 1.4159, 1.9599, 1.1705, 1.565, 1.3171, 1.414, 1.3355, 3.3838, 3.3759, 3.3704, 3.3521, 3.2698, 3.2515, 3.224, 3.2148, 3.2137, 3.1808, 3.0762, 3.0305, 2.9167, 2.9167, 2.9167, 2.8811, 2.8694, 2.8115, 2.8091, 2.8031, 2.7992, 2.79, 2.7067, 2.7045, 2.6818, 2.6772, 2.6749, 2.662, 2.6195, 2.5969, 2.5848, 2.5863, 2.54, 2.397, 2.5483, 1.9584, 2.3737, 2.4438, 1.5092, 1.7679, 1.7882, 2.0843, 2.1372, 2.353, 2.1035, 1.65, 0.6412, 1.0168, 4.1431, 4.1372, 4.1343, 4.1295, 4.1258, 4.1249, 4.1241, 4.1241, 4.1241, 4.1235, 4.0273, 3.8737, 3.6944, 3.6781, 3.5885, 3.5458, 3.5189, 3.4856, 3.3278, 3.2855, 3.2681, 3.2462, 3.1801, 3.1342, 3.1175, 3.0891, 3.0863, 3.0756, 3.0475, 2.9713, 2.6367, 2.596, 2.6552, 2.2003, 2.3045, 2.5382, 1.8934, 1.6539, 4.3186, 4.3037, 4.2916, 4.2782, 3.9552, 3.7631, 3.6485, 3.4917, 3.4374, 3.318, 3.1955, 3.1687, 3.129, 3.1207, 3.1076, 2.9713, 2.9053, 2.8562, 2.7572, 2.6928, 2.627, 2.5818, 2.454, 2.4344, 2.3377, 2.3169, 2.2908, 2.2807, 2.2646, 2.1619, 1.9483, 1.5195, 1.7207, 1.4176, 4.383, 4.3631, 4.3621, 4.3128, 4.295, 4.1319, 3.8061, 3.625, 3.5901, 3.4784, 3.448, 3.1812, 3.1172, 3.1036, 2.9446, 2.846, 2.7987, 2.7252, 2.6762, 2.6572, 2.6148, 2.6032, 2.5192, 2.5159, 2.4224, 2.3762, 2.3599, 2.3322, 2.2813, 2.2255, 2.1753, 2.177, 2.1336, 2.1325, 1.8991, 2.1159, 2.1234, 1.9258, 1.8491, 2.0656, 1.4295, 1.7582, 0.7597, 4.4471, 4.4366, 4.4225, 4.1449, 4.0156, 3.9274, 3.8838, 3.8771, 3.7475, 3.7005, 3.5839, 3.5354, 3.4972, 3.4249, 3.4116, 3.3533, 3.3275, 3.3113, 3.3025, 3.2329, 3.164, 3.1111, 3.0932, 2.5734, 2.2955, 2.2826, 2.2687, 2.1213, 2.0075, 1.9891, 1.8138, 1.7507, 1.5148, 1.8346, 1.4504, 1.3413, 1.0878, 1.8366, 4.9207, 4.5144, 4.3621, 4.345, 3.6585, 3.4601, 3.3838, 3.1876, 3.182, 3.164, 3.1103, 3.0595, 2.9167, 2.8287, 2.7591, 2.685, 2.5652, 2.5028, 2.3729, 2.258, 2.1987, 2.1932, 1.3789, -0.3142, -0.334, -0.3453, -0.3494, -0.3534, -0.3564, -0.3568, -2.8185, -2.1913, -2.0001, -3.2624, -2.2232, -2.445, -3.2193, 1.2332, 1.2134, 1.202, 1.1979, 1.1939, 1.1909, 1.1905, 1.1889, 1.1874, 1.1865, 1.184, 1.1808, 1.1781, 1.1744, 1.1732, 1.1723, 1.1674, 1.1659, 1.1613, 1.1612, 1.1585, 1.1575, 1.1562, 1.1554, 1.1494, 1.149, 1.1469, 1.1467, 1.1451, 1.1445, -0.3947, -1.5213, -1.2363, -0.6482, -0.5322, 0.6329, -1.5597, 0.1023, -0.045, -1.9328, -0.5331, 0.7031, 0.8203, -0.1131, -0.8314, 0.2495, -1.6441, -0.4013, -0.4543, -0.6678, -0.4475, 0.0175, -1.1244, -0.8633, 0.6266, 0.7136, 0.6786, 0.1085, -0.0796], \"Freq\": [302.0, 330.0, 248.0, 275.0, 294.0, 352.0, 354.0, 171.0, 227.0, 217.0, 226.0, 125.0, 149.0, 96.0, 174.0, 198.0, 144.0, 337.0, 243.0, 289.0, 262.0, 268.0, 337.0, 152.0, 146.0, 301.0, 218.0, 86.0, 438.0, 140.0, 95.75426926571988, 70.7683258642248, 60.151993979995964, 57.45246090427935, 49.62293726407422, 38.995863188889615, 35.439127633346175, 35.410167399660175, 34.61993032204122, 33.59362699101616, 32.63683899030302, 32.33895380831391, 28.27046664760235, 28.20281637564313, 28.11943989422325, 27.333121250151333, 27.22269967347184, 25.189539044846683, 24.90390609179391, 23.458620489714114, 22.989617158443195, 21.82058598797996, 21.292720980480787, 20.9584076410464, 20.3855850147581, 20.264967132420058, 19.765422018367115, 19.765420652384687, 19.520750248841626, 19.134078395585192, 28.865305004135262, 215.28378952181964, 172.94474439422842, 64.22808836237111, 43.76619608336086, 114.54553704523825, 47.84786387901404, 77.97404480196299, 62.816207725612315, 169.69377932846012, 62.73212756105337, 74.13501556020198, 93.56330434931355, 55.29746255589461, 115.95422936971524, 69.4858117512724, 73.04910363716382, 60.13566416138998, 81.19618617676286, 82.3440151098582, 57.26380332395547, 48.4157612965674, 87.56204321613376, 64.48143333245955, 89.90904780575316, 87.8803153029463, 82.87341028921271, 61.89989098570542, 81.9187065993491, 80.89852608262868, 60.91949967905999, 66.25415597056129, 63.8079157314922, 44.743809512739254, 38.20344443245649, 29.51012562011293, 23.493356780552805, 21.04786239355298, 21.038048448340607, 20.445040012730754, 19.773895201114136, 19.78077567809827, 18.91637874148809, 18.623449668069455, 27.472170645571012, 19.106267227062922, 53.092541767356714, 29.16300524952824, 28.42530623157607, 24.155438954696034, 87.12277162372956, 21.867295567237022, 129.40695516849328, 28.52792316562501, 23.794331933442788, 114.32625339910463, 55.05967112806512, 32.9794700353302, 50.04940044534229, 66.79171163683533, 20.927139902507665, 19.017465597036793, 51.481027151603136, 120.05124024553726, 106.84105775523865, 170.17112706202414, 125.91210024557093, 134.9298600112687, 96.0131626850839, 94.85557940061368, 48.646588046474534, 76.6249920183355, 69.80422932756272, 61.25090823211131, 99.67142652741707, 60.4885269343623, 68.38875523215673, 127.00764409532451, 69.63018576063097, 47.22179116587181, 81.21022506246345, 73.31359874813045, 51.273720374842654, 78.57673452984244, 62.2348051363574, 61.41302036106029, 61.33491705393484, 56.28659724240929, 54.19553101640297, 52.49176888520474, 44.923151759890466, 34.06988894380762, 33.2132155684503, 32.52135088075296, 40.468591951980336, 30.25960459135547, 29.73229409098954, 27.6214973905621, 27.520268886171976, 25.35056242996531, 19.75770976520813, 18.259540325449564, 18.421167688948653, 118.17449775532222, 38.1946650221585, 56.78158181155773, 147.81684823378177, 29.029581702956598, 16.303129016347086, 86.21993024517445, 38.12946893246701, 43.68826063981231, 62.86633359498691, 17.30985784811543, 35.907103500670495, 26.46195418707983, 44.054022731461075, 24.725220821955908, 16.419378869896462, 82.94146089290378, 44.5440916899627, 74.55145266361265, 106.43401015891911, 52.41683196949192, 75.94190267689609, 104.72003671199647, 69.86617899130654, 90.19353320699558, 105.24664825178692, 111.65356183593636, 75.30210002770283, 51.221456374795586, 51.76970376151121, 47.059792480960844, 69.23893905432305, 39.78151766511825, 56.17484030313124, 55.94777940089, 53.341099997699736, 51.01477714272164, 50.12981673171983, 54.329085527231754, 46.58099012506076, 46.92378108095793, 46.27335864553715, 32.49794277455477, 29.929551543052945, 28.111083260448783, 29.59048105312565, 20.004285494882495, 118.25038457939323, 18.457927913672883, 38.221226622106904, 22.209914886450473, 37.334216487242806, 41.19256390531386, 25.79044809158965, 58.7742226016449, 111.44314554140989, 19.668901453150607, 21.52253640386173, 26.86081445666829, 13.235242798334472, 66.14683778058945, 24.670283834034596, 28.94541941506913, 15.095928101190797, 27.46465270004674, 25.22092026714326, 44.18697627469729, 25.071798174051796, 31.078628260991337, 35.3963903554364, 65.14216595852386, 38.021356399372394, 74.15812838222719, 103.13259537427159, 122.3268812840794, 73.25695430973377, 79.99071047848628, 142.44802490020055, 75.94594318093203, 72.17172072461585, 56.94708309765431, 67.52777290695617, 53.11903349106464, 76.21355771600975, 105.4533010197492, 59.10900835131796, 72.28589607498553, 70.06479321467914, 94.19892423540476, 83.06983540470102, 61.90324446849914, 74.35723413909137, 58.05628840718761, 54.40828060544398, 54.786895452492494, 56.0731394083023, 55.135697135984195, 54.90264607168449, 20.416225816710266, 24.60156488439174, 77.90438712409221, 26.513279884655535, 52.15839174864569, 27.382515214180348, 72.68779836856102, 33.18057594598099, 28.50156472117442, 18.047348604213163, 15.94945076860219, 19.772291379613087, 70.27257743608584, 114.54432540170096, 20.986682101131255, 24.032049014440094, 14.98661498810035, 26.65323231935271, 25.951261547468516, 19.078985228099416, 18.316356056045482, 12.720104284227036, 48.49880245417029, 44.02864168459518, 26.57494418039612, 29.920214513494386, 66.51258529583663, 102.87592148560151, 67.64191340849418, 16.362305731585693, 50.136801931434555, 85.32230101945383, 133.59897754868678, 64.62468983366531, 57.305055044347135, 133.9437083286116, 37.863137016629864, 42.99065289996841, 61.121655336524974, 57.059104375842445, 53.62396207378067, 44.97611361041235, 59.76149165360121, 76.07878065226917, 84.03328578068235, 47.33346526728949, 45.88348977392891, 42.789092569749535, 34.390455707209746, 39.37551764793402, 38.54675869282135, 38.537852475109496, 151.78840443570647, 27.3666479232177, 27.680276272014737, 22.3330239136012, 20.66151493965888, 19.251759940821334, 56.65281254912756, 27.042617470409585, 109.56675236017766, 169.33030389992354, 24.624619278104444, 23.78498947799716, 15.737657515601459, 16.1177141345038, 105.63700242533804, 17.105180385684534, 28.365851781097916, 71.41752125185957, 12.930070827091383, 27.640036907297212, 12.580770454269599, 12.101950868049853, 13.53979333224727, 13.120286561072353, 12.533685133354359, 19.247732238968116, 17.740115989089716, 35.40291619844049, 16.56972814146715, 19.15438235194418, 29.15356777171705, 95.59048462743169, 34.98352092513338, 99.84010996226432, 41.71059771072526, 53.23491545428073, 67.5460043537589, 49.21671258601337, 63.59425715950417, 48.46917942418143, 60.01653090558045, 46.83560547822672, 36.578500275467974, 51.16471479544032, 39.858402565905, 37.78276207823539, 33.39130780706662, 36.51079921320739, 31.389494343460818, 33.27842417002331, 31.83643608103891, 30.449300703615993, 29.283662194013772, 48.41478804088072, 38.80588744708276, 35.36894568130273, 30.625524979952704, 25.71264128006487, 24.746380960395097, 20.57600172849998, 20.432652117047926, 22.70804418806088, 43.62452981461954, 24.78444292367531, 104.24686533127849, 17.36693015421755, 16.593231156419083, 23.320827070171205, 29.39533024502361, 80.8069913992313, 45.128498612627254, 23.274513583552213, 13.766345455127675, 14.35153971665654, 20.212447209340432, 16.758337601489842, 21.219415960517086, 25.762344451782152, 10.712059370588394, 32.52842010825989, 10.971579724659243, 122.31982398528449, 23.54513543903577, 30.523453744082993, 79.67775185423689, 65.85021923760078, 107.46467903279321, 33.58583266060253, 57.017355353997374, 39.290563724604155, 67.03862080781029, 43.642149364985634, 73.68338163366693, 35.75433409329369, 38.93573768394876, 57.14783084723687, 49.12245158514157, 40.404114591826136, 44.86697110383642, 37.140676178705895, 34.88329526945629, 32.60667566217163, 31.709396376321788, 30.904046526074225, 82.90610381842662, 71.30100598897384, 37.50498658403308, 30.118872936375034, 27.17701007264622, 25.45124165235574, 23.10934803392875, 20.629343644498338, 19.74787610132022, 99.51708243191577, 28.160511082385714, 20.624917022806176, 19.05084628188423, 46.501624119429856, 15.151685928494192, 22.484069065711335, 31.95548810663159, 39.22023868160237, 30.138615783534092, 15.770479867539255, 26.035553553027967, 15.34170224410752, 25.636753379090276, 10.293015048487717, 13.192048749839348, 30.570469044617486, 16.866687534765365, 13.332078167813233, 11.425783548892142, 34.55886252765882, 43.38682332633748, 23.74502475762449, 41.78102098862444, 27.088353866179, 48.50738984985406, 46.97751168357796, 84.4206397912775, 33.982127288337374, 44.13118141707363, 45.45749517719006, 41.145520412562476, 31.873932067760723, 34.41795977694339, 28.385270386485477, 29.81243949863562, 26.611084932516416, 44.3597950524733, 40.42553359522764, 40.4255325189206, 33.49359816365046, 28.0487661900191, 20.607987148936388, 18.563184691721947, 40.04231095865616, 18.639819310233566, 31.30929755294648, 30.944694704947544, 70.78540317129082, 19.312652309931067, 20.087541175035653, 16.517233074498545, 18.101593816514846, 22.513004747271317, 19.602678472747257, 185.10904791133444, 13.181751372441955, 16.826137507967353, 12.284997879695, 22.272901912208823, 11.610992303728521, 14.320905863995723, 19.470105725963272, 13.522217271889678, 10.689998185764495, 10.401075844949503, 43.70686401768941, 60.30402764624885, 24.285841097811907, 34.88684713056916, 20.700130486792354, 30.38170782711369, 35.25672855335753, 56.83868149051037, 32.84276123881713, 59.325713740816404, 46.30632332857247, 39.00413103954308, 38.25056541526068, 35.66539238146651, 27.14476394729049, 41.895204044213976, 29.09988892340575, 24.743390356745792, 29.75496123855743, 25.15294186081117, 23.1455441386827, 38.661681196772264, 26.742297016741006, 22.81979728070172, 22.74688618417531, 20.246895988209523, 20.04103092837579, 25.53152604589377, 24.167921591472762, 35.05564767871104, 51.78168254724484, 25.735118670336373, 19.50519881969835, 13.987446324869445, 18.51523543467194, 34.61833810352025, 16.630665601798636, 30.64500655863186, 39.179156548122, 13.309793650557403, 25.060352954867298, 23.014103980381783, 15.895057372871925, 23.504764490023117, 16.729810718676166, 12.28124902953303, 35.41239905884139, 13.441032340389743, 13.377056076646092, 13.65324214532511, 13.20162734365037, 46.10610171310625, 103.38666083595605, 25.85311257315675, 35.80959151592925, 29.65680399505101, 26.924678730438234, 34.978863667745514, 29.43514156858913, 36.07459634073721, 44.78098570534172, 48.98045980760251, 41.36591994550038, 33.12718494025033, 28.237207026189715, 33.94059379668852, 27.36730417947669, 29.673460138214022, 26.701751004385653, 26.647190475712847, 170.162888368311, 32.57728720338542, 21.766330350344994, 20.81866587006973, 38.9075732082368, 20.898863470319213, 21.47961130021815, 19.826746240589962, 15.474598687491714, 14.59177857031163, 29.21256017315188, 13.388229755948853, 37.301632367486185, 28.27768879315207, 15.622847779693798, 17.85456328372634, 13.69130998851196, 24.883761977618104, 58.37528866017192, 12.323831718098662, 10.465727458207688, 15.700997543397722, 14.971733842307344, 14.336702114710993, 9.961889613915869, 52.54083202872831, 10.64438783563389, 37.124667155317916, 19.78543711001767, 11.166090192482242, 22.12132755273297, 34.37329235907792, 49.55600122412858, 30.808995091153065, 34.18831985338898, 42.1733652180189, 44.10093861074454, 29.348184093299412, 24.95377796331088, 23.724894570210687, 22.41012140931784, 23.98308327733766, 21.804108382882045, 20.391594401017986, 20.7373668380915, 20.120244349165745, 41.720724955345226, 28.9768019559726, 28.853005928854778, 28.683390904476536, 239.1372543053515, 25.074073635207313, 24.509904110078452, 21.393842197211697, 19.61405871248197, 18.841953726912532, 20.82729515208152, 46.62366875452725, 27.90163119866694, 25.48940103095102, 17.759388395444535, 15.307471902964089, 13.554364241635428, 12.749047019682553, 15.420214864010685, 14.57155806739957, 25.381565815946523, 12.816824381069493, 31.3219467975572, 12.132642688679086, 10.84849233659848, 28.561612195667056, 13.994881656547703, 11.465111509050546, 17.193935501296487, 11.411698633248719, 21.09564588450293, 76.0038906299737, 26.034644626048955, 51.51716469338388, 25.79147472982634, 30.465947919164933, 30.795358725321496, 21.09714342220435, 29.854012681505658, 37.898039541666954, 31.332498104057322, 32.017026300681934, 23.681804585310775, 22.61073640409116, 22.358454014520987, 22.727349790742114, 21.137409940951116, 74.94542758878657, 33.21522717168897, 27.092915434703123, 22.884215919478372, 38.97366733288156, 21.429335299041913, 19.762101026759023, 95.37664153089698, 17.815224337430273, 17.84286375125662, 25.122856735481005, 95.24270881529051, 15.533452238680427, 28.242188545340703, 16.725411676987417, 21.710473062013346, 12.767704935054692, 13.386962966723255, 14.537457161410256, 29.717533711055598, 10.452336501640952, 25.236473966426416, 16.044869700563435, 10.207702399799745, 11.77859458665651, 16.89081795755558, 30.707934003126184, 42.597399144186134, 17.592742079472355, 14.0499389805401, 39.72739329261686, 47.03636652719709, 44.91827617195912, 31.090761808043172, 23.197309328183934, 46.36878433353434, 37.219200450631654, 47.09988621615179, 33.13561915238682, 21.623068387746475, 31.11923467796826, 23.734066939355113, 32.543413119773746, 26.60833944239833, 27.96992780120563, 27.250415872217847, 26.473032125031253, 51.58048417391765, 36.68863389831321, 30.47937844736876, 19.46188333671018, 46.98836128577735, 50.48599399754414, 20.166519906269535, 33.00681327542181, 30.378407009715012, 33.577439041757174, 15.014407462780506, 33.24482208602165, 12.997403482900555, 12.997403375503133, 12.997396249673441, 16.068130011674036, 14.319636183158945, 13.137826715849009, 15.466792673740054, 18.998878498017607, 16.333359699922298, 47.43600873469314, 18.30553351116893, 22.843394222850367, 18.404558096524017, 17.351230223738753, 13.856971697399763, 27.929136672808234, 10.56996421529026, 15.945354549102216, 53.58845443095689, 24.27810930923189, 27.25172826823584, 45.41038044672793, 23.893513382378252, 46.64523359774813, 25.785393529159684, 22.578525259774896, 45.4155928993773, 35.521971721738886, 32.40624521985288, 26.54004471970056, 24.574522636553844, 21.473056394377586, 23.137583615304475, 21.42695144519203, 22.271579456667297, 20.659821013410994, 49.252636111072476, 38.389408771521325, 34.44146588664062, 29.457006657995255, 26.56626505565518, 25.90182331195437, 25.387914944642873, 25.387914483358003, 25.38791215446456, 25.02347868318948, 41.38302610155588, 19.806389717633103, 25.388187758410695, 13.19265097919818, 24.088842376473703, 30.82238134968861, 12.79845810687271, 18.024730840535724, 15.709024294142662, 13.720384878175816, 10.414936685382331, 9.744835467513694, 9.135592160126787, 16.7903342179328, 15.840067199873491, 22.66750715064062, 9.190515427397573, 9.113697486219971, 10.490178770183649, 9.933358134778786, 47.21370381977765, 25.38749000870784, 22.113164047436854, 49.513594178009846, 17.37156247234443, 12.720213272076768, 13.597613380588488, 14.184472592431035, 84.78301441965901, 27.908668242967774, 20.748853746694316, 19.134869824247506, 14.644373090826088, 32.05384926494718, 28.60277534259429, 10.67250435852143, 8.587598395108133, 12.107165021379949, 47.76795996804782, 17.450826515944588, 11.348982892472627, 20.996218815941162, 42.18041896315097, 10.852433292757494, 4.930233894468014, 75.001185451439, 56.65949933333141, 8.673348515544316, 8.673350657520901, 22.216444361849415, 16.101464840679096, 19.24648832805232, 10.8307543137489, 2.8384143629613883, 4.1530819410375654, 29.040681407773054, 12.631641846190737, 22.38147778283371, 11.948764633799767, 17.990710422876955, 9.695778066009122, 8.983511996655345, 75.8188203302335, 30.107510310297293, 29.278627543272496, 55.79675706352572, 31.606200357560517, 24.164119875297665, 21.460646737881184, 9.393240063097515, 11.823603973690163, 8.824376219807736, 8.683731190026645, 10.410243165045252, 6.209953996463236, 6.642733624881196, 6.431906717880708, 11.981165299339297, 25.437981098987596, 6.150762971058693, 28.66290156593613, 7.286063881510848, 14.95167668109567, 6.017745061371967, 4.649764608184382, 3.898694883090469, 9.31681106750937, 8.496073237922356, 6.017744219374341, 6.351850613811, 4.064386269185133, 4.204911627724096, 17.774665829464904, 10.848730110064654, 15.252206937129857, 15.28536629041842, 29.1413665167268, 9.97425912312245, 8.814565932221837, 9.742743072268748, 8.616334119011972, 7.944290274843558, 8.589487823174899, 7.723561979754001, 7.750490125550312, 79.73665162745627, 43.577737753957294, 26.87587837058388, 64.81176556194552, 14.421402601512806, 15.684952855109772, 15.18441334384991, 11.490723809122763, 21.981293729123454, 10.101119233959027, 15.105429870856309, 15.635890635516262, 8.880748437574553, 36.637203361099296, 7.155737372903086, 7.263574969081202, 7.263568502936762, 11.490720165482546, 14.836278437640592, 7.263574336829047, 14.396780828737834, 7.110984306132997, 17.735148402938798, 34.34226041744087, 9.50525721043448, 7.263560955488102, 7.146721995564509, 7.263565491094698, 10.461164500154633, 15.902657431208754, 15.801478771902577, 17.886657049051106, 15.254397370800483, 10.300319514726894, 9.212805224990106, 8.079274877504448, 7.71258164765693, 7.423966722049101, 31.578136255504617, 9.708074502833007, 35.268848094010046, 26.019610975980672, 4.84439177579704, 44.98146539641737, 7.8475894674445525, 7.6295260279596295, 2.3727337113167715, 2.352872813265298, 13.19638021081639, 3.244839816680438, 2.372713150119298, 2.352872701058339, 2.3727329826463026, 10.04184323506957, 2.3727328971894965, 5.669406898239344, 2.372733441364538, 4.844366028172519, 7.34423141467985, 1.9638667823877076, 4.170387520418491, 0.06311829078087787, 0.06311727476677502, 0.06311727491395319, 0.06311726131434033, 0.06311724620581981, 0.06311731766382025, 0.0631172917228276, 0.06319782862033337, 0.06315916233373646, 0.06314213676799127, 0.06312646100962876, 0.06312145534176808, 0.06312001267940502, 0.06311981533977863, 0.0994627728487132, 0.09946264395450002, 0.09946277190994775, 0.09946277751598545, 0.09946282833813586, 0.09946272391319728, 0.09946283367397965, 0.09946279036654003, 0.09946293287190357, 0.09946285576998812, 0.09946281619972634, 0.09946281848781717, 0.09946279119875431, 0.09946284104043082, 0.09946268172631449, 0.09946271225967974, 0.09946286109668416, 0.09946278191975115, 0.09946278007799854, 0.09946274395398219, 0.09946325789141379, 0.09946285871195251, 0.09946268042963681, 0.09946281861309686, 0.099462863305259, 0.09946288290225337, 0.09946283429705449, 0.09946282851231399, 0.09946275850348114, 0.09946276875266745, 0.09946420528418505, 0.09946417564733273, 0.09946383101482245, 0.09946379170484758, 0.09946377512421395, 0.09946366246411331, 0.09946360332027628, 0.09946359459528836, 0.09946357212993498, 0.09946351844393415, 0.09946349588139544, 0.09946347382269737, 0.09946346083091297, 0.09946342779385982, 0.09946341149271616, 0.09946339285119235, 0.09946338520149875, 0.09946335774928006, 0.09946334115679148, 0.09946330611527691, 0.09946329619447439, 0.09946329463204882, 0.09946328309753887, 0.09946327281035543, 0.0994632702146729, 0.09946324402583157, 0.09946320765236284, 0.09946318410557836, 0.09946318120885173], \"Total\": [302.0, 330.0, 248.0, 275.0, 294.0, 352.0, 354.0, 171.0, 227.0, 217.0, 226.0, 125.0, 149.0, 96.0, 174.0, 198.0, 144.0, 337.0, 243.0, 289.0, 262.0, 268.0, 337.0, 152.0, 146.0, 301.0, 218.0, 86.0, 438.0, 140.0, 96.77942893242243, 71.79547056341283, 61.177162823732395, 58.47771864616973, 50.64828246878063, 40.02115642285537, 36.464287109831524, 36.435322627470406, 35.64508991174079, 34.6187905510628, 33.66199196010399, 33.364157673761696, 29.295622657998976, 29.227969433335574, 29.144747290009338, 28.3587905663862, 28.247853044050057, 26.214698122417214, 25.929064360324382, 24.483778651813076, 24.01477191858262, 22.845749150039214, 22.31787760500377, 21.983594658171377, 21.410742277838196, 21.290124281285586, 20.7905754690368, 20.790575513978123, 20.54590264541635, 20.159231591595127, 30.554218575354177, 249.43376044517197, 200.39208000022964, 73.3193138670418, 49.162595067496014, 142.8475403933273, 54.94029981022441, 94.782776261415, 74.56120906227558, 236.0833647453458, 76.93091094978999, 102.78406576409662, 142.088381388441, 75.4728854402802, 234.05156922002988, 111.58985334148952, 121.65112529400082, 92.06773565101699, 146.1867249510987, 163.31032849202106, 88.3618648732617, 67.03220910330188, 202.9651523002191, 122.5589681416921, 250.0059334895319, 243.75703850130728, 215.82388500312587, 130.58491114511713, 330.62173275074116, 438.42249130627846, 125.89154032305096, 264.1178434822897, 199.79556693929496, 45.76925667548204, 39.23069109307739, 30.535578929140595, 24.518795339665335, 22.073321193382007, 22.06349381448029, 21.470485237041412, 20.799439656003464, 20.818543291564993, 19.941909716441277, 19.64888868211297, 31.57922230224596, 23.876234928130103, 68.43073953454515, 37.67824147914123, 37.75661322651417, 32.497465957822335, 120.37305963548441, 30.508684462903204, 182.37660930649957, 42.083851033119885, 35.10260079324646, 171.39957903155366, 83.17970775006259, 49.94597560427225, 75.9363854032007, 103.84796217448488, 32.595200531702226, 29.835184467521614, 83.20619359539204, 195.3479651813476, 188.13119034046883, 337.74876938986125, 248.17172302197733, 290.52061908317825, 194.87669390395922, 197.87917761328058, 81.72057662643996, 150.45255862763827, 147.76202919409192, 121.3322585351887, 262.0606934367746, 123.73486649275695, 155.71215771160487, 438.42249130627846, 161.37575334566372, 84.8994700620874, 215.641141821105, 224.7158175432724, 110.90584418362688, 354.0488910723202, 190.69178410092744, 218.46965546550626, 301.8962996326671, 205.0069104829878, 201.11727629508422, 159.91046099596957, 45.9506084708191, 35.09722300915337, 34.240551622714214, 33.54869788664838, 41.77219224003439, 31.286939696301353, 30.759644064768203, 28.648835079062902, 28.547641921779118, 26.377918755997893, 20.78504468196229, 19.28687604640643, 19.77467816256262, 133.4670856442859, 43.50150629615664, 67.0741839080992, 178.5830070761055, 35.60552521358421, 20.202925685104073, 108.14210295358745, 48.11040133172796, 55.152344479972406, 81.1169150829873, 22.863987295102557, 47.82008590504739, 36.04588210220264, 60.30961578324183, 34.68280826831283, 23.37248517503313, 119.82934659220942, 65.3731834496596, 116.65206277035807, 180.41219799784267, 88.94817800095167, 144.61565582147148, 227.6355321937353, 137.42505912006044, 205.0069104829878, 275.7692538363884, 352.680450117295, 180.19868446753858, 107.2561587739279, 115.2504738115492, 99.82630418821623, 294.2620315251769, 64.25825254794675, 226.51303488328446, 234.05156922002988, 222.7489815267854, 186.7860906502358, 175.34086675877288, 289.9828642511827, 149.98673911514928, 208.94385742491625, 217.35911674341097, 33.5238741305773, 30.955363143553967, 29.13689961941984, 30.747682961179855, 21.030111311645562, 124.74260009340762, 19.483739865623768, 43.47333456778705, 25.812769586870445, 44.64332344061526, 51.001053993048316, 32.15949104900225, 76.66791808585504, 146.52217682819708, 26.388128082483394, 29.05063063631013, 36.661232911771855, 18.488941819981626, 93.19696249057537, 34.77249698399809, 43.479224073342586, 22.715228888133954, 41.8695652243388, 39.04060424419849, 68.74312718252905, 39.01527092040291, 50.48093910246862, 58.95064867198682, 108.77170090515611, 64.04856144883746, 129.3636723627355, 202.9651523002191, 250.0059334895319, 138.10953971310911, 163.31032849202106, 337.95858065073435, 164.82683074759157, 155.71215771160487, 113.20881357175885, 149.27579553591738, 106.93800758298038, 194.87669390395922, 352.680450117295, 148.34393667156473, 218.91107132553617, 227.6355321937353, 438.42249130627846, 337.8211725479483, 199.79556693929496, 337.74876938986125, 197.55996207388182, 201.11727629508422, 264.1178434822897, 301.8962996326671, 290.52061908317825, 330.62173275074116, 21.442678873838464, 27.547991236503222, 88.35933734162111, 30.441078426948195, 62.96884619275755, 33.436901100480945, 89.69619750040096, 42.75918462612177, 37.70965087647168, 24.093317347189057, 21.879280567641345, 28.559729008198893, 102.29512898447393, 171.7487013092633, 31.617155014184544, 36.559834303491606, 23.10589779660685, 41.478351086011095, 40.6325553561619, 30.31560802936147, 29.955637181020077, 22.417981764319308, 85.57418919067004, 79.47423445574138, 48.46063136138571, 54.67052373211836, 122.19468184014869, 191.6866314333698, 127.33066306669429, 30.877080423937922, 95.40894357048109, 174.33603093526196, 289.9828642511827, 131.6511572065595, 115.31832890053427, 354.0488910723202, 74.95365301642717, 89.1664590436394, 163.84179282012266, 155.00899609767248, 147.0528374950472, 110.90584418362688, 200.34397683807924, 328.4738957001009, 438.42249130627846, 145.72615733945617, 159.91046099596957, 147.76202919409192, 75.47851570704235, 142.2229438729037, 161.37575334566372, 244.9332225802236, 152.81323896641638, 28.39147845448109, 28.78436393489127, 23.373859139230387, 21.686341983392822, 20.27658313502651, 60.70159252716262, 30.871933573301085, 126.22165847340302, 198.61224341123852, 32.86407218088814, 31.865628734009373, 21.172829657576102, 21.77852412452714, 156.85210324667148, 26.36299626665529, 43.91294144443504, 112.39824684566915, 20.709360807394305, 44.324797603088, 20.191752512725706, 19.74605952484653, 22.288091541182563, 21.732417317710425, 20.913870864229487, 32.575785680331734, 30.912695476733276, 62.404701532027275, 29.424318172807684, 34.97844796552375, 53.5223317738799, 215.82388500312587, 73.05922458111696, 268.5790282941577, 104.23780938592958, 147.51832046549345, 222.7489815267854, 145.5433556911905, 264.1178434822897, 184.5741843794149, 302.432687590191, 189.36537349936242, 130.58491114511713, 353.8422548428114, 190.69178410092744, 175.34086675877288, 142.78695889410784, 289.9828642511827, 125.38898686274034, 337.74876938986125, 248.17172302197733, 131.93008853693513, 111.4907731860168, 49.44189903598822, 39.83193338004796, 36.429420049982454, 31.65150462278894, 26.738631073754643, 25.772460084273863, 21.601973840184222, 21.45861828075447, 23.85345123035928, 51.974209771267574, 30.20174658528272, 131.7483131485341, 23.192521730058814, 22.70250875445626, 33.67295391208534, 43.6429659637652, 122.47835945534959, 69.29129297879058, 36.577723123051605, 22.470994339810414, 25.049603740524244, 35.368402088797694, 29.515811463260874, 37.43815453545044, 45.81016248704815, 19.22894484424367, 59.79088381506107, 21.30651311336385, 243.75703850130728, 47.911079823634644, 63.706869462715524, 182.30579008648772, 150.45255862763827, 262.0606934367746, 74.5659029711399, 163.75667046005563, 99.3905932572263, 244.9332225802236, 125.22700410589798, 353.8422548428114, 97.56932907385332, 125.7044012564442, 330.62173275074116, 301.8962996326671, 174.4860168804421, 328.4738957001009, 171.39957903155366, 150.69471245337704, 153.92170329905554, 236.0833647453458, 218.91107132553617, 83.93139393039485, 72.32630840011166, 38.53030327914696, 31.144163656094783, 28.20230885704228, 26.47654500292843, 24.135347180967564, 21.65464990438616, 20.773165872921492, 108.36870263318333, 31.96396434076147, 23.554750686903905, 22.957926244627423, 59.22574470050873, 21.91983719678705, 32.598084434154465, 47.24765093809413, 58.12957214528473, 45.43076819210932, 25.023220949973084, 42.82354684223101, 25.659337437701087, 44.7562662724418, 19.15177999096332, 26.511340523431613, 65.57178628795113, 36.41802419485304, 28.865873165084732, 25.40985753467605, 76.8584948705606, 97.5080759423195, 55.583756607745535, 111.4907731860168, 65.88359556168515, 145.5433556911905, 142.78695889410784, 328.4738957001009, 102.33909581331041, 186.7860906502358, 275.7692538363884, 217.35911674341097, 111.11094691025451, 162.9729952113256, 94.16441621563122, 205.0069104829878, 200.34397683807924, 45.385263214139584, 41.45074715004539, 41.45074701838776, 34.518795757785696, 29.073962927696996, 21.63318128235892, 19.983731059800164, 46.904992617253505, 24.956420887562512, 43.284214112034, 43.423791139948484, 99.84111531452125, 27.394614382763677, 28.860156721887115, 24.88815444817387, 27.54383247478116, 34.48905521900857, 30.072969751525992, 294.2620315251769, 20.96119867274332, 26.98955070310412, 20.411548752363238, 39.32673130448729, 21.170983307076924, 27.740661357177007, 38.08502535360766, 26.525117741568295, 21.1027813468088, 20.560956115486103, 86.74139694319668, 120.95936346933624, 50.0474422558598, 77.51197867982258, 43.48698233282211, 79.71994092992938, 103.12324160605196, 244.9332225802236, 104.23780938592958, 337.95858065073435, 226.51303488328446, 180.41219799784267, 182.37660930649957, 200.34397683807924, 83.17970775006259, 337.8211725479483, 125.7044012564442, 67.00666781230181, 353.8422548428114, 138.10953971310911, 69.00091169759843, 39.68990244613975, 27.76967298580349, 23.847194045739375, 23.77425934800363, 21.274269048791698, 21.06840446841424, 29.501051745642467, 28.57063705832276, 41.66017785229668, 65.46591162918962, 32.72029798032918, 26.25429832871701, 21.068768825949384, 30.936757699706796, 60.5759600510081, 29.783334002237613, 58.36603803641551, 75.22990650319507, 25.772815549730435, 48.647681638694, 45.27240006785075, 31.440423603639328, 48.1359556995625, 34.38365384436746, 25.825792595866197, 75.46109308707241, 29.09815073242765, 29.74678491916687, 30.52370716333514, 30.387958917856224, 115.2504738115492, 337.8211725479483, 69.16393080829249, 107.2561587739279, 85.7906894769387, 75.2894638470244, 124.44744617360297, 92.33315536367998, 142.2229438729037, 224.7158175432724, 302.432687590191, 226.51303488328446, 155.00899609767248, 120.902456220428, 353.8422548428114, 126.6952333435795, 275.7692538363884, 146.5702036813894, 205.07240739609867, 171.18743645061232, 33.6004971501752, 22.789548828795755, 21.841869552508616, 44.485213357134846, 24.28480677354264, 26.246682152713785, 25.950323646523515, 21.169671794206668, 20.54367513629823, 41.193900272512806, 19.921364660397806, 57.28735124699109, 45.08868771934917, 26.09628963170271, 30.937607593875757, 24.40981115486104, 44.41562565363401, 108.03944739912572, 25.717214261032918, 22.146503763940036, 33.510016386965184, 32.98174706187292, 32.02459878731416, 22.3182519462232, 120.902456220428, 24.687263308352776, 91.68457788543493, 49.44327303673618, 27.938228866908084, 57.18609918545876, 98.8061070619778, 166.91343831694454, 94.03171248292561, 153.92170329905554, 268.5790282941577, 438.42249130627846, 182.30579008648772, 121.65112529400082, 121.3322585351887, 140.86078033405053, 215.641141821105, 155.00899609767248, 124.44744617360297, 337.8211725479483, 176.54622493408638, 42.74546937021194, 30.001517498831472, 29.877716418362425, 29.70804468413822, 248.15457343229411, 26.098728480041512, 25.534606610522033, 22.41849281675204, 20.638720394798256, 19.866605733468774, 22.35094496419009, 55.442530441991096, 38.92243088869116, 37.793592309688485, 27.51586943797135, 23.793008683683816, 21.07290502817416, 20.294999469806562, 25.8657227888342, 24.631055549268, 43.035909023634005, 22.990335732733055, 56.18997875051479, 21.944462125533054, 20.10358729079622, 55.840595924906324, 27.821530338999146, 24.46058907437709, 39.02605549586025, 25.98378603738475, 48.08638217111494, 218.46965546550626, 63.70886386088598, 248.17172302197733, 87.54175729487378, 125.22700410589798, 133.18980670662728, 63.11490166424882, 147.8180164655134, 337.8211725479483, 201.11727629508422, 250.0059334895319, 140.9783721303766, 128.86822426271533, 147.51832046549345, 215.641141821105, 290.52061908317825, 75.96982716461287, 34.2686160828479, 28.11732015773111, 23.926332077635713, 45.603003186286934, 25.364894295537667, 24.237516137187534, 121.73625059700143, 22.78237399562513, 24.095329913961887, 35.667542953960485, 140.84982360162613, 23.208157708224732, 43.465807310267564, 25.998959035113902, 33.870274965491866, 20.765512041439955, 22.793792774994504, 25.900661038529034, 54.970063805348, 19.967839073611085, 53.110411583877045, 34.16573935847944, 21.77431159080165, 25.875527529627842, 38.06024918930993, 69.90948744412977, 100.39699985648345, 42.84609836167072, 34.80912980787781, 99.9457581372254, 127.33066306669429, 122.5589681416921, 82.11742971380642, 68.71440195891786, 264.1178434822897, 174.4860168804421, 337.95858065073435, 205.07240739609867, 72.91262955218096, 217.35911674341097, 96.22230732224148, 290.52061908317825, 160.10319863698132, 215.641141821105, 190.69178410092744, 200.39208000022964, 52.60571706669278, 37.71386272058267, 31.504743201029775, 20.48744638750505, 53.70861419357286, 58.772575705406574, 24.13032148697388, 39.85894032898474, 36.72591639843944, 41.95350641130644, 20.82766246596388, 48.27432349635793, 21.148113090919473, 21.14811305357888, 21.14811284222053, 27.091770280835412, 24.428104616335357, 23.74625228480534, 28.025124200381217, 34.63137056252005, 29.888241100006603, 87.60482676762851, 36.745469437230746, 45.95213390723653, 37.875111452543884, 35.87272328446373, 28.711651303796355, 58.626160313532004, 23.149932523059967, 35.71941797275832, 121.50831591205649, 54.970063805348, 64.62262172012557, 124.23882418187729, 56.18997875051479, 197.87917761328058, 72.2088224338199, 58.95064867198682, 301.8962996326671, 182.30579008648772, 162.9729952113256, 99.2681048849573, 87.18052984675681, 61.39193749742525, 84.8994700620874, 123.73486649275695, 352.680450117295, 224.7158175432724, 50.275663575552464, 39.417804523204765, 35.464492494005235, 30.48004770359152, 27.58936081780358, 26.925532298443805, 26.41095097361485, 26.410951150172853, 26.41095091546329, 26.046640696841262, 47.4268127238961, 26.46875703741957, 40.58881118211254, 21.437159924301522, 42.81440531564619, 57.17100718321062, 24.386162455143495, 35.50879798066359, 36.2344709803888, 33.01619412629401, 25.50220924530378, 24.389144444781948, 24.428104616335357, 47.003209506965014, 45.08868771934917, 66.3860569751283, 26.98955070310412, 27.053230453042328, 32.02459878731416, 32.726571451875536, 217.35911674341097, 121.73625059700143, 99.9457581372254, 352.680450117295, 111.4907731860168, 64.62262172012557, 131.6511572065595, 174.4860168804421, 86.59349119430706, 28.931462201521597, 21.771451792993744, 20.348729943270893, 21.511997781374223, 57.05708463228898, 57.09334078069747, 24.920470102260825, 21.170983307076924, 33.63308917059898, 149.98673911514928, 56.28260324762653, 38.08502535360766, 71.05162846705456, 144.61565582147148, 42.640051287166806, 20.693856452895197, 330.62173275074116, 275.7692538363884, 45.02385487444523, 48.08638217111494, 128.86822426271533, 106.12652539793478, 129.3636723627355, 80.19315527310874, 21.457340082426203, 32.22497619035385, 227.6355321937353, 100.61482487836506, 197.55996207388182, 130.58491114511713, 301.8962996326671, 133.05373618351513, 166.91343831694454, 76.83989838404581, 31.128587356128676, 30.299719998330364, 60.663901136698776, 34.97879591792866, 31.481485372615044, 38.72601936970753, 20.316194621856535, 26.48124679540348, 22.097966147923678, 22.417981764319308, 35.09434858989405, 22.3182519462232, 24.198874056420348, 27.469458464847023, 56.47391597640843, 125.7044012564442, 32.71345260972981, 160.10319863698132, 41.478351086011095, 88.80136111488007, 36.1586085435748, 30.387958917856224, 25.564182102408083, 67.0741839080992, 64.05930866543245, 46.11988667213065, 50.0474422558598, 33.69688702098806, 36.85962645056218, 163.84179282012266, 99.82630418821623, 146.5702036813894, 147.0528374950472, 354.0488910723202, 97.56932907385332, 85.57418919067004, 115.2504738115492, 110.05693480223735, 81.72057662643996, 166.91343831694454, 108.03944739912572, 294.2620315251769, 80.75767390938239, 44.59874252688939, 27.896874023345, 88.80136111488007, 22.485336231717206, 26.709965858773007, 27.011018006773703, 20.577691985513162, 44.8114457537649, 21.58391083524111, 36.269322592448596, 39.40777248076169, 23.253589900979165, 103.12324160605196, 20.411548752363238, 21.962273331763225, 22.536733069835613, 36.2344709803888, 47.19719122385055, 24.77324662918164, 52.60459047663688, 27.394614382763677, 69.55551343919927, 226.51303488328446, 82.77373531731197, 64.07749657803083, 63.92752357899977, 75.2894638470244, 121.50831591205649, 188.13119034046883, 222.7489815267854, 268.5790282941577, 289.9828642511827, 142.2229438729037, 186.7860906502358, 182.69200752074477, 224.7158175432724, 102.29512898447393, 49.28027267733112, 22.742837550038637, 96.22230732224148, 72.2088224338199, 26.709965858773007, 302.432687590191, 56.94745532974435, 67.36682954486204, 21.068768825949384, 21.2723396001988, 125.89154032305096, 32.566917762581376, 27.469458464847023, 29.74678491916687, 32.15949104900225, 146.5702036813894, 39.04060424419849, 99.28464474259707, 47.319313397349184, 108.36870263318333, 174.33603093526196, 46.87214998702457, 224.7158175432724, 18.488941819981626, 18.85847602940623, 19.073202659818012, 19.15177999096332, 19.22894484424367, 19.28687604640643, 19.294262837200613, 226.51303488328446, 120.902456220428, 99.82630418821623, 352.680450117295, 124.74260009340762, 155.71215771160487, 337.74876938986125, 18.488941819981626, 18.85847602940623, 19.073202659818012, 19.15177999096332, 19.22894484424367, 19.28687604640643, 19.294262837200613, 19.326082578096578, 19.35440598551465, 19.372612141898795, 19.42078130823808, 19.483739865623768, 19.53592672957058, 19.60812030115383, 19.63177203262952, 19.64888868211297, 19.74605952484653, 19.77467816256262, 19.866605733468774, 19.869076557647375, 19.921364660397806, 19.941909716441277, 19.967839073611085, 19.983731059800164, 20.10358729079622, 20.11303526243789, 20.15466854173649, 20.159231591595127, 20.191752512725706, 20.202925685104073, 94.16441621563122, 290.52061908317825, 218.46965546550626, 121.3322585351887, 108.03944739912572, 33.69688702098806, 301.8962996326671, 57.28735124699109, 66.37902633215671, 438.42249130627846, 108.14210295358745, 31.414300954980483, 27.938228866908084, 71.05162846705456, 145.72615733945617, 49.44327303673618, 328.4738957001009, 94.782776261415, 99.9457581372254, 123.73486649275695, 99.2681048849573, 62.35417259946445, 195.3479651813476, 150.45255862763827, 33.910108289590184, 31.08464054071804, 32.19109759641608, 56.92791668944798, 68.71440195891786], \"logprob\": [30.0, 29.0, 28.0, 27.0, 26.0, 25.0, 24.0, 23.0, 22.0, 21.0, 20.0, 19.0, 18.0, 17.0, 16.0, 15.0, 14.0, 13.0, 12.0, 11.0, 10.0, 9.0, 8.0, 7.0, 6.0, 5.0, 4.0, 3.0, 2.0, 1.0, -4.485, -4.7874, -4.9499, -4.9958, -5.1423, -5.3833, -5.479, -5.4798, -5.5024, -5.5325, -5.5613, -5.5705, -5.705, -5.7074, -5.7103, -5.7387, -5.7427, -5.8204, -5.8318, -5.8915, -5.9117, -5.9639, -5.9884, -6.0042, -6.032, -6.0379, -6.0629, -6.0629, -6.0753, -6.0953, -5.6841, -3.6748, -3.8938, -4.8843, -5.2679, -4.3058, -5.1788, -4.6904, -4.9066, -3.9128, -4.9079, -4.7409, -4.5081, -5.0341, -4.2936, -4.8057, -4.7557, -4.9502, -4.6499, -4.6359, -4.9991, -5.167, -4.5744, -4.8804, -4.548, -4.5708, -4.6295, -4.9213, -4.6411, -4.6536, -4.9372, -4.8533, -4.8909, -5.0956, -5.2536, -5.5118, -5.7398, -5.8497, -5.8502, -5.8788, -5.9122, -5.9118, -5.9565, -5.9721, -5.5833, -5.9465, -4.9245, -5.5236, -5.5492, -5.712, -4.4292, -5.8115, -4.0336, -5.5456, -5.7271, -4.1575, -4.8881, -5.4006, -4.9835, -4.6949, -5.8555, -5.9512, -4.9553, -4.1086, -4.2252, -3.7597, -4.0609, -3.9918, -4.332, -4.3442, -5.0119, -4.5576, -4.6508, -4.7815, -4.2946, -4.7941, -4.6713, -4.0523, -4.6533, -5.0417, -4.4995, -4.6018, -4.9593, -4.5324, -4.7656, -4.7789, -4.7802, -4.8661, -4.9039, -4.9359, -5.0502, -5.3267, -5.3522, -5.3733, -5.1546, -5.4453, -5.4629, -5.5366, -5.5402, -5.6224, -5.8716, -5.9505, -5.9417, -4.083, -5.2125, -4.8159, -3.8592, -5.4868, -6.0638, -4.3983, -5.2142, -5.0781, -4.7141, -6.0039, -5.2742, -5.5795, -5.0697, -5.6473, -6.0567, -4.437, -5.0587, -4.5437, -4.1876, -4.8959, -4.5252, -4.2039, -4.6086, -4.3532, -4.1989, -4.1398, -4.5337, -4.919, -4.9084, -5.0037, -4.6176, -5.1718, -4.8267, -4.8307, -4.8785, -4.923, -4.9405, -4.8601, -5.014, -5.0066, -5.0206, -5.288, -5.3703, -5.433, -5.3817, -5.7732, -3.9964, -5.8537, -5.1258, -5.6686, -5.1493, -5.0509, -5.5192, -4.6955, -4.0556, -5.7901, -5.7001, -5.4785, -6.1863, -4.5773, -5.5636, -5.4038, -6.0547, -5.4563, -5.5415, -4.9807, -5.5474, -5.3326, -5.2026, -4.5926, -5.131, -4.463, -4.1331, -3.9625, -4.4752, -4.3873, -3.8102, -4.4391, -4.4901, -4.727, -4.5566, -4.7966, -4.4356, -4.1109, -4.6898, -4.4885, -4.5197, -4.2238, -4.3495, -4.6436, -4.4603, -4.7077, -4.7726, -4.7657, -4.7425, -4.7594, -4.7636, -5.5538, -5.3673, -4.2146, -5.2925, -4.6158, -5.2602, -4.2839, -5.0681, -5.2201, -5.6771, -5.8007, -5.5858, -4.3177, -3.8291, -5.5262, -5.3907, -5.8629, -5.2872, -5.3139, -5.6215, -5.6623, -6.0269, -4.6886, -4.7853, -5.2901, -5.1716, -4.3727, -3.9366, -4.3559, -5.7751, -4.6553, -4.1237, -3.6753, -4.4015, -4.5217, -3.6727, -4.9361, -4.8091, -4.4572, -4.526, -4.5881, -4.764, -4.4797, -4.2383, -4.1389, -4.7129, -4.744, -4.8138, -5.0323, -4.897, -4.9182, -4.9185, -3.3287, -5.0419, -5.0305, -5.2452, -5.323, -5.3936, -4.3143, -5.0538, -3.6547, -3.2194, -5.1475, -5.1822, -5.5952, -5.5713, -3.6912, -5.5119, -5.0061, -4.0827, -5.7917, -5.032, -5.8191, -5.8579, -5.7456, -5.7771, -5.8228, -5.3938, -5.4754, -4.7844, -5.5437, -5.3987, -4.9787, -3.7912, -4.7964, -3.7477, -4.6205, -4.3765, -4.1384, -4.455, -4.1987, -4.4703, -4.2566, -4.5046, -4.7518, -4.4162, -4.6659, -4.7194, -4.8429, -4.7536, -4.9048, -4.8463, -4.8906, -4.9352, -4.9742, -4.3314, -4.5526, -4.6454, -4.7894, -4.9642, -5.0025, -5.1871, -5.1941, -5.0885, -4.4356, -5.001, -3.5644, -5.3566, -5.4022, -5.0619, -4.8304, -3.8191, -4.4017, -5.0638, -5.589, -5.5473, -5.2049, -5.3923, -5.1563, -4.9623, -5.8398, -4.7291, -5.8159, -3.4046, -5.0523, -4.7927, -3.8332, -4.0238, -3.534, -4.6971, -4.1678, -4.5402, -4.0059, -4.4352, -3.9114, -4.6345, -4.5493, -4.1656, -4.3169, -4.5123, -4.4075, -4.5965, -4.6592, -4.7267, -4.7546, -4.7803, -3.5218, -3.6726, -4.315, -4.5343, -4.6371, -4.7027, -4.7992, -4.9128, -4.9564, -3.3391, -4.6016, -4.913, -4.9924, -4.1, -5.2214, -4.8267, -4.4751, -4.2703, -4.5337, -5.1813, -4.68, -5.2089, -4.6954, -5.608, -5.3599, -4.5194, -5.1141, -5.3493, -5.5036, -4.3968, -4.1693, -4.7721, -4.207, -4.6404, -4.0578, -4.0898, -3.5037, -4.4136, -4.1523, -4.1227, -4.2224, -4.4777, -4.4009, -4.5936, -4.5445, -4.6581, -4.1327, -4.2256, -4.2256, -4.4137, -4.5911, -4.8994, -5.0039, -4.2351, -4.9998, -4.4812, -4.4929, -3.6654, -4.9643, -4.925, -5.1207, -5.0291, -4.811, -4.9494, -2.7041, -5.3462, -5.1021, -5.4167, -4.8217, -5.4731, -5.2634, -4.9562, -5.3207, -5.5558, -5.5832, -4.1476, -3.8257, -4.7352, -4.373, -4.8949, -4.5112, -4.3624, -3.8849, -4.4334, -3.842, -4.0898, -4.2614, -4.2809, -4.3509, -4.6239, -4.1899, -4.5543, -4.7165, -4.5321, -4.7001, -4.7833, -4.2535, -4.6221, -4.7807, -4.7839, -4.9004, -4.9106, -4.6685, -4.7233, -4.3514, -3.9613, -4.6605, -4.9377, -5.2702, -4.9898, -4.364, -5.0971, -4.4859, -4.2402, -5.3199, -4.6871, -4.7723, -5.1424, -4.7512, -5.0912, -5.4003, -4.3413, -5.3101, -5.3148, -5.2944, -5.328, -4.0774, -3.2699, -4.6559, -4.3302, -4.5187, -4.6153, -4.3536, -4.5262, -4.3228, -4.1066, -4.0169, -4.1859, -4.408, -4.5677, -4.3838, -4.599, -4.5181, -4.6236, -4.6257, -2.6446, -4.2978, -4.701, -4.7455, -4.1202, -4.7417, -4.7143, -4.7944, -5.0422, -5.1009, -4.4068, -5.187, -4.1624, -4.4393, -5.0327, -4.8991, -5.1646, -4.5672, -3.7145, -5.2699, -5.4333, -5.0277, -5.0752, -5.1186, -5.4826, -3.8198, -5.4164, -4.1671, -4.7964, -5.3685, -4.6849, -4.2441, -3.8783, -4.3536, -4.2495, -4.0396, -3.9949, -4.4022, -4.5644, -4.6149, -4.6719, -4.604, -4.6993, -4.7663, -4.7495, -4.7797, -4.0081, -4.3726, -4.3769, -4.3828, -2.2621, -4.5173, -4.54, -4.676, -4.7629, -4.803, -4.7028, -3.897, -4.4104, -4.5009, -4.8622, -5.0108, -5.1324, -5.1937, -5.0034, -5.06, -4.5051, -5.1884, -4.2948, -5.2432, -5.3551, -4.3871, -5.1004, -5.2998, -4.8946, -5.3045, -4.69, -3.4083, -4.4797, -3.7972, -4.4891, -4.3225, -4.3118, -4.69, -4.3428, -4.1042, -4.2945, -4.2728, -4.5744, -4.6207, -4.6319, -4.6155, -4.6881, -3.3817, -4.1954, -4.3992, -4.568, -4.0356, -4.6337, -4.7147, -3.1406, -4.8184, -4.8168, -4.4747, -3.142, -4.9555, -4.3576, -4.8815, -4.6207, -5.1515, -5.1042, -5.0217, -4.3067, -5.3516, -4.4702, -4.9231, -5.3753, -5.2322, -4.8717, -4.2739, -3.9467, -4.831, -5.0558, -4.0164, -3.8475, -3.8936, -4.2615, -4.5544, -3.8618, -4.0816, -3.8462, -4.1978, -4.6247, -4.2606, -4.5315, -4.2159, -4.4172, -4.3673, -4.3934, -4.4223, -3.7115, -4.0522, -4.2376, -4.6862, -3.8047, -3.7329, -4.6506, -4.1579, -4.2409, -4.1408, -4.9456, -4.1507, -5.0899, -5.0899, -5.0899, -4.8778, -4.993, -5.0791, -4.9159, -4.7102, -4.8614, -3.7952, -4.7474, -4.526, -4.742, -4.801, -5.0258, -4.325, -5.2966, -4.8855, -3.6733, -4.465, -4.3495, -3.8389, -4.481, -3.8121, -4.4048, -4.5376, -3.8388, -4.0845, -4.1763, -4.376, -4.4529, -4.5878, -4.5132, -4.59, -4.5513, -4.6264, -2.9975, -3.2467, -3.3552, -3.5115, -3.6148, -3.6402, -3.6602, -3.6602, -3.6602, -3.6747, -3.1716, -3.9085, -3.6602, -4.3148, -3.7127, -3.4662, -4.3451, -4.0027, -4.1402, -4.2756, -4.5512, -4.6177, -4.6823, -4.0737, -4.1319, -3.7735, -4.6763, -4.6847, -4.544, -4.5986, -3.0398, -3.6602, -3.7983, -2.9922, -4.0396, -4.3513, -4.2846, -4.2423, -2.2783, -3.3894, -3.6859, -3.7669, -4.0343, -3.251, -3.3649, -4.3507, -4.5681, -4.2246, -2.852, -3.859, -4.2892, -3.674, -2.9764, -4.334, -5.123, -2.4009, -2.6813, -4.5581, -4.5581, -3.6175, -3.9395, -3.761, -4.336, -5.6751, -5.2945, -3.3497, -4.1822, -3.6101, -4.2377, -3.8285, -4.4467, -4.523, -2.3333, -3.2569, -3.2848, -2.64, -3.2083, -3.4768, -3.5955, -4.4217, -4.1916, -4.4842, -4.5002, -4.3189, -4.8355, -4.7682, -4.8004, -4.1783, -3.4254, -4.8451, -3.3061, -4.6757, -3.9569, -4.867, -5.1249, -5.301, -4.4299, -4.5221, -4.867, -4.8129, -5.2594, -5.2254, -3.7839, -4.2776, -3.937, -3.9348, -3.2895, -4.3617, -4.4853, -4.3852, -4.508, -4.5892, -4.5111, -4.6174, -4.6139, -2.2196, -2.8238, -3.3071, -2.4268, -3.9296, -3.8456, -3.878, -4.1568, -3.5081, -4.2857, -3.8832, -3.8487, -4.4144, -2.9972, -4.6304, -4.6154, -4.6154, -4.1568, -3.9012, -4.6154, -3.9313, -4.6367, -3.7228, -3.0619, -4.3465, -4.6154, -4.6316, -4.6154, -4.2506, -3.8318, -3.8382, -3.7142, -3.8734, -4.2661, -4.3777, -4.509, -4.5554, -4.5936, -2.2399, -3.4194, -2.1293, -2.4335, -4.1145, -1.8861, -3.6321, -3.6603, -4.8283, -4.8367, -3.1124, -4.5153, -4.8283, -4.8367, -4.8283, -3.3856, -4.8283, -3.9573, -4.8283, -4.1145, -3.6984, -5.0174, -4.2643, -8.4551, -8.4551, -8.4551, -8.4551, -8.4551, -8.4551, -8.4551, -8.4538, -8.4544, -8.4547, -8.455, -8.455, -8.4551, -8.4551, -6.9078, -6.9078, -6.9078, -6.9078, -6.9078, -6.9078, -6.9078, -6.9078, -6.9078, -6.9078, -6.9078, -6.9078, -6.9078, -6.9078, -6.9078, -6.9078, -6.9078, -6.9078, -6.9078, -6.9078, -6.9078, -6.9078, -6.9078, -6.9078, -6.9078, -6.9078, -6.9078, -6.9078, -6.9078, -6.9078, -6.9077, -6.9077, -6.9077, -6.9077, -6.9077, -6.9077, -6.9077, -6.9077, -6.9077, -6.9077, -6.9077, -6.9077, -6.9077, -6.9077, -6.9077, -6.9077, -6.9077, -6.9077, -6.9078, -6.9078, -6.9078, -6.9078, -6.9078, -6.9078, -6.9078, -6.9078, -6.9078, -6.9078, -6.9078]}};\n",
       "\n",
       "function LDAvis_load_lib(url, callback){\n",
       "  var s = document.createElement('script');\n",
       "  s.src = url;\n",
       "  s.async = true;\n",
       "  s.onreadystatechange = s.onload = callback;\n",
       "  s.onerror = function(){console.warn(\"failed to load library \" + url);};\n",
       "  document.getElementsByTagName(\"head\")[0].appendChild(s);\n",
       "}\n",
       "\n",
       "if(typeof(LDAvis) !== \"undefined\"){\n",
       "   // already loaded: just create the visualization\n",
       "   !function(LDAvis){\n",
       "       new LDAvis(\"#\" + \"ldavis_el7645230091445438336765\", ldavis_el7645230091445438336765_data);\n",
       "   }(LDAvis);\n",
       "}else if(typeof define === \"function\" && define.amd){\n",
       "   // require.js is available: use it to load d3/LDAvis\n",
       "   require.config({paths: {d3: \"https://cdnjs.cloudflare.com/ajax/libs/d3/3.5.5/d3.min\"}});\n",
       "   require([\"d3\"], function(d3){\n",
       "      window.d3 = d3;\n",
       "      LDAvis_load_lib(\"https://cdn.rawgit.com/bmabey/pyLDAvis/files/ldavis.v1.0.0.js\", function(){\n",
       "        new LDAvis(\"#\" + \"ldavis_el7645230091445438336765\", ldavis_el7645230091445438336765_data);\n",
       "      });\n",
       "    });\n",
       "}else{\n",
       "    // require.js not available: dynamically load d3 & LDAvis\n",
       "    LDAvis_load_lib(\"https://cdnjs.cloudflare.com/ajax/libs/d3/3.5.5/d3.min.js\", function(){\n",
       "         LDAvis_load_lib(\"https://cdn.rawgit.com/bmabey/pyLDAvis/files/ldavis.v1.0.0.js\", function(){\n",
       "                 new LDAvis(\"#\" + \"ldavis_el7645230091445438336765\", ldavis_el7645230091445438336765_data);\n",
       "            })\n",
       "         });\n",
       "}\n",
       "</script>"
      ],
      "text/plain": [
       "PreparedData(topic_coordinates=            Freq  cluster  topics         x         y\n",
       "topic                                                \n",
       "16     13.381480        1       1 -0.180783  0.142434\n",
       "7      11.514445        1       2 -0.025375  0.161311\n",
       "8      11.047918        1       3  0.050389 -0.013237\n",
       "10     10.137554        1       4 -0.120296  0.127046\n",
       "5       8.307724        1       5  0.153418  0.119013\n",
       "9       6.674675        1       6 -0.068314  0.028824\n",
       "14      5.802484        1       7  0.003811  0.068593\n",
       "13      4.421844        1       8  0.122308 -0.070871\n",
       "1       4.358667        1       9  0.191404  0.021817\n",
       "11      4.286412        1      10  0.141501 -0.007992\n",
       "3       3.775288        1      11 -0.042182  0.100199\n",
       "12      3.619001        1      12 -0.114479  0.066224\n",
       "0       3.474793        1      13 -0.211030 -0.081077\n",
       "15      3.325786        1      14 -0.043188 -0.071688\n",
       "19      1.555125        1      15 -0.127829 -0.356559\n",
       "2       1.304022        1      16 -0.081531 -0.037381\n",
       "4       1.232149        1      17  0.199232 -0.022234\n",
       "6       1.156486        1      18  0.113736 -0.124544\n",
       "17      0.467399        1      19  0.045690 -0.074522\n",
       "18      0.156745        1      20 -0.006482  0.024644, topic_info=     Category        Freq       Term       Total  loglift  logprob\n",
       "term                                                              \n",
       "628   Default  302.000000      peopl  302.000000  30.0000  30.0000\n",
       "24    Default  330.000000       amaz  330.000000  29.0000  29.0000\n",
       "74    Default  248.000000       beer  248.000000  28.0000  28.0000\n",
       "934   Default  275.000000        use  275.000000  27.0000  27.0000\n",
       "216   Default  294.000000     custom  294.000000  26.0000  26.0000\n",
       "300   Default  352.000000     experi  352.000000  25.0000  25.0000\n",
       "946   Default  354.000000       wait  354.000000  24.0000  24.0000\n",
       "113   Default  171.000000    burrito  171.000000  23.0000  23.0000\n",
       "676   Default  227.000000      price  227.000000  22.0000  22.0000\n",
       "296   Default  217.000000      excel  217.000000  21.0000  21.0000\n",
       "993   Default  226.000000       year  226.000000  20.0000  20.0000\n",
       "432   Default  125.000000    husband  125.000000  19.0000  19.0000\n",
       "1     Default  149.000000    absolut  149.000000  18.0000  18.0000\n",
       "873   Default   96.000000       talk   96.000000  17.0000  17.0000\n",
       "551   Default  174.000000      minut  174.000000  16.0000  16.0000\n",
       "747   Default  198.000000       room  198.000000  15.0000  15.0000\n",
       "711   Default  144.000000     reason  144.000000  14.0000  14.0000\n",
       "21    Default  337.000000      alway  337.000000  13.0000  13.0000\n",
       "347   Default  243.000000      fresh  243.000000  12.0000  12.0000\n",
       "46    Default  289.000000        ask  289.000000  11.0000  11.0000\n",
       "876   Default  262.000000       tast  262.000000  10.0000  10.0000\n",
       "499   Default  268.000000      locat  268.000000   9.0000   9.0000\n",
       "78    Default  337.000000       best  337.000000   8.0000   8.0000\n",
       "102   Default  152.000000  breakfast  152.000000   7.0000   7.0000\n",
       "387   Default  146.000000        guy  146.000000   6.0000   6.0000\n",
       "495   Default  301.000000      littl  301.000000   5.0000   5.0000\n",
       "63    Default  218.000000        bar  218.000000   4.0000   4.0000\n",
       "529   Default   86.000000     massag   86.000000   3.0000   3.0000\n",
       "595   Default  438.000000      order  438.000000   2.0000   2.0000\n",
       "187   Default  140.000000       cook  140.000000   1.0000   1.0000\n",
       "...       ...         ...        ...         ...      ...      ...\n",
       "724   Topic20    0.099463     rental   20.202926   1.1445  -6.9078\n",
       "796   Topic20    0.099464       sign   94.164416  -0.3947  -6.9077\n",
       "542   Topic20    0.099464       menu  290.520619  -1.5213  -6.9077\n",
       "63    Topic20    0.099464        bar  218.469655  -1.2363  -6.9077\n",
       "593   Topic20    0.099464     option  121.332259  -0.6482  -6.9077\n",
       "135   Topic20    0.099464      chang  108.039447  -0.5322  -6.9077\n",
       "652   Topic20    0.099464        plu   33.696887   0.6329  -6.9077\n",
       "495   Topic20    0.099464      littl  301.896300  -1.5597  -6.9077\n",
       "939   Topic20    0.099464      vegan   57.287351   0.1023  -6.9077\n",
       "195   Topic20    0.099464       cost   66.379026  -0.0450  -6.9077\n",
       "595   Topic20    0.099464      order  438.422491  -1.9328  -6.9077\n",
       "457   Topic20    0.099463        job  108.142103  -0.5331  -6.9077\n",
       "609   Topic20    0.099463       page   31.414301   0.7031  -6.9077\n",
       "449   Topic20    0.099463   interior   27.938229   0.8203  -6.9077\n",
       "178   Topic20    0.099463    complet   71.051628  -0.1131  -6.9077\n",
       "901   Topic20    0.099463       took  145.726157  -0.8314  -6.9077\n",
       "6     Topic20    0.099463         ad   49.443273   0.2495  -6.9077\n",
       "504   Topic20    0.099463       look  328.473896  -1.6441  -6.9077\n",
       "238   Topic20    0.099463    dessert   94.782776  -0.4013  -6.9077\n",
       "331   Topic20    0.099463     finish   99.945758  -0.4543  -6.9078\n",
       "488   Topic20    0.099463       like  123.734866  -0.6678  -6.9078\n",
       "0     Topic20    0.099463        abl   99.268105  -0.4475  -6.9078\n",
       "383   Topic20    0.099463      group   62.354173   0.0175  -6.9078\n",
       "783   Topic20    0.099463     server  195.347965  -1.1244  -6.9078\n",
       "976   Topic20    0.099463       wine  150.452559  -0.8633  -6.9078\n",
       "210   Topic20    0.099463     crispi   33.910108   0.6266  -6.9078\n",
       "651   Topic20    0.099463   pleasant   31.084641   0.7136  -6.9078\n",
       "172   Topic20    0.099463    comment   32.191098   0.6786  -6.9078\n",
       "894   Topic20    0.099463        tip   56.927917   0.1085  -6.9078\n",
       "142   Topic20    0.099463       chef   68.714402  -0.0796  -6.9078\n",
       "\n",
       "[999 rows x 6 columns], token_table=      Topic      Freq          Term\n",
       "term                               \n",
       "0         2  0.282064           abl\n",
       "0         3  0.271991           abl\n",
       "0         7  0.130958           abl\n",
       "0        11  0.050369           abl\n",
       "0        14  0.271991           abl\n",
       "1         3  0.313361       absolut\n",
       "1         4  0.233354       absolut\n",
       "1        10  0.126678       absolut\n",
       "1        16  0.320028       absolut\n",
       "2        16  0.967805  absolut amaz\n",
       "3         9  0.970731        accept\n",
       "4         1  0.190500      accommod\n",
       "4         6  0.272142      accommod\n",
       "4        14  0.489856      accommod\n",
       "6         2  0.485405            ad\n",
       "6         6  0.101126            ad\n",
       "6        11  0.404504            ad\n",
       "11        4  0.736473           age\n",
       "11        8  0.245491           age\n",
       "12       10  0.949289       aggress\n",
       "13        6  0.173215          agre\n",
       "13        8  0.450359          agre\n",
       "13        9  0.311787          agre\n",
       "14       12  0.957901           ahi\n",
       "15       12  0.936727      ahi tuna\n",
       "16       15  0.946577         allig\n",
       "17       15  0.946577    allig soup\n",
       "19        5  0.313441          alon\n",
       "19       14  0.256452          alon\n",
       "19       16  0.085484          alon\n",
       "...     ...       ...           ...\n",
       "987       3  0.154466         worth\n",
       "987       4  0.245328         worth\n",
       "987       5  0.290759         worth\n",
       "987       7  0.081776         worth\n",
       "987       9  0.009086         worth\n",
       "987      12  0.045431         worth\n",
       "987      17  0.081776         worth\n",
       "988       4  0.954544           wow\n",
       "989      11  0.982128          wrap\n",
       "991       3  0.358940         wrong\n",
       "991       6  0.265304         wrong\n",
       "991       8  0.249698         wrong\n",
       "991      18  0.109243         wrong\n",
       "993       3  0.247226          year\n",
       "993       4  0.114784          year\n",
       "993       8  0.092710          year\n",
       "993       9  0.203079          year\n",
       "993      10  0.181005          year\n",
       "993      18  0.150102          year\n",
       "994       6  0.092030      year old\n",
       "994       8  0.674886      year old\n",
       "994      10  0.214737      year old\n",
       "995       3  0.165297          yell\n",
       "995       4  0.537215          yell\n",
       "995      17  0.289270          yell\n",
       "996       1  0.136762          yelp\n",
       "996       5  0.656458          yelp\n",
       "996       7  0.027352          yelp\n",
       "996      10  0.136762          yelp\n",
       "997      16  0.964566     yesterday\n",
       "\n",
       "[2226 rows x 3 columns], R=30, lambda_step=0.01, plot_opts={'xlab': 'PC1', 'ylab': 'PC2'}, topic_order=[17, 8, 9, 11, 6, 10, 15, 14, 2, 12, 4, 13, 1, 16, 20, 3, 5, 7, 18, 19])"
      ]
     },
     "execution_count": 36,
     "metadata": {},
     "output_type": "execute_result"
    }
   ],
   "source": [
    "pyLDAvis.enable_notebook()\n",
    "vis = pyLDAvis.sklearn.prepare(lda, cv_features ,tf_vectorizer)\n",
    "vis"
   ]
  },
  {
   "cell_type": "code",
   "execution_count": 43,
   "metadata": {
    "collapsed": false
   },
   "outputs": [
    {
     "data": {
      "text/plain": [
       "array([6, 6, 6, ..., 6, 6, 6])"
      ]
     },
     "execution_count": 43,
     "metadata": {},
     "output_type": "execute_result"
    }
   ],
   "source": [
    "from sklearn.cluster import KMeans\n",
    "# Kmeans clustering\n",
    "num_clusters = 7\n",
    "km = KMeans(n_clusters=num_clusters, max_iter=1000)\n",
    "km.fit(cv_features)\n",
    "km.labels_.tolist()\n"
   ]
  },
  {
   "cell_type": "code",
   "execution_count": 48,
   "metadata": {
    "collapsed": false
   },
   "outputs": [
    {
     "name": "stdout",
     "output_type": "stream",
     "text": [
      "Top terms per cluster:\n",
      "Cluster 0: wonder art felt friend relax feel schedul experi compani definit\n",
      "Cluster 1: hotel room hollywood planet shop experi view work boyfriend know\n",
      "Cluster 2: steak medium server brought check manag follow easili cook eat\n",
      "Cluster 3: burrito steak fish halibut larg tri sauc big fat pull pork\n",
      "Cluster 4: locat potato seafood season serv corn spici chicken combo garden\n",
      "Cluster 5: tabl order menu seat bar wait peopl ask look server\n",
      "Cluster 6: friendli best amaz order alway custom use littl tast experi\n"
     ]
    }
   ],
   "source": [
    "print(\"Top terms per cluster:\")\n",
    "order_centroids = km.cluster_centers_.argsort()[:, ::-1]\n",
    "terms = tf_vectorizer.get_feature_names()\n",
    "for i in range(num_clusters):\n",
    "    top_ten_words = [terms[ind] for ind in order_centroids[i, :10]]\n",
    "    print(\"Cluster {}: {}\".format(i, ' '.join(top_ten_words)))"
   ]
  },
  {
   "cell_type": "code",
   "execution_count": 50,
   "metadata": {
    "collapsed": true
   },
   "outputs": [],
   "source": [
    "def Sentiment(x):\n",
    "    if x < 3:\n",
    "        return 0\n",
    "    else:\n",
    "        return 1\n",
    "    \n",
    "business_review['sentiments']=business_review['r.stars'].map(Sentiment)"
   ]
  },
  {
   "cell_type": "code",
   "execution_count": 51,
   "metadata": {
    "collapsed": false
   },
   "outputs": [],
   "source": [
    "from sklearn.cross_validation import train_test_split\n",
    "xtrain, xval, ytrain, yval = train_test_split(business_review['r.text'],business_review['sentiments'] , test_size=0.2, random_state=5)"
   ]
  },
  {
   "cell_type": "code",
   "execution_count": 53,
   "metadata": {
    "collapsed": false
   },
   "outputs": [
    {
     "name": "stdout",
     "output_type": "stream",
     "text": [
      "('Dimensions for countvector are : ', (2116, 1000))\n"
     ]
    }
   ],
   "source": [
    "no_features=1000\n",
    "# LDA can uses raw term counts since LDA is a probabilistic graphical model\n",
    "tf_vectorizer = CountVectorizer(ngram_range=(1,2),max_df=0.4,min_df=10, max_features=no_features, stop_words='english')\n",
    "cv_train_features = tf_vectorizer.fit_transform(xtrain)\n",
    "cv_test_features=tf_vectorizer.transform(xval)\n",
    "tf_feature_names = tf_vectorizer.get_feature_names()\n",
    "print(\"Dimensions for countvector are : \",cv_features.shape)\n",
    "#print(cv_features.toarray())"
   ]
  },
  {
   "cell_type": "code",
   "execution_count": 64,
   "metadata": {
    "collapsed": false
   },
   "outputs": [
    {
     "data": {
      "text/plain": [
       "array([[ 0.05      ,  0.05      ,  0.05      , ...,  0.05      ,\n",
       "         9.66881333,  0.05      ],\n",
       "       [ 0.05      ,  0.05      ,  0.05      , ...,  0.05      ,\n",
       "         0.05      ,  0.05      ],\n",
       "       [ 0.05      ,  0.05      ,  0.05      , ...,  0.05      ,\n",
       "        12.63366851,  0.05      ],\n",
       "       ...,\n",
       "       [ 0.05      ,  0.05      ,  0.05      , ...,  0.05      ,\n",
       "         0.05      ,  0.05      ],\n",
       "       [ 0.05      ,  0.05      ,  0.05      , ...,  4.27513437,\n",
       "         0.05      ,  0.05      ],\n",
       "       [ 0.05      ,  0.05      ,  0.05      , ...,  0.05      ,\n",
       "         0.05      ,  0.05      ]])"
      ]
     },
     "execution_count": 64,
     "metadata": {},
     "output_type": "execute_result"
    }
   ],
   "source": [
    "from sklearn.decomposition import LatentDirichletAllocation\n",
    "\n",
    "categories=20\n",
    "lda=LatentDirichletAllocation(categories,max_iter=20, learning_method='online',learning_offset=50.,random_state=0)\n",
    "train=lda.fit_transform(cv_train_features)\n",
    "train"
   ]
  },
  {
   "cell_type": "code",
   "execution_count": 68,
   "metadata": {
    "collapsed": false
   },
   "outputs": [
    {
     "data": {
      "text/plain": [
       "array([[ 0.05      ,  0.05      ,  0.05      , ...,  0.05      ,\n",
       "         0.05      ,  0.05      ],\n",
       "       [ 6.73257728,  0.05      ,  0.05      , ...,  0.05      ,\n",
       "         0.05      ,  0.05      ],\n",
       "       [ 7.32853334,  0.05      ,  6.74433456, ...,  0.05      ,\n",
       "         0.05      ,  0.05      ],\n",
       "       ...,\n",
       "       [ 0.05      ,  0.05      ,  2.98850601, ...,  4.08536603,\n",
       "         0.05      ,  0.05      ],\n",
       "       [ 0.05      ,  0.05      ,  3.0324894 , ...,  0.05      ,\n",
       "         0.05      ,  7.0675106 ],\n",
       "       [ 0.05      ,  0.05      ,  0.05      , ...,  0.05      ,\n",
       "        11.37538364,  0.05      ]])"
      ]
     },
     "execution_count": 68,
     "metadata": {},
     "output_type": "execute_result"
    }
   ],
   "source": [
    "categories=20\n",
    "lda1=lda.transform(cv_test_features)\n",
    "lda1"
   ]
  },
  {
   "cell_type": "code",
   "execution_count": 69,
   "metadata": {
    "collapsed": false
   },
   "outputs": [
    {
     "name": "stdout",
     "output_type": "stream",
     "text": [
      "('Dimensions for train tfidf vector are : ', (2116, 2249))\n"
     ]
    }
   ],
   "source": [
    "# Building a Tfid vector for frequency count of each word\n",
    "tfidf=TfidfVectorizer(min_df=10,ngram_range=(1,2))\n",
    "x_train_features = tfidf.fit_transform(business_review['r.text'])\n",
    "tf_train_features_names = tfidf.get_feature_names()\n",
    "print(\"Dimensions for train tfidf vector are : \",x_train_features.shape)"
   ]
  },
  {
   "cell_type": "code",
   "execution_count": 70,
   "metadata": {
    "collapsed": false
   },
   "outputs": [],
   "source": [
    "### Get Similarity Scores using cosine similarity\n",
    "from sklearn.metrics.pairwise import cosine_similarity\n",
    "sim_unigram=cosine_similarity(x_train_features)"
   ]
  },
  {
   "cell_type": "code",
   "execution_count": 72,
   "metadata": {
    "collapsed": false
   },
   "outputs": [],
   "source": [
    "def get_similar_articles(x):\n",
    "    return \",\".join(business_review['r.text'].loc[x.argsort()[-5:-1]])\n",
    "business_review['similar_articles_unigram']=[get_similar_articles(x) for x in sim_unigram]"
   ]
  },
  {
   "cell_type": "code",
   "execution_count": 76,
   "metadata": {
    "collapsed": false
   },
   "outputs": [
    {
     "data": {
      "text/plain": [
       "u'interest make money recommend extrem measur necessari kept push test inject hospit surgeri warrant vet assist front desk kept tri push expens procedur knew tri scam pay visit x ray reject recommend pet fine upset stomach fine next morn never follow next see pet okay disappoint awar'"
      ]
     },
     "execution_count": 76,
     "metadata": {},
     "output_type": "execute_result"
    }
   ],
   "source": [
    "business_review['r.text'].str.strip()[3]"
   ]
  },
  {
   "cell_type": "code",
   "execution_count": 77,
   "metadata": {
    "collapsed": false
   },
   "outputs": [
    {
     "data": {
      "text/plain": [
       "[u'READI LOOK VET TREAT ANIM COMPASS RESPECT OWNER X MONTH OLD PUPPI SICK DIARRHEA RESULT VACCIN SEVER VISIT PAY LAB FEE RECOMMEND FOLLOW VISIT PUPPI GET BETTER EVERI ANOTH TREATMENT DOG SICK APPROACH DIAGNOSI RATHER SHOTGUN APPROACH THOUGH PAID HANDSOM DIAGNOSI QUICK UPDAT SINC STOP COME DOG HEALTHI PROVID SOLID INFORM VET UPSET CLINIC FEEL TOOK ADVANTAG IGNOR DOG OWNERSHIP SEEM SAW DOLLAR SIGN SAD AWAY PET,READI LOOK VET TREAT ANIM COMPASS RESPECT OWNER X MONTH OLD PUPPI SICK DIARRHEA RESULT VACCIN SEVER VISIT PAY LAB FEE RECOMMEND FOLLOW VISIT PUPPI GET BETTER EVERI ANOTH TREATMENT DOG SICK APPROACH DIAGNOSI RATHER SHOTGUN APPROACH THOUGH PAID HANDSOM DIAGNOSI QUICK UPDAT SINC STOP COME DOG HEALTHI PROVID SOLID INFORM VET UPSET CLINIC FEEL TOOK ADVANTAG IGNOR DOG OWNERSHIP SEEM SAW DOLLAR SIGN SAD AWAY PET,READI LOOK VET TREAT ANIM COMPASS RESPECT OWNER X MONTH OLD PUPPI SICK DIARRHEA RESULT VACCIN SEVER VISIT PAY LAB FEE RECOMMEND FOLLOW VISIT PUPPI GET BETTER EVERI ANOTH TREATMENT DOG SICK APPROACH DIAGNOSI RATHER SHOTGUN APPROACH THOUGH PAID HANDSOM DIAGNOSI QUICK UPDAT SINC STOP COME DOG HEALTHI PROVID SOLID INFORM VET UPSET CLINIC FEEL TOOK ADVANTAG IGNOR DOG OWNERSHIP SEEM SAW DOLLAR SIGN SAD AWAY PET,INTEREST MAKE MONEY RECOMMEND EXTREM MEASUR NECESSARI KEPT PUSH TEST INJECT HOSPIT SURGERI WARRANT VET ASSIST FRONT DESK KEPT TRI PUSH EXPENS PROCEDUR KNEW TRI SCAM PAY VISIT X RAY REJECT RECOMMEND PET FINE UPSET STOMACH FINE NEXT MORN NEVER FOLLOW NEXT SEE PET OKAY DISAPPOINT AWAR']"
      ]
     },
     "execution_count": 77,
     "metadata": {},
     "output_type": "execute_result"
    }
   ],
   "source": [
    "business_review['similar_articles_unigram'].str.upper().str.strip().str.split(\"\\n\")[3]"
   ]
  },
  {
   "cell_type": "code",
   "execution_count": 91,
   "metadata": {
    "collapsed": false
   },
   "outputs": [
    {
     "data": {
      "text/html": [
       "<div>\n",
       "<table border=\"1\" class=\"dataframe\">\n",
       "  <thead>\n",
       "    <tr style=\"text-align: right;\">\n",
       "      <th></th>\n",
       "      <th>b.Bid</th>\n",
       "      <th>c.name</th>\n",
       "      <th>r.date</th>\n",
       "      <th>r.rid</th>\n",
       "      <th>r.stars</th>\n",
       "      <th>r.text</th>\n",
       "      <th>r.useful</th>\n",
       "      <th>Topic</th>\n",
       "    </tr>\n",
       "  </thead>\n",
       "  <tbody>\n",
       "    <tr>\n",
       "      <th>0</th>\n",
       "      <td>alG1fb1kl2vmT8s34jbbHg</td>\n",
       "      <td>Beauty &amp; Spas</td>\n",
       "      <td>2015-09-05</td>\n",
       "      <td>eShfPWENUmZ9sP7fstPt7Q</td>\n",
       "      <td>5</td>\n",
       "      <td>haircut cool atmospher peopl fair thorough lis...</td>\n",
       "      <td>1</td>\n",
       "      <td>8</td>\n",
       "    </tr>\n",
       "    <tr>\n",
       "      <th>1</th>\n",
       "      <td>alG1fb1kl2vmT8s34jbbHg</td>\n",
       "      <td>Hair Salons</td>\n",
       "      <td>2015-09-05</td>\n",
       "      <td>eShfPWENUmZ9sP7fstPt7Q</td>\n",
       "      <td>5</td>\n",
       "      <td>haircut cool atmospher peopl fair thorough lis...</td>\n",
       "      <td>1</td>\n",
       "      <td>8</td>\n",
       "    </tr>\n",
       "    <tr>\n",
       "      <th>2</th>\n",
       "      <td>s8PwBK300SvyJ-dxL-FOpg</td>\n",
       "      <td>Veterinarians</td>\n",
       "      <td>2016-09-03</td>\n",
       "      <td>HK53OvBgibiu7_v1VQK5wA</td>\n",
       "      <td>1</td>\n",
       "      <td>interest make money recommend extrem measur ne...</td>\n",
       "      <td>1</td>\n",
       "      <td>5</td>\n",
       "    </tr>\n",
       "    <tr>\n",
       "      <th>3</th>\n",
       "      <td>s8PwBK300SvyJ-dxL-FOpg</td>\n",
       "      <td>Pets</td>\n",
       "      <td>2016-09-03</td>\n",
       "      <td>HK53OvBgibiu7_v1VQK5wA</td>\n",
       "      <td>1</td>\n",
       "      <td>interest make money recommend extrem measur ne...</td>\n",
       "      <td>1</td>\n",
       "      <td>5</td>\n",
       "    </tr>\n",
       "    <tr>\n",
       "      <th>4</th>\n",
       "      <td>4Bw9XffSa0AMy2SrNCS2KA</td>\n",
       "      <td>Middle Eastern</td>\n",
       "      <td>2010-06-02</td>\n",
       "      <td>VQR9u5gWigPQqttg12zo-A</td>\n",
       "      <td>5</td>\n",
       "      <td>sababa move five statu strictli base falafel p...</td>\n",
       "      <td>2</td>\n",
       "      <td>0</td>\n",
       "    </tr>\n",
       "    <tr>\n",
       "      <th>5</th>\n",
       "      <td>4Bw9XffSa0AMy2SrNCS2KA</td>\n",
       "      <td>Kosher</td>\n",
       "      <td>2010-06-02</td>\n",
       "      <td>VQR9u5gWigPQqttg12zo-A</td>\n",
       "      <td>5</td>\n",
       "      <td>sababa move five statu strictli base falafel p...</td>\n",
       "      <td>2</td>\n",
       "      <td>0</td>\n",
       "    </tr>\n",
       "    <tr>\n",
       "      <th>6</th>\n",
       "      <td>4Bw9XffSa0AMy2SrNCS2KA</td>\n",
       "      <td>Falafel</td>\n",
       "      <td>2010-06-02</td>\n",
       "      <td>VQR9u5gWigPQqttg12zo-A</td>\n",
       "      <td>5</td>\n",
       "      <td>sababa move five statu strictli base falafel p...</td>\n",
       "      <td>2</td>\n",
       "      <td>0</td>\n",
       "    </tr>\n",
       "    <tr>\n",
       "      <th>7</th>\n",
       "      <td>4Bw9XffSa0AMy2SrNCS2KA</td>\n",
       "      <td>Mediterranean</td>\n",
       "      <td>2010-06-02</td>\n",
       "      <td>VQR9u5gWigPQqttg12zo-A</td>\n",
       "      <td>5</td>\n",
       "      <td>sababa move five statu strictli base falafel p...</td>\n",
       "      <td>2</td>\n",
       "      <td>0</td>\n",
       "    </tr>\n",
       "    <tr>\n",
       "      <th>8</th>\n",
       "      <td>4Bw9XffSa0AMy2SrNCS2KA</td>\n",
       "      <td>Restaurants</td>\n",
       "      <td>2010-06-02</td>\n",
       "      <td>VQR9u5gWigPQqttg12zo-A</td>\n",
       "      <td>5</td>\n",
       "      <td>sababa move five statu strictli base falafel p...</td>\n",
       "      <td>2</td>\n",
       "      <td>0</td>\n",
       "    </tr>\n",
       "    <tr>\n",
       "      <th>9</th>\n",
       "      <td>BNubIia7rJAqSRxioUZGxg</td>\n",
       "      <td>Restaurants</td>\n",
       "      <td>2013-07-08</td>\n",
       "      <td>vLCqQ50Cucf0LcDzKtk4iA</td>\n",
       "      <td>5</td>\n",
       "      <td>lao thai curri amaz mani dish excel seat side ...</td>\n",
       "      <td>1</td>\n",
       "      <td>0</td>\n",
       "    </tr>\n",
       "  </tbody>\n",
       "</table>\n",
       "</div>"
      ],
      "text/plain": [
       "                    b.Bid           c.name      r.date  \\\n",
       "0  alG1fb1kl2vmT8s34jbbHg    Beauty & Spas  2015-09-05   \n",
       "1  alG1fb1kl2vmT8s34jbbHg      Hair Salons  2015-09-05   \n",
       "2  s8PwBK300SvyJ-dxL-FOpg    Veterinarians  2016-09-03   \n",
       "3  s8PwBK300SvyJ-dxL-FOpg             Pets  2016-09-03   \n",
       "4  4Bw9XffSa0AMy2SrNCS2KA   Middle Eastern  2010-06-02   \n",
       "5  4Bw9XffSa0AMy2SrNCS2KA           Kosher  2010-06-02   \n",
       "6  4Bw9XffSa0AMy2SrNCS2KA          Falafel  2010-06-02   \n",
       "7  4Bw9XffSa0AMy2SrNCS2KA    Mediterranean  2010-06-02   \n",
       "8  4Bw9XffSa0AMy2SrNCS2KA      Restaurants  2010-06-02   \n",
       "9  BNubIia7rJAqSRxioUZGxg      Restaurants  2013-07-08   \n",
       "\n",
       "                    r.rid  r.stars  \\\n",
       "0  eShfPWENUmZ9sP7fstPt7Q        5   \n",
       "1  eShfPWENUmZ9sP7fstPt7Q        5   \n",
       "2  HK53OvBgibiu7_v1VQK5wA        1   \n",
       "3  HK53OvBgibiu7_v1VQK5wA        1   \n",
       "4  VQR9u5gWigPQqttg12zo-A        5   \n",
       "5  VQR9u5gWigPQqttg12zo-A        5   \n",
       "6  VQR9u5gWigPQqttg12zo-A        5   \n",
       "7  VQR9u5gWigPQqttg12zo-A        5   \n",
       "8  VQR9u5gWigPQqttg12zo-A        5   \n",
       "9  vLCqQ50Cucf0LcDzKtk4iA        5   \n",
       "\n",
       "                                              r.text  r.useful  Topic  \n",
       "0  haircut cool atmospher peopl fair thorough lis...         1      8  \n",
       "1  haircut cool atmospher peopl fair thorough lis...         1      8  \n",
       "2  interest make money recommend extrem measur ne...         1      5  \n",
       "3  interest make money recommend extrem measur ne...         1      5  \n",
       "4  sababa move five statu strictli base falafel p...         2      0  \n",
       "5  sababa move five statu strictli base falafel p...         2      0  \n",
       "6  sababa move five statu strictli base falafel p...         2      0  \n",
       "7  sababa move five statu strictli base falafel p...         2      0  \n",
       "8  sababa move five statu strictli base falafel p...         2      0  \n",
       "9  lao thai curri amaz mani dish excel seat side ...         1      0  "
      ]
     },
     "execution_count": 91,
     "metadata": {},
     "output_type": "execute_result"
    }
   ],
   "source": [
    "business_review.head(10)"
   ]
  },
  {
   "cell_type": "code",
   "execution_count": 105,
   "metadata": {
    "collapsed": false
   },
   "outputs": [],
   "source": [
    "for index, row in business_review.iterrows():\n",
    "    yelp_graph.run(''' MATCH (b:business{Bid:$business_id})\n",
    "    MERGE (b)-[h:of_topic]->(t:topic {topic:$topic_name})\n",
    "    ''', parameters = {'business_id': row['b.Bid'], 'topic_name': row['Topic']})"
   ]
  },
  {
   "cell_type": "code",
   "execution_count": null,
   "metadata": {
    "collapsed": true
   },
   "outputs": [],
   "source": []
  }
 ],
 "metadata": {
  "kernelspec": {
   "display_name": "Python 2",
   "language": "python",
   "name": "python2"
  },
  "language_info": {
   "codemirror_mode": {
    "name": "ipython",
    "version": 2
   },
   "file_extension": ".py",
   "mimetype": "text/x-python",
   "name": "python",
   "nbconvert_exporter": "python",
   "pygments_lexer": "ipython2",
   "version": "2.7.11"
  }
 },
 "nbformat": 4,
 "nbformat_minor": 0
}
